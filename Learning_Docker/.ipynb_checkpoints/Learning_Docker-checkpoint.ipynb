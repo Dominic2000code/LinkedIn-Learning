{
 "cells": [
  {
   "cell_type": "markdown",
   "id": "5341ced1",
   "metadata": {},
   "source": [
    "\n",
    "# Learning Docker\n",
    "**Instructor:** Arthur Ulfeldt\n",
    "\n",
    "Docker is the next step beyond virtualization. A Docker image contains everything it needs to run, independent of the Linux server on which it lives: a copy of the operating system, a database, code, configuration files, dependencies, and so on. Images can also be packaged and shared with other Docker admins. Arthur Ulfeldt uses Docker to run complex systems with millions of users and hundreds of containers. Here, he shares his knowledge with you. He introduces the basics of Docker, including its containers, Dockerfiles (or base images), and capabilities for networking, data management, infrastructure optimization, and more. Watch and learn how to build your own containers, as well as how to network and link containers."
   ]
  },
  {
   "cell_type": "markdown",
   "id": "6290ad0f",
   "metadata": {},
   "source": [
    "### What is Docker?\n",
    "* Docker carves up a computer into sealed containers that run your code\n",
    "* These containers are designed to be portable\n",
    "* Gets the code to and from your computers\n",
    "* Docker builds these containers for you, and also does the work of getting them to and from your systems\n",
    "* Docker is also a social platform for you to find and share containers, which are different from virtual machinest Do\n",
    "* Docker is:\n",
    "    * A client program named Docker\n",
    "    * A command you type at the terminal\n",
    "    * A server program that manages a Linux system\n",
    "    * A program that builds containers from code\n",
    "    * A service that distributes containers \n",
    "    * A company that makes containers\n",
    "\n",
    "### What is a Container?\n",
    "* A **container** is a self-contained, sealed unit of software\n",
    "* It contains everything in it that is required to run the code\n",
    "* Includes batteries and operating system\n",
    "* A container includes:\n",
    "    * Code\n",
    "    * Configs\n",
    "    * Processes\n",
    "    * Networking\n",
    "    * Dependencies\n",
    "    * Operating system \n",
    "\n",
    "To run Docker:\n",
    "* Open Docker Desktop\n",
    "* Sign in and wait for Docker to fully connect\n",
    "* Run command `docker` in terminal\n",
    "* `docker run hello-world`"
   ]
  },
  {
   "cell_type": "markdown",
   "id": "f580cf59",
   "metadata": {},
   "source": [
    "### The Docker Flow: Images to Containers\n",
    "* A Docker **Image** is every file that makes up just enough of the operating system to do what you need to do.\n",
    "* Traditionally you'd install a whole operating system with everything for each application you do. With Docker, you pair it way down so that you have a l ittle container with just enough enough of the operating system to do what you need to do, and you can have lots and lots of these efficiently on a computer\n",
    "* Command to look into your Docker images is: `docker images`\n",
    "* You can always refer to a particular image by the combination of its name and its tag (example: `ubuntu:latest`) in any Docker command or you can refer to it by its number (image id). \n",
    "* The `docker run` command takes an image and turns it into a living running container with a process in it that's doing something\n",
    "* **`-ti`** stands for terminal interactive; causes it to have a full terminal within the image so that you can run the shell and get things like tab completion and formatting to work correctly\n",
    "* **`docker run -ti ubuntu:latest bash`**\n",
    "* `docker run` + `-ti` + which image to run this in + what would we like to do?\n",
    "* To exit, either run command `exit` or press Ctrl + D\n",
    "* `docker ps` (in separate terminal) to take a look at images from an outside perspective\n",
    "* `docker ps --format $FORMAT$`\n",
    "* **The container has an ID that is different from the image ID** we saw before.\n",
    "\n",
    "### What makes Docker different from running things on virtual machines or real computers?\n",
    "* When you're inside a container, you start from an image, and that image is fixed-- it doesn't change\n",
    "* When I make a container from an image, I don't change the image \n",
    "* **`touch`** command makes empty, blank files: ie `touch MY_FILE_HERE`\n",
    "\n",
    "\n",
    "* `docker run -ti ubuntu:latest bash`"
   ]
  },
  {
   "cell_type": "code",
   "execution_count": null,
   "id": "ee78ecf6",
   "metadata": {},
   "outputs": [],
   "source": []
  },
  {
   "cell_type": "code",
   "execution_count": null,
   "id": "43ce7c71",
   "metadata": {},
   "outputs": [],
   "source": []
  },
  {
   "cell_type": "code",
   "execution_count": null,
   "id": "e48fc44c",
   "metadata": {},
   "outputs": [],
   "source": []
  },
  {
   "cell_type": "code",
   "execution_count": null,
   "id": "17ce0ad9",
   "metadata": {},
   "outputs": [],
   "source": []
  },
  {
   "cell_type": "code",
   "execution_count": null,
   "id": "d5031036",
   "metadata": {},
   "outputs": [],
   "source": []
  }
 ],
 "metadata": {
  "kernelspec": {
   "display_name": "Python 3",
   "language": "python",
   "name": "python3"
  },
  "language_info": {
   "codemirror_mode": {
    "name": "ipython",
    "version": 3
   },
   "file_extension": ".py",
   "mimetype": "text/x-python",
   "name": "python",
   "nbconvert_exporter": "python",
   "pygments_lexer": "ipython3",
   "version": "3.8.8"
  }
 },
 "nbformat": 4,
 "nbformat_minor": 5
}
