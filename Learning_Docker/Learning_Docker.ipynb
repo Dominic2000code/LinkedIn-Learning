{
 "cells": [
  {
   "cell_type": "markdown",
   "id": "896c6228",
   "metadata": {},
   "source": [
    "\n",
    "# Learning Docker\n",
    "**Instructor:** Arthur Ulfeldt\n",
    "\n",
    "Docker is the next step beyond virtualization. A Docker image contains everything it needs to run, independent of the Linux server on which it lives: a copy of the operating system, a database, code, configuration files, dependencies, and so on. Images can also be packaged and shared with other Docker admins. Arthur Ulfeldt uses Docker to run complex systems with millions of users and hundreds of containers. Here, he shares his knowledge with you. He introduces the basics of Docker, including its containers, Dockerfiles (or base images), and capabilities for networking, data management, infrastructure optimization, and more. Watch and learn how to build your own containers, as well as how to network and link containers."
   ]
  },
  {
   "cell_type": "markdown",
   "id": "f737bb76",
   "metadata": {},
   "source": [
    "### What is Docker?\n",
    "* Docker carves up a computer into sealed containers that run your code\n",
    "* These containers are designed to be portable\n",
    "* Gets the code to and from your computers\n",
    "* Docker builds these containers for you, and also does the work of getting them to and from your systems\n",
    "* Docker is also a social platform for you to find and share containers, which are different from virtual machinest Do\n",
    "* Docker is:\n",
    "    * A client program named Docker\n",
    "    * A command you type at the terminal\n",
    "    * A server program that manages a Linux system\n",
    "    * A program that builds containers from code\n",
    "    * A service that distributes containers \n",
    "    * A company that makes containers\n",
    "\n",
    "### What is a Container?\n",
    "* A **container** is a self-contained, sealed unit of software\n",
    "* It contains everything in it that is required to run the code\n",
    "* Includes batteries and operating system\n",
    "* A container includes:\n",
    "    * Code\n",
    "    * Configs\n",
    "    * Processes\n",
    "    * Networking\n",
    "    * Dependencies\n",
    "    * Operating system \n",
    "\n"
   ]
  },
  {
   "cell_type": "code",
   "execution_count": null,
   "id": "594c9763",
   "metadata": {},
   "outputs": [],
   "source": []
  },
  {
   "cell_type": "code",
   "execution_count": null,
   "id": "1074c077",
   "metadata": {},
   "outputs": [],
   "source": []
  },
  {
   "cell_type": "code",
   "execution_count": null,
   "id": "180d9815",
   "metadata": {},
   "outputs": [],
   "source": []
  },
  {
   "cell_type": "code",
   "execution_count": null,
   "id": "692b758d",
   "metadata": {},
   "outputs": [],
   "source": []
  },
  {
   "cell_type": "code",
   "execution_count": null,
   "id": "f6d40c2c",
   "metadata": {},
   "outputs": [],
   "source": []
  },
  {
   "cell_type": "code",
   "execution_count": null,
   "id": "d7bebecc",
   "metadata": {},
   "outputs": [],
   "source": []
  }
 ],
 "metadata": {
  "kernelspec": {
   "display_name": "Python 3",
   "language": "python",
   "name": "python3"
  },
  "language_info": {
   "codemirror_mode": {
    "name": "ipython",
    "version": 3
   },
   "file_extension": ".py",
   "mimetype": "text/x-python",
   "name": "python",
   "nbconvert_exporter": "python",
   "pygments_lexer": "ipython3",
   "version": "3.8.8"
  }
 },
 "nbformat": 4,
 "nbformat_minor": 5
}
