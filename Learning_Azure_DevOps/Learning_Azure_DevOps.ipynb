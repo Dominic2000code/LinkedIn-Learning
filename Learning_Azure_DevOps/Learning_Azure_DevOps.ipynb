{
 "cells": [
  {
   "cell_type": "markdown",
   "id": "c3ddf536",
   "metadata": {},
   "source": [
    "# LinkedIn Learning: Learning Azure DevOps\n",
    "**Instructor:** Walt Rischer, Programmer, UI Designer, Staff Instructor @LinkedIn Learning\n",
    "\n",
    "**Intro:** Azure DevOps is a bundle of services to help developers ship high-quality products faster. In this course, instructor Walt Ritscher teaches you everything you need to get up and running using this DevOps solution. Walt gives you an overview of the Azure DevOps services, then explains how to create projects and add users to organizations or teams. He presents a quick tour of Azure Boards, the hub for managing software projects, then describes how to use work items, backlogs, sprints, Kanban boards, and more. Walt shows you how Azure Repos provides a place to capture every team member’s source code on the Microsoft cloud servers. He walks you through the parts of Azure Repos and how to manage what each part does. Walt explains the parts and features of Azure Pipelines, the set of services that automate your application build and deployment phases. He concludes with different extensions you can add to DevOps, including Slack, Marketplace, and Persona.\n"
   ]
  },
  {
   "cell_type": "markdown",
   "id": "b450ee81",
   "metadata": {},
   "source": [
    "**Automate Everything: Integration**\n",
    "\n",
    "Creating software with a team requires a set of tools that help plan the project, collaborate on code, run test cases, and then build and deploy the code efficiently. Software services tend to bundle these services together in what are called *DevOps Suites*. Here we are exploring at high altitude, so there are no practice exercises or follow-along walk-throughs."
   ]
  },
  {
   "cell_type": "markdown",
   "id": "90bb76ec",
   "metadata": {},
   "source": [
    "## DevOps Principles\n",
    "* Shared planning \n",
    "* Shared code base\n",
    "* Continuous integration\n",
    "* Test-driven techniques\n",
    "* Automated deployment\n",
    "\n",
    "\n",
    "DevOps emphasizes collaboration between all parts of the IT organization and the continuous delivery of software.The range of DevOps tools is growing. GitHub offers tools similar to Microsoft's Azure DevOps."
   ]
  },
  {
   "cell_type": "markdown",
   "id": "9794f9df",
   "metadata": {},
   "source": [
    "### Suite of Services\n",
    "* **Azure Boards:** the service for planning and tracking work; crate features, assign tasks to team members, do sprint planning, and track bugs.\n",
    "* **Azure Repos:** the shared integrated source control system\n",
    "* **Azure Pipelines:** provides services to automate your build and deployment processes\n",
    "* **Azure Test Plans:** automate running test cases \n",
    "* **Azure Artifacts:** think of this as the way to manage dependencies in your code base; use artifacts to build a combined feed of all dependencies in your organization, including your private proprietary packages. Then you can work with your artifacts as a single source of dependencies."
   ]
  },
  {
   "cell_type": "markdown",
   "id": "706ebc96",
   "metadata": {},
   "source": [
    "Azure DevOps services are in the cloud\n",
    "\n",
    "#### Access Points\n",
    "* Azure DevOps Web portal\n",
    "* Azure DevOps command line \n",
    "* Visual Studio and Visual Studio Code editors\n",
    "\n",
    "### Azure Command-Line Interface (CLI)\n",
    "* Provides hooks into Azure\n",
    "* A popular way to do admin actions with your Azure services \n",
    "* Can be installed in Windows, MacOS, and Linux environments\n",
    "* First you need to install the Azure CLI itself at: https://docs.microsoft.com/en-us/cli/azure/install-azure-cli\n",
    "* Once you have access to Azure, but also need to install the DevOps extension into the Azure CLI\n",
    "    * To run this commands from Windows terminal: **`az extension add --name azure-devops`**\n",
    "        * `az` is the command to work with Azure\n",
    "        * adds the extension name `azure-devops`\n",
    "    * To create an Azure repo: **`az repos create --name \"example\"`\n",
    "        * Here, we're creating a repo named `example`\n",
    "        * running this from the command line will access the services and create the repos in my defauly organization, my default project, and the default source control provider\n",
    "    * **`az repos list --output table`**\n",
    "        * shows all of the repositories I have in that project\n",
    "        \n",
    "### IDEs and Editors\n",
    "* Visual Studio\n",
    "* Visual Studio Code\n",
    "* These editors have some integration with the DevOps services, however there are plenty of actions possible through the Azure DevOps web portal that cannot be accomplished in these Dev tools.\n",
    "    "
   ]
  },
  {
   "cell_type": "markdown",
   "id": "ff96e8f7",
   "metadata": {},
   "source": [
    "- **Azure DevOps Services:** Microsoft hosts all services on their servers\n",
    "- **Azure DevOps Server:** Licensing Azure DevOps Server--> Install DevOps tools on your own hardware\n",
    "- Version Control options:\n",
    "    - Git (default)\n",
    "    - Team Foundation Version Control\n",
    "- Work Item Process options:\n",
    "    - Agile\n",
    "    - Basic (default)\n",
    "    - CMMI\n",
    "    - Scrum\n",
    "    \n",
    "Azure DevOps Demo Generator "
   ]
  },
  {
   "cell_type": "markdown",
   "id": "0894b889",
   "metadata": {},
   "source": [
    "#### Access Level:\n",
    "- **Basic:** provides access to most features; assign this to people with VS Code Professional subscriptions or people that have Azure DevOps Servers CALs\n",
    "- **Stakeholder:** provides partial access to stakeholders; this could be people that are creating your backlog (don't need to have access to all of the features, they just need the ability to add work items); all stakeholder licenses are free and you can have unlimited stakeholders"
   ]
  },
  {
   "cell_type": "markdown",
   "id": "08e4dbd7",
   "metadata": {},
   "source": [
    "## Azure Boards\n",
    "* Azure Boards is the hub for managing software projects with tools for planning, work assignment, and reports. \n",
    "* Track with: **Kanban boards**, **backloags**, **team dashboards**, and more. "
   ]
  },
  {
   "cell_type": "code",
   "execution_count": null,
   "id": "d1d26281",
   "metadata": {},
   "outputs": [],
   "source": []
  },
  {
   "cell_type": "code",
   "execution_count": null,
   "id": "27be504b",
   "metadata": {},
   "outputs": [],
   "source": []
  },
  {
   "cell_type": "code",
   "execution_count": null,
   "id": "bb40080f",
   "metadata": {},
   "outputs": [],
   "source": []
  },
  {
   "cell_type": "code",
   "execution_count": null,
   "id": "23a486e9",
   "metadata": {},
   "outputs": [],
   "source": []
  },
  {
   "cell_type": "code",
   "execution_count": null,
   "id": "fb69a3a1",
   "metadata": {},
   "outputs": [],
   "source": []
  }
 ],
 "metadata": {
  "kernelspec": {
   "display_name": "Python 3",
   "language": "python",
   "name": "python3"
  },
  "language_info": {
   "codemirror_mode": {
    "name": "ipython",
    "version": 3
   },
   "file_extension": ".py",
   "mimetype": "text/x-python",
   "name": "python",
   "nbconvert_exporter": "python",
   "pygments_lexer": "ipython3",
   "version": "3.8.8"
  }
 },
 "nbformat": 4,
 "nbformat_minor": 5
}
