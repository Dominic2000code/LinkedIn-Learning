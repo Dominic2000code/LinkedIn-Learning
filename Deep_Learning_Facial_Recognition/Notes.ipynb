{
 "cells": [
  {
   "cell_type": "markdown",
   "id": "8d60f102",
   "metadata": {},
   "source": [
    "# Notes1"
   ]
  },
  {
   "cell_type": "markdown",
   "id": "f79851d1",
   "metadata": {},
   "source": [
    "* In **Transfer Learning** you just retrain the last layer of CNN (Convolutional Neural Network) of the model with your training data.\n",
    "    * As the beginning and intermediate layers, there is a lot of redundant (bottleneck) work going on which you don’t have to perform, again and again. This work has been done when these models were made and trained, this will help us save some time and computation power.\n",
    "* If you are trying to build something which works in realtime, like in a live Camera Stream then we need the speed otherwise it would be a bad user experience as each frame will be processed.\n",
    "    * There is an obvious tradeoff between speed and accuracy, so this is one of the things you should look out for while choosing your model.\n",
    "* We will be building our facial recognition model using Keras (A Python library) and MobileNetV2 (a model built by Google). Training a model of your own requires a good amount of diverse data for training.\n",
    "Just to make you aware of, In one of the Google Colabs example where they are classifying flowers, they are using at least 600 images for each flower to train the model. The model will work even for 50 photographs, but won’t be very accurate. To improve accuracy, you need more and more ‘diverse’ photographs.\n",
    "* Early days of face recognition: the basic idea of measuring face points and correcting for head rotation is still used\n",
    "* It wasn't until researchers combined neural networks with greatly increased computing power in the mid-2010s that they were able to build very highly-accurate facial recognition systems\n",
    "* The availability of graphics processing units (GPUs) and the advent of deep learning led to huge advances in face recognition \n",
    "* By reusing the same graphics processing units or GPUs that power the graphics of modern video games, researchers were able to build large neural networks that could be trained on millions of images and recognize faces withhigh accuracy \n",
    "* By 2015 key research papers from Google and Facebook demonstrated how to effectively train face recognition systems using deep learning and millions of training images"
   ]
  },
  {
   "cell_type": "code",
   "execution_count": null,
   "id": "05101f57",
   "metadata": {},
   "outputs": [],
   "source": []
  }
 ],
 "metadata": {
  "kernelspec": {
   "display_name": "Python 3.8 (tensorflow)",
   "language": "python",
   "name": "tensorflow"
  },
  "language_info": {
   "codemirror_mode": {
    "name": "ipython",
    "version": 3
   },
   "file_extension": ".py",
   "mimetype": "text/x-python",
   "name": "python",
   "nbconvert_exporter": "python",
   "pygments_lexer": "ipython3",
   "version": "3.8.12"
  }
 },
 "nbformat": 4,
 "nbformat_minor": 5
}
