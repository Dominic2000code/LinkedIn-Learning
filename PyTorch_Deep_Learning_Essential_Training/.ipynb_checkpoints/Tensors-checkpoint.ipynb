{
 "cells": [
  {
   "cell_type": "markdown",
   "id": "d84e4322",
   "metadata": {},
   "source": [
    "# Tensors"
   ]
  },
  {
   "cell_type": "code",
   "execution_count": 1,
   "id": "df38a1db",
   "metadata": {},
   "outputs": [],
   "source": [
    "import torch"
   ]
  },
  {
   "cell_type": "markdown",
   "id": "4ec638bf",
   "metadata": {},
   "source": [
    "## zeros()"
   ]
  },
  {
   "cell_type": "code",
   "execution_count": 2,
   "id": "6500ae8a",
   "metadata": {},
   "outputs": [
    {
     "data": {
      "text/plain": [
       "tensor([[0., 0., 0.],\n",
       "        [0., 0., 0.],\n",
       "        [0., 0., 0.],\n",
       "        [0., 0., 0.]])"
      ]
     },
     "execution_count": 2,
     "metadata": {},
     "output_type": "execute_result"
    }
   ],
   "source": [
    "w = torch.zeros(4, 3)\n",
    "w"
   ]
  },
  {
   "cell_type": "markdown",
   "id": "7e495681",
   "metadata": {},
   "source": [
    "## size() and shape"
   ]
  },
  {
   "cell_type": "code",
   "execution_count": 3,
   "id": "bacc44a2",
   "metadata": {},
   "outputs": [
    {
     "data": {
      "text/plain": [
       "torch.Size([4, 3])"
      ]
     },
     "execution_count": 3,
     "metadata": {},
     "output_type": "execute_result"
    }
   ],
   "source": [
    "w.size()"
   ]
  },
  {
   "cell_type": "code",
   "execution_count": 4,
   "id": "c773e691",
   "metadata": {},
   "outputs": [
    {
     "data": {
      "text/plain": [
       "torch.Size([4, 3])"
      ]
     },
     "execution_count": 4,
     "metadata": {},
     "output_type": "execute_result"
    }
   ],
   "source": [
    "w.shape"
   ]
  },
  {
   "cell_type": "markdown",
   "id": "8860220d",
   "metadata": {},
   "source": [
    "## randn() and randn_like()\n",
    "In a neural network, when you normally define the weights, we start off with random numbers from the standard normal distribution (mean of zero and standard deviation of 1). The `n` of `randn` stands for \"normal distribution.\""
   ]
  },
  {
   "cell_type": "code",
   "execution_count": 5,
   "id": "c04ee197",
   "metadata": {},
   "outputs": [
    {
     "data": {
      "text/plain": [
       "tensor([[ 1.1258, -0.3542, -1.4908],\n",
       "        [-0.1539,  0.5435, -0.7227],\n",
       "        [-0.1717,  0.0637, -0.1577],\n",
       "        [-2.1333,  0.4396,  0.2348]])"
      ]
     },
     "execution_count": 5,
     "metadata": {},
     "output_type": "execute_result"
    }
   ],
   "source": [
    "w = torch.randn(4, 3)\n",
    "w"
   ]
  },
  {
   "cell_type": "markdown",
   "id": "73134314",
   "metadata": {},
   "source": [
    "You could also use the `randn_like` function similar to `randn()` above, to create random numbers from the standard normal distribution using the size of other tensors. "
   ]
  },
  {
   "cell_type": "code",
   "execution_count": 6,
   "id": "b342b70f",
   "metadata": {},
   "outputs": [
    {
     "data": {
      "text/plain": [
       "tensor([[ 0.0334,  0.0474,  0.0027],\n",
       "        [-0.1660, -0.3348, -0.6803],\n",
       "        [-0.0807,  0.9801,  1.1186],\n",
       "        [-0.4349, -0.0200,  0.5412]])"
      ]
     },
     "execution_count": 6,
     "metadata": {},
     "output_type": "execute_result"
    }
   ],
   "source": [
    "t = torch.randn_like(w)\n",
    "t"
   ]
  },
  {
   "cell_type": "markdown",
   "id": "8cbb2ed3",
   "metadata": {},
   "source": [
    "## fill_()"
   ]
  },
  {
   "cell_type": "code",
   "execution_count": 7,
   "id": "3ea12da5",
   "metadata": {},
   "outputs": [
    {
     "data": {
      "text/plain": [
       "tensor([[1., 1., 1.],\n",
       "        [1., 1., 1.],\n",
       "        [1., 1., 1.],\n",
       "        [1., 1., 1.]])"
      ]
     },
     "execution_count": 7,
     "metadata": {},
     "output_type": "execute_result"
    }
   ],
   "source": [
    "w.fill_(1)\n",
    "w"
   ]
  },
  {
   "cell_type": "markdown",
   "id": "6531d90a",
   "metadata": {},
   "source": [
    "Note that this is different from the `ones` function because the tensor is changed in place. **In PyTorch, any operation that mutates a tensor in place has an underscore after the function or method name.**"
   ]
  },
  {
   "cell_type": "markdown",
   "id": "efb9bb81",
   "metadata": {},
   "source": [
    "## view()\n",
    "Use to reshape a tensor."
   ]
  },
  {
   "cell_type": "code",
   "execution_count": 8,
   "id": "86ddddc2",
   "metadata": {},
   "outputs": [
    {
     "data": {
      "text/plain": [
       "tensor([[1., 1., 1., 1.],\n",
       "        [1., 1., 1., 1.],\n",
       "        [1., 1., 1., 1.]])"
      ]
     },
     "execution_count": 8,
     "metadata": {},
     "output_type": "execute_result"
    }
   ],
   "source": [
    "t = w.view(3, 4)\n",
    "t"
   ]
  },
  {
   "cell_type": "markdown",
   "id": "b634fab5",
   "metadata": {},
   "source": [
    "Another way to do this without having to calculate the dimensions of the new tensor, is **to use -1 as one of the arguments.** Since we know that there are a total of 12 elements and one of the dimensions is, say, 3, we can let PyTorch figure out the other dimension."
   ]
  },
  {
   "cell_type": "code",
   "execution_count": 9,
   "id": "792a2e3a",
   "metadata": {},
   "outputs": [
    {
     "data": {
      "text/plain": [
       "tensor([[1., 1., 1., 1.],\n",
       "        [1., 1., 1., 1.],\n",
       "        [1., 1., 1., 1.]])"
      ]
     },
     "execution_count": 9,
     "metadata": {},
     "output_type": "execute_result"
    }
   ],
   "source": [
    "t = w.view(3, -1)\n",
    "t"
   ]
  },
  {
   "cell_type": "markdown",
   "id": "f470a498",
   "metadata": {},
   "source": [
    "## numpy()\n",
    "You'll often want to convert a tensor to a NumPy array \n",
    "If the Torch tensor is on the CPU, the Torch tensor and the NumPy array will share their underlying memory locations (**and changing one will change the other**)."
   ]
  },
  {
   "cell_type": "code",
   "execution_count": 10,
   "id": "01b24e1e",
   "metadata": {},
   "outputs": [
    {
     "data": {
      "text/plain": [
       "array([[1., 1., 1.],\n",
       "       [1., 1., 1.],\n",
       "       [1., 1., 1.],\n",
       "       [1., 1., 1.]], dtype=float32)"
      ]
     },
     "execution_count": 10,
     "metadata": {},
     "output_type": "execute_result"
    }
   ],
   "source": [
    "w.numpy()"
   ]
  },
  {
   "cell_type": "code",
   "execution_count": 11,
   "id": "be123f76",
   "metadata": {},
   "outputs": [
    {
     "data": {
      "text/plain": [
       "numpy.ndarray"
      ]
     },
     "execution_count": 11,
     "metadata": {},
     "output_type": "execute_result"
    }
   ],
   "source": [
    "type(w.numpy())"
   ]
  },
  {
   "cell_type": "code",
   "execution_count": null,
   "id": "fe8a3b5f",
   "metadata": {},
   "outputs": [],
   "source": []
  }
 ],
 "metadata": {
  "kernelspec": {
   "display_name": "Python 3",
   "language": "python",
   "name": "python3"
  },
  "language_info": {
   "codemirror_mode": {
    "name": "ipython",
    "version": 3
   },
   "file_extension": ".py",
   "mimetype": "text/x-python",
   "name": "python",
   "nbconvert_exporter": "python",
   "pygments_lexer": "ipython3",
   "version": "3.8.8"
  }
 },
 "nbformat": 4,
 "nbformat_minor": 5
}
