{
 "cells": [
  {
   "cell_type": "markdown",
   "id": "5f07e85a",
   "metadata": {},
   "source": [
    "Note: This notebook was created as part of Jonathan Fernandes' LinkedIn Learning course of the same name.\n",
    "\n",
    "# PyTorch Essential Training: Deep Learning"
   ]
  },
  {
   "cell_type": "markdown",
   "id": "3e0095a2",
   "metadata": {},
   "source": [
    "**Instructor:** Jonathan Fernandes\n",
    "\n",
    "PyTorch is quickly becoming one of the most popular deep learning frameworks around, as well as a must-have skill in your artificial intelligence tool kit. It's gained admiration from industry leaders due to its deep integration with Python; its integration with top cloud platforms, including Amazon SageMaker and Google Cloud Platform; and its computational graphs that can be defined on the fly. In this course, join Jonathan Fernandes as he dives into the basics of deep learning using PyTorch. Starting with a working image recognition model, he shows how the different components fit and work in tandem—from tensors, loss functions, and autograd all the way to troubleshooting a PyTorch network."
   ]
  },
  {
   "cell_type": "code",
   "execution_count": null,
   "id": "c184c5e2",
   "metadata": {},
   "outputs": [],
   "source": []
  }
 ],
 "metadata": {
  "kernelspec": {
   "display_name": "Python 3",
   "language": "python",
   "name": "python3"
  },
  "language_info": {
   "codemirror_mode": {
    "name": "ipython",
    "version": 3
   },
   "file_extension": ".py",
   "mimetype": "text/x-python",
   "name": "python",
   "nbconvert_exporter": "python",
   "pygments_lexer": "ipython3",
   "version": "3.8.8"
  }
 },
 "nbformat": 4,
 "nbformat_minor": 5
}
