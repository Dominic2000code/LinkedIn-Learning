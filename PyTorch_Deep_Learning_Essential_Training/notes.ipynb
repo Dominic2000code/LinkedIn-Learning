{
 "cells": [
  {
   "cell_type": "markdown",
   "id": "a2be5889",
   "metadata": {},
   "source": [
    "Note: This notebook was created as part of Jonathan Fernandes' LinkedIn Learning course of the same name.\n",
    "\n",
    "# PyTorch Essential Training: Deep Learning"
   ]
  },
  {
   "cell_type": "markdown",
   "id": "abc393dc",
   "metadata": {},
   "source": [
    "**Instructor:** Jonathan Fernandes\n",
    "\n",
    "PyTorch is quickly becoming one of the most popular deep learning frameworks around, as well as a must-have skill in your artificial intelligence tool kit. It's gained admiration from industry leaders due to its deep integration with Python; its integration with top cloud platforms, including Amazon SageMaker and Google Cloud Platform; and its computational graphs that can be defined on the fly. In this course, join Jonathan Fernandes as he dives into the basics of deep learning using PyTorch. Starting with a working image recognition model, he shows how the different components fit and work in tandem—from tensors, loss functions, and autograd all the way to troubleshooting a PyTorch network."
   ]
  },
  {
   "cell_type": "markdown",
   "id": "58a0be51",
   "metadata": {},
   "source": [
    "#### Background\n",
    "* Primarily developed by Facebook's AI research group\n",
    "* Very Pythonic approach\n",
    "* Flexible\n",
    "* Allows you to run computations immediately\n",
    "* Even allows you to use a Python debugger\n",
    "* Integrated with some of the biggest cloud platforms like AWS Sagemaker, Google's GCP, and Azure's ML service\n",
    "\n",
    "\n",
    "* In this notebook, we will be using Google Colab, which gives free access to GPUs\n",
    "\n",
    "* **Flattened Data:** We take a 2D image array of pixel values and \"flatten them,\" or lay them side by side to create one, long 1D array of pixels. This is called \"flattened data\" because it has been reducing from 2 dimensions down to just 1 dimension. \n",
    "* If we start off with a 28 x 28 image (for example), at the end of the flattening process, we have one long row with 784 number representing 784 pixel values.\n",
    "* You'll find that most problems are more complex than linear problems, and this is why non-linear activation functions allow the nodes to learn more complex structures in an image"
   ]
  },
  {
   "cell_type": "code",
   "execution_count": null,
   "id": "118bd494",
   "metadata": {},
   "outputs": [],
   "source": []
  },
  {
   "cell_type": "code",
   "execution_count": null,
   "id": "4f0e9423",
   "metadata": {},
   "outputs": [],
   "source": []
  },
  {
   "cell_type": "code",
   "execution_count": null,
   "id": "0b58ed6e",
   "metadata": {},
   "outputs": [],
   "source": []
  },
  {
   "cell_type": "code",
   "execution_count": null,
   "id": "6fb834b2",
   "metadata": {},
   "outputs": [],
   "source": []
  },
  {
   "cell_type": "code",
   "execution_count": null,
   "id": "8f0c79cd",
   "metadata": {},
   "outputs": [],
   "source": []
  },
  {
   "cell_type": "code",
   "execution_count": null,
   "id": "d91b0725",
   "metadata": {},
   "outputs": [],
   "source": []
  },
  {
   "cell_type": "code",
   "execution_count": null,
   "id": "79e4454e",
   "metadata": {},
   "outputs": [],
   "source": []
  },
  {
   "cell_type": "code",
   "execution_count": null,
   "id": "13aad31d",
   "metadata": {},
   "outputs": [],
   "source": []
  },
  {
   "cell_type": "code",
   "execution_count": null,
   "id": "ef80f2f0",
   "metadata": {},
   "outputs": [],
   "source": []
  },
  {
   "cell_type": "code",
   "execution_count": null,
   "id": "965e9940",
   "metadata": {},
   "outputs": [],
   "source": []
  },
  {
   "cell_type": "code",
   "execution_count": null,
   "id": "dfe4d70e",
   "metadata": {},
   "outputs": [],
   "source": []
  },
  {
   "cell_type": "code",
   "execution_count": null,
   "id": "b142af60",
   "metadata": {},
   "outputs": [],
   "source": []
  },
  {
   "cell_type": "code",
   "execution_count": null,
   "id": "adcdd46d",
   "metadata": {},
   "outputs": [],
   "source": []
  },
  {
   "cell_type": "code",
   "execution_count": null,
   "id": "e51b4ad8",
   "metadata": {},
   "outputs": [],
   "source": []
  },
  {
   "cell_type": "code",
   "execution_count": null,
   "id": "ead447c8",
   "metadata": {},
   "outputs": [],
   "source": []
  },
  {
   "cell_type": "code",
   "execution_count": null,
   "id": "77c711fd",
   "metadata": {},
   "outputs": [],
   "source": []
  },
  {
   "cell_type": "code",
   "execution_count": null,
   "id": "39854e7e",
   "metadata": {},
   "outputs": [],
   "source": []
  },
  {
   "cell_type": "code",
   "execution_count": null,
   "id": "aeec377c",
   "metadata": {},
   "outputs": [],
   "source": []
  },
  {
   "cell_type": "code",
   "execution_count": null,
   "id": "4e244d74",
   "metadata": {},
   "outputs": [],
   "source": []
  },
  {
   "cell_type": "code",
   "execution_count": null,
   "id": "dae42fd5",
   "metadata": {},
   "outputs": [],
   "source": []
  },
  {
   "cell_type": "code",
   "execution_count": null,
   "id": "d3c46164",
   "metadata": {},
   "outputs": [],
   "source": []
  }
 ],
 "metadata": {
  "kernelspec": {
   "display_name": "Python 3",
   "language": "python",
   "name": "python3"
  },
  "language_info": {
   "codemirror_mode": {
    "name": "ipython",
    "version": 3
   },
   "file_extension": ".py",
   "mimetype": "text/x-python",
   "name": "python",
   "nbconvert_exporter": "python",
   "pygments_lexer": "ipython3",
   "version": "3.8.8"
  }
 },
 "nbformat": 4,
 "nbformat_minor": 5
}
