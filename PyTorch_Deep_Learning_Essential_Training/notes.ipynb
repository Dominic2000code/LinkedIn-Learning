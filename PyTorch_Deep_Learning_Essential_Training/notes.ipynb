{
 "cells": [
  {
   "cell_type": "markdown",
   "id": "eb68ea69",
   "metadata": {},
   "source": [
    "Note: This notebook was created as part of Jonathan Fernandes' LinkedIn Learning course of the same name.\n",
    "\n",
    "# PyTorch Essential Training: Deep Learning"
   ]
  },
  {
   "cell_type": "markdown",
   "id": "ede98eed",
   "metadata": {},
   "source": [
    "**Instructor:** Jonathan Fernandes\n",
    "\n",
    "PyTorch is quickly becoming one of the most popular deep learning frameworks around, as well as a must-have skill in your artificial intelligence tool kit. It's gained admiration from industry leaders due to its deep integration with Python; its integration with top cloud platforms, including Amazon SageMaker and Google Cloud Platform; and its computational graphs that can be defined on the fly. In this course, join Jonathan Fernandes as he dives into the basics of deep learning using PyTorch. Starting with a working image recognition model, he shows how the different components fit and work in tandem—from tensors, loss functions, and autograd all the way to troubleshooting a PyTorch network."
   ]
  },
  {
   "cell_type": "markdown",
   "id": "05236f84",
   "metadata": {},
   "source": [
    "#### Background\n",
    "* Primarily developed by Facebook's AI research group\n",
    "* Very Pythonic approach\n",
    "* Flexible\n",
    "* Allows you to run computations immediately\n",
    "* Even allows you to use a Python debugger\n",
    "* Integrated with some of the biggest cloud platforms like AWS Sagemaker, Google's GCP, and Azure's ML service\n",
    "\n",
    "\n",
    "* In this notebook, we will be using Google Colab, which gives free access to GPUs\n",
    "\n",
    "* **Flattened Data:** We take a 2D image array of pixel values and \"flatten them,\" or lay them side by side to create one, long 1D array of pixels. This is called \"flattened data\" because it has been reduced from 2 dimensions down to just 1 dimension. \n",
    "* If we start off with a 28 x 28 image (for example), at the end of the flattening process, we have one long row with 784 number representing 784 pixel values.\n",
    "* You'll find that most problems are more complex than linear problems, and this is why non-linear activation functions allow the nodes to learn more complex structures in an image"
   ]
  },
  {
   "cell_type": "code",
   "execution_count": null,
   "id": "d682eacb",
   "metadata": {},
   "outputs": [],
   "source": []
  },
  {
   "cell_type": "code",
   "execution_count": null,
   "id": "348a8f6f",
   "metadata": {},
   "outputs": [],
   "source": []
  },
  {
   "cell_type": "code",
   "execution_count": null,
   "id": "bd83e270",
   "metadata": {},
   "outputs": [],
   "source": []
  },
  {
   "cell_type": "code",
   "execution_count": null,
   "id": "21747898",
   "metadata": {},
   "outputs": [],
   "source": []
  },
  {
   "cell_type": "code",
   "execution_count": null,
   "id": "2e94910a",
   "metadata": {},
   "outputs": [],
   "source": []
  },
  {
   "cell_type": "code",
   "execution_count": null,
   "id": "cc34339c",
   "metadata": {},
   "outputs": [],
   "source": []
  },
  {
   "cell_type": "code",
   "execution_count": null,
   "id": "a7052eb6",
   "metadata": {},
   "outputs": [],
   "source": []
  },
  {
   "cell_type": "code",
   "execution_count": null,
   "id": "1f37dba8",
   "metadata": {},
   "outputs": [],
   "source": []
  },
  {
   "cell_type": "code",
   "execution_count": null,
   "id": "950f8e08",
   "metadata": {},
   "outputs": [],
   "source": []
  },
  {
   "cell_type": "code",
   "execution_count": null,
   "id": "4b88d951",
   "metadata": {},
   "outputs": [],
   "source": []
  },
  {
   "cell_type": "code",
   "execution_count": null,
   "id": "8b270b0f",
   "metadata": {},
   "outputs": [],
   "source": []
  },
  {
   "cell_type": "code",
   "execution_count": null,
   "id": "8c79c5b6",
   "metadata": {},
   "outputs": [],
   "source": []
  },
  {
   "cell_type": "code",
   "execution_count": null,
   "id": "2cd46f5b",
   "metadata": {},
   "outputs": [],
   "source": []
  },
  {
   "cell_type": "code",
   "execution_count": null,
   "id": "257cbb05",
   "metadata": {},
   "outputs": [],
   "source": []
  },
  {
   "cell_type": "code",
   "execution_count": null,
   "id": "079c45fc",
   "metadata": {},
   "outputs": [],
   "source": []
  },
  {
   "cell_type": "code",
   "execution_count": null,
   "id": "7cf02123",
   "metadata": {},
   "outputs": [],
   "source": []
  },
  {
   "cell_type": "code",
   "execution_count": null,
   "id": "0b555e29",
   "metadata": {},
   "outputs": [],
   "source": []
  },
  {
   "cell_type": "code",
   "execution_count": null,
   "id": "54a54463",
   "metadata": {},
   "outputs": [],
   "source": []
  },
  {
   "cell_type": "code",
   "execution_count": null,
   "id": "77690752",
   "metadata": {},
   "outputs": [],
   "source": []
  },
  {
   "cell_type": "code",
   "execution_count": null,
   "id": "3256ada7",
   "metadata": {},
   "outputs": [],
   "source": []
  },
  {
   "cell_type": "code",
   "execution_count": null,
   "id": "957ef244",
   "metadata": {},
   "outputs": [],
   "source": []
  }
 ],
 "metadata": {
  "kernelspec": {
   "display_name": "Python 3",
   "language": "python",
   "name": "python3"
  },
  "language_info": {
   "codemirror_mode": {
    "name": "ipython",
    "version": 3
   },
   "file_extension": ".py",
   "mimetype": "text/x-python",
   "name": "python",
   "nbconvert_exporter": "python",
   "pygments_lexer": "ipython3",
   "version": "3.8.8"
  }
 },
 "nbformat": 4,
 "nbformat_minor": 5
}
