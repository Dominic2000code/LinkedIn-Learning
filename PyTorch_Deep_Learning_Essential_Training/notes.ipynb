{
 "cells": [
  {
   "cell_type": "markdown",
   "id": "eb68ea69",
   "metadata": {},
   "source": [
    "Note: This notebook was created as part of Jonathan Fernandes' LinkedIn Learning course of the same name.\n",
    "\n",
    "# PyTorch Essential Training: Deep Learning"
   ]
  },
  {
   "cell_type": "markdown",
   "id": "ede98eed",
   "metadata": {},
   "source": [
    "**Instructor:** Jonathan Fernandes\n",
    "\n",
    "PyTorch is quickly becoming one of the most popular deep learning frameworks around, as well as a must-have skill in your artificial intelligence tool kit. It's gained admiration from industry leaders due to its deep integration with Python; its integration with top cloud platforms, including Amazon SageMaker and Google Cloud Platform; and its computational graphs that can be defined on the fly. In this course, join Jonathan Fernandes as he dives into the basics of deep learning using PyTorch. Starting with a working image recognition model, he shows how the different components fit and work in tandem—from tensors, loss functions, and autograd all the way to troubleshooting a PyTorch network."
   ]
  },
  {
   "cell_type": "markdown",
   "id": "05236f84",
   "metadata": {},
   "source": [
    "#### Background\n",
    "* Primarily developed by Facebook's AI research group\n",
    "* Very Pythonic approach\n",
    "* Flexible\n",
    "* Allows you to run computations immediately\n",
    "* Even allows you to use a Python debugger\n",
    "* Integrated with some of the biggest cloud platforms like AWS Sagemaker, Google's GCP, and Azure's ML service\n",
    "\n",
    "\n",
    "* In this notebook, we will be using Google Colab, which gives free access to GPUs\n",
    "\n",
    "* **Flattened Data:** We take a 2D image array of pixel values and \"flatten them,\" or lay them side by side to create one, long 1D array of pixels. This is called \"flattened data\" because it has been reduced from 2 dimensions down to just 1 dimension. \n",
    "* If we start off with a 28 x 28 image (for example), at the end of the flattening process, we have one long row with 784 number representing 784 pixel values.\n",
    "* You'll find that most problems are more complex than linear problems, and this is why non-linear activation functions allow the nodes to learn more complex structures in an image"
   ]
  },
  {
   "cell_type": "markdown",
   "id": "92040058",
   "metadata": {},
   "source": [
    "## 2. Working with Classes and Tensors\n",
    "\n",
    "### Classes Overview\n",
    "\n",
    "```\n",
    "class FMNIST(nn.Module):\n",
    "    def __init__(self):\n",
    "        super().__init__()\n",
    "        self.fc1 = nn.Linear(784,128)\n",
    "        self.fc2 = nn.Linear(128, 64)\n",
    "        self.fc3 = nn.Linear(64, 10)\n",
    "        \n",
    "    def forward(self, x):\n",
    "        x = F.relu(self.fc1(x))\n",
    "        x = F.relu(self.fc2(x))\n",
    "        x = self.fc3(x)\n",
    "        x = F.log_softmax(x, dim=1)\n",
    "        \n",
    "        return x\n",
    "    \n",
    "model = FMNIST()\n",
    "```       "
   ]
  },
  {
   "cell_type": "markdown",
   "id": "aa2b714b",
   "metadata": {},
   "source": [
    "* When we create the class FMNIST, instead of writing all new code, the new class is to be formed initially by inheriting the attributes and methods of a previously defined base class or \"superclass\" in PyTorch.\n",
    "* This superclass is called `nn.Module`\n",
    "* This means that our class FMNIST is a **derived class or subclass**.\n",
    "* After inheriting from the `nn.Module`, we can then customize it to meet our needs.\n",
    "* **In Python OOP, whenever you create a new object, it initializes its data by calling the class's `__init__` method.** \n",
    "* You'll often find the the `__init__` is pronounced **dunder init** (dunder is short for **double underscore**)\n",
    "* Each new class you create can provide a dunder init method that specifies how to initialize an object's data attributes\n",
    "* When you call a method for a specific object, Python implicitly passes a reference to that object as the method's first argument\n",
    "* For this reason, all the methods of a class must specify at least one parameter.\n",
    "* *By convention, most Python programmers call a method's first parameter **`self`**.*\n",
    "* So, a class method must use the reference `self` to access the object's attributes and other methods.\n",
    "\n",
    "\n",
    "* Because FMNIST is a subclass of the `nn.Module`, the first thing we need to do in the dunder init method is to make a call to the `nn.Module`'s dunder init method. **We do this by using a call to the superfunction, followed by the dunder init: `super().__init__()`**\n",
    "\n",
    "* Next, declare all the layers you want to use.\n",
    "* In the example above, `fc1` = 1st fully-connected layer\n",
    "\n",
    "#### `nn.Linear()`\n",
    "* What exactly is `nn.Linear()` doing? It is creating a linear transformation in the form of:\n",
    "    * **`wx + b`**\n",
    "    * (weight)(x) + (bias)\n",
    "    * `nn.Linear` automatically creates the weight and the bias tenses \n",
    "    \n",
    "#### `forward()`\n",
    "* The forward class in PyTorch is really important: this is where you define *how* your model is going to be run: from getting the input, all the way to predicting which class the image belongs to\n",
    "* It **defines model structure, components, and order of the different layers.**\n",
    "\n",
    "\n",
    "* Many of the methods that we need (such as ReLu and softmax) have already been implemented in PyTorch and are in **`torch.nn.function`**\n",
    "* **In PyTorch nomenclature, you import `torch.nn.function` as `F`\n",
    "* How is the dunder init method different from the forward method?\n",
    "    * In the dunder init class, we have defined the fully-connected layer `fc1` has 784 nodes going to 128 nodes.\n",
    "    * In the forward method, we are defining the exact order of the different layers of the nn model.\n",
    "* Finally, we want to create an object of the MNIST class that we've just created \n",
    "* In OOP, you can do that by declaring `model = FMNIST()`"
   ]
  },
  {
   "cell_type": "markdown",
   "id": "96a79ec5",
   "metadata": {},
   "source": [
    "## Training the Network\n"
   ]
  },
  {
   "cell_type": "code",
   "execution_count": null,
   "id": "21747898",
   "metadata": {},
   "outputs": [],
   "source": []
  },
  {
   "cell_type": "code",
   "execution_count": null,
   "id": "2e94910a",
   "metadata": {},
   "outputs": [],
   "source": []
  },
  {
   "cell_type": "code",
   "execution_count": null,
   "id": "cc34339c",
   "metadata": {},
   "outputs": [],
   "source": []
  },
  {
   "cell_type": "code",
   "execution_count": null,
   "id": "a7052eb6",
   "metadata": {},
   "outputs": [],
   "source": []
  },
  {
   "cell_type": "code",
   "execution_count": null,
   "id": "1f37dba8",
   "metadata": {},
   "outputs": [],
   "source": []
  },
  {
   "cell_type": "code",
   "execution_count": null,
   "id": "950f8e08",
   "metadata": {},
   "outputs": [],
   "source": []
  },
  {
   "cell_type": "code",
   "execution_count": null,
   "id": "4b88d951",
   "metadata": {},
   "outputs": [],
   "source": []
  },
  {
   "cell_type": "code",
   "execution_count": null,
   "id": "8b270b0f",
   "metadata": {},
   "outputs": [],
   "source": []
  },
  {
   "cell_type": "code",
   "execution_count": null,
   "id": "8c79c5b6",
   "metadata": {},
   "outputs": [],
   "source": []
  },
  {
   "cell_type": "code",
   "execution_count": null,
   "id": "2cd46f5b",
   "metadata": {},
   "outputs": [],
   "source": []
  },
  {
   "cell_type": "code",
   "execution_count": null,
   "id": "257cbb05",
   "metadata": {},
   "outputs": [],
   "source": []
  },
  {
   "cell_type": "code",
   "execution_count": null,
   "id": "079c45fc",
   "metadata": {},
   "outputs": [],
   "source": []
  },
  {
   "cell_type": "code",
   "execution_count": null,
   "id": "7cf02123",
   "metadata": {},
   "outputs": [],
   "source": []
  },
  {
   "cell_type": "code",
   "execution_count": null,
   "id": "0b555e29",
   "metadata": {},
   "outputs": [],
   "source": []
  },
  {
   "cell_type": "code",
   "execution_count": null,
   "id": "54a54463",
   "metadata": {},
   "outputs": [],
   "source": []
  },
  {
   "cell_type": "code",
   "execution_count": null,
   "id": "77690752",
   "metadata": {},
   "outputs": [],
   "source": []
  },
  {
   "cell_type": "code",
   "execution_count": null,
   "id": "3256ada7",
   "metadata": {},
   "outputs": [],
   "source": []
  },
  {
   "cell_type": "code",
   "execution_count": null,
   "id": "957ef244",
   "metadata": {},
   "outputs": [],
   "source": []
  }
 ],
 "metadata": {
  "kernelspec": {
   "display_name": "Python 3",
   "language": "python",
   "name": "python3"
  },
  "language_info": {
   "codemirror_mode": {
    "name": "ipython",
    "version": 3
   },
   "file_extension": ".py",
   "mimetype": "text/x-python",
   "name": "python",
   "nbconvert_exporter": "python",
   "pygments_lexer": "ipython3",
   "version": "3.8.8"
  }
 },
 "nbformat": 4,
 "nbformat_minor": 5
}
