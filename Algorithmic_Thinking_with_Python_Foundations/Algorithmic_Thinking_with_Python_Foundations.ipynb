{
 "cells": [
  {
   "cell_type": "markdown",
   "id": "88ce413e",
   "metadata": {},
   "source": [
    "# Algorithmic Thinking with Python: Foundations\n",
    "**Instructor:** Robin Andrews\n",
    "\n",
    "The word “algorithm,” at one time the sole province of mathematics and computer science, has entered the modern vernacular because, for better or worse, algorithms have never been more important or more impactful in daily life. If you’re a developer, you need to be familiar with a wide range of algorithmic thinking in order to be able to solve new problems as they present themselves. If you’re already familiar with Python, becoming more versed in algorithmic thinking is a great way to increase your value as a developer. In this course, Robin Andrews explains how Python, because of its clarity and expressiveness, is the ideal tool for exploring algorithmic thinking. He shows you tools to help you understand the flow of algorithms, explains the brute force approach to solving algorithms, details the concepts of time and space complexity with regard to algorithm analysis, the decrease and conquer strategy, and much more."
   ]
  },
  {
   "cell_type": "markdown",
   "id": "49a05e35",
   "metadata": {},
   "source": [
    "#### Importance of Algorithmic Thinking\n",
    "- In this course, you will learn about:\n",
    "- Tools to help you understand the flow of algorithms; \n",
    "- Brute force algorithms; \n",
    "- Analysis of time and space complexity of algorithms;\n",
    "- Greedy algorithms\n",
    "- Divide and conquer strategy for problem solving"
   ]
  },
  {
   "cell_type": "markdown",
   "id": "c4321ea1",
   "metadata": {},
   "source": [
    "## 1. Warm Up\n",
    "\n",
    "### 100 doors\n",
    "- There are 100 doors in a row that are all initially closed\n",
    "- You make 100 passes by each of these doors\n",
    "- On the first pass, you visit every door in sequence and toggle its state (if the door is closed, you open it; if it is open, you close it).\n",
    "- For the second pass, you only visit every second door (doors 2, 4, 6, ...) and toggle it\n",
    "- For the third pass, you visit every third door (doors 3, 6, 9, ...), and so on until you only visit the 100th door on the 100th pass\n",
    "- **Which doors are open and which are closed after the last pass?**"
   ]
  },
  {
   "cell_type": "code",
   "execution_count": 63,
   "id": "0d02aba0",
   "metadata": {},
   "outputs": [
    {
     "name": "stdout",
     "output_type": "stream",
     "text": [
      "1,4,9,16,25,36,49,64,81,100,"
     ]
    }
   ],
   "source": [
    "doors = [False] * 101\n",
    "for i in range(1,101):\n",
    "    for j in range(i,101, i):\n",
    "        doors[j] = not doors[j]\n",
    "for i in range(101):\n",
    "    if doors[i] is True:\n",
    "        print(i, end=\",\")"
   ]
  },
  {
   "cell_type": "code",
   "execution_count": 69,
   "id": "29f1d29e",
   "metadata": {},
   "outputs": [],
   "source": [
    "def openDoors(n):\n",
    "    return int(n**0.5)"
   ]
  },
  {
   "cell_type": "markdown",
   "id": "af0a97e7",
   "metadata": {},
   "source": [
    "### Fizz Buzz\n",
    "- Fizz Buzz is a game for two or more players\n",
    "- Take turns counting aloud from 1 to 100, but:\n",
    "    - Each time you are going to say a multiple of 3, replace it with the word \"fizz\"\n",
    "    - For multiples of 5, say \"buzz\"\n",
    "    - For numbers that are multiples of both 3 and 5, say \"fizz, buzz\""
   ]
  },
  {
   "cell_type": "code",
   "execution_count": 70,
   "id": "972b624a",
   "metadata": {},
   "outputs": [
    {
     "name": "stdout",
     "output_type": "stream",
     "text": [
      "1\n",
      "2\n",
      "fizz\n",
      "4\n",
      "buzz\n",
      "fizz\n",
      "7\n",
      "8\n",
      "fizz\n",
      "buzz\n",
      "11\n",
      "fizz\n",
      "13\n",
      "14\n",
      "fizzbuzz\n",
      "16\n",
      "17\n",
      "fizz\n",
      "19\n",
      "buzz\n",
      "fizz\n",
      "22\n",
      "23\n",
      "fizz\n",
      "buzz\n",
      "26\n",
      "fizz\n",
      "28\n",
      "29\n",
      "fizzbuzz\n",
      "31\n",
      "32\n",
      "fizz\n",
      "34\n",
      "buzz\n",
      "fizz\n",
      "37\n",
      "38\n",
      "fizz\n",
      "buzz\n",
      "41\n",
      "fizz\n",
      "43\n",
      "44\n",
      "fizzbuzz\n",
      "46\n",
      "47\n",
      "fizz\n",
      "49\n",
      "buzz\n",
      "fizz\n",
      "52\n",
      "53\n",
      "fizz\n",
      "buzz\n",
      "56\n",
      "fizz\n",
      "58\n",
      "59\n",
      "fizzbuzz\n",
      "61\n",
      "62\n",
      "fizz\n",
      "64\n",
      "buzz\n",
      "fizz\n",
      "67\n",
      "68\n",
      "fizz\n",
      "buzz\n",
      "71\n",
      "fizz\n",
      "73\n",
      "74\n",
      "fizzbuzz\n",
      "76\n",
      "77\n",
      "fizz\n",
      "79\n",
      "buzz\n",
      "fizz\n",
      "82\n",
      "83\n",
      "fizz\n",
      "buzz\n",
      "86\n",
      "fizz\n",
      "88\n",
      "89\n",
      "fizzbuzz\n",
      "91\n",
      "92\n",
      "fizz\n",
      "94\n",
      "buzz\n",
      "fizz\n",
      "97\n",
      "98\n",
      "fizz\n",
      "buzz\n"
     ]
    }
   ],
   "source": [
    "for i in range(1,101):\n",
    "    if i % 3 ==0 and i % 5 == 0:\n",
    "        print(\"fizzbuzz\")\n",
    "    elif i % 5 ==0:\n",
    "        print(\"buzz\")\n",
    "    elif i % 3==0:\n",
    "        print(\"fizz\")\n",
    "    else: print(i)"
   ]
  },
  {
   "cell_type": "markdown",
   "id": "ec535742",
   "metadata": {},
   "source": [
    "# 2. Tools to Help Understand the Flow of Algorithms "
   ]
  },
  {
   "cell_type": "markdown",
   "id": "463965e9",
   "metadata": {},
   "source": [
    "Tool to help visualize variables and their relationships throughout each step of a code block: \n",
    "\n",
    "[https://cscircles.cemc.uwaterloo.ca/visualize](https://cscircles.cemc.uwaterloo.ca/visualize)"
   ]
  },
  {
   "cell_type": "markdown",
   "id": "6172c957",
   "metadata": {},
   "source": [
    "Other ways to debug your code:\n",
    "- Strategic use of print statements\n",
    "- Debuggers built into your IDE\n",
    "    - To use a debugger in your IDE, set a **break point**\n",
    "    - Then, instead of \"running\" code, \"debug\" code\n",
    "    - **Step Into**: step into a function and go through it line by line; also takes you into different modules that are being accessed when importing libraries or packages\n",
    "    - **Step Over**: step over a function, or, run the function in it's entirety and move on to the next step.\n",
    "    - **Step into your own code**: ignores any libraries that are being imported\n",
    "- Algoithm animations:\n",
    "    - For 100 doors: https://compucademy.net/100Doors\n",
    "    - For **linear search**: https://compucademy.net/linear-search\n",
    "    - **Good source of visualizations of algorithms:** https://visualgo.net/en\n",
    "- Pseudocode:\n",
    "    - A way of describing algorithms that is:\n",
    "        - Simple\n",
    "        - Clear\n",
    "        - Unambiguous\n",
    "        - Lanugage agnostic\n",
    "    - Since Python came along as a programming language, the need for pseudocode has decreased somewhat, as Python already meets the first three of these criteria.\n",
    "- Using a whiteboard to explore algorithms"
   ]
  },
  {
   "cell_type": "markdown",
   "id": "2e07cb12",
   "metadata": {},
   "source": [
    "# 3. Brute Force Algorithms\n",
    "- Many computational problems can be solved by trying all possible candidate solutions until the correct solution is found\n",
    "- This approach is often called **exhaustive search** or **brute force search**.\n",
    "- Although clumsy and inefficient, a brute force version of an algorithm is often well worth trying to get a feel for a problem before attempting to implement a better solution\n",
    "- The reason a better solution is needed is that for many problems, the brute force method takes an impractical amount of time"
   ]
  },
  {
   "cell_type": "code",
   "execution_count": 74,
   "id": "ed20146c",
   "metadata": {},
   "outputs": [
    {
     "data": {
      "text/plain": [
       "'\\nfor i in range(1, 101):\\n    if i % 2 ==0:\\n        print(i)\\n'"
      ]
     },
     "execution_count": 74,
     "metadata": {},
     "output_type": "execute_result"
    }
   ],
   "source": [
    "\"\"\"\n",
    "for i in range(1, 101):\n",
    "    if i % 2 ==0:\n",
    "        print(i)\n",
    "\"\"\""
   ]
  },
  {
   "cell_type": "markdown",
   "id": "cda6a791",
   "metadata": {},
   "source": [
    "- The above solution to find all even numbers between 1 and 100 is very inefficient, as it performs as many checks as there are numbers in the range\n",
    "- We know that half of these checks will come out false\n",
    "- One possible alternative is to simply use the step parameter\n",
    "- The below code is only for printing even numbers, not for checking if numbers are even"
   ]
  },
  {
   "cell_type": "code",
   "execution_count": null,
   "id": "066b73cb",
   "metadata": {},
   "outputs": [],
   "source": [
    "\"\"\"\n",
    "for i in range(2, 101, 2):\n",
    "    print(i)\n",
    "\"\"\""
   ]
  },
  {
   "cell_type": "markdown",
   "id": "ec390d73",
   "metadata": {},
   "source": [
    "### Linear Search\n",
    "- A classic example of a brute force algorithm is a linear search.\n",
    "- A linear search involves checking each item in a collection to see if it is the one we are looking for."
   ]
  },
  {
   "cell_type": "code",
   "execution_count": 77,
   "id": "c8ea396f",
   "metadata": {},
   "outputs": [],
   "source": [
    "def linear_search(nums, target):\n",
    "    for idx, val in enumerate(nums):\n",
    "        if val == target:\n",
    "            return indx\n",
    "    return -1"
   ]
  },
  {
   "cell_type": "markdown",
   "id": "193dd11c",
   "metadata": {},
   "source": [
    "### Selection Sort\n",
    "- Selection sort is a simple and intuitive sorting algorithm\n",
    "- It can be performed using an auxiliary array to store the results, or done in place (meaning no additional storage is required).\n",
    "- Since the in place version is not difficult to implement, this is the version you will usually see. \n",
    "\n",
    "#### Selection sort\n",
    "- Find the smallest element in the array and exchange it with the element in the first position\n",
    "- Find the second smallest element in the array and exchange it with the element in the second position\n",
    "- Repeat this process for the remaining items until the array is sorted\n",
    "\n",
    "#### Find minimum value\n",
    "- Create a variable called `min_index` and set it to the first position in the list (usually 0)\n",
    "- Iterate through the list, and if a value is smaller than the one at `min_index`, update `min_inde` to the new position."
   ]
  },
  {
   "cell_type": "code",
   "execution_count": 78,
   "id": "0d74c09b",
   "metadata": {},
   "outputs": [],
   "source": [
    "def find_min(nums):\n",
    "    min_index = 0\n",
    "    for i in range(len(nums)):\n",
    "        if nums[i] < nums[min_index]:\n",
    "            min_index = i\n",
    "    return nums[min_index]"
   ]
  },
  {
   "cell_type": "code",
   "execution_count": 79,
   "id": "8b2c4f49",
   "metadata": {},
   "outputs": [],
   "source": [
    "def selection_sort(nums):\n",
    "    for i in range(len(nums)-1):\n",
    "        min_index = i\n",
    "        for j in range(i + 1,len(nums)):\n",
    "            if nums[j] < nums[min_index]:\n",
    "                min_index = j\n",
    "        nums[i], nums[min_index] = nums[min_index], nums[i]"
   ]
  },
  {
   "cell_type": "code",
   "execution_count": 80,
   "id": "8ce16e7d",
   "metadata": {},
   "outputs": [],
   "source": [
    "nums=[3,2,1,5,4]\n",
    "selection_sort(nums)"
   ]
  },
  {
   "cell_type": "code",
   "execution_count": 81,
   "id": "20b97fb9",
   "metadata": {},
   "outputs": [
    {
     "data": {
      "text/plain": [
       "[1, 2, 3, 4, 5]"
      ]
     },
     "execution_count": 81,
     "metadata": {},
     "output_type": "execute_result"
    }
   ],
   "source": [
    "nums"
   ]
  },
  {
   "cell_type": "markdown",
   "id": "6fb7bd70",
   "metadata": {},
   "source": [
    "# 4. Analysis of Time-Space Complexity\n",
    "\n",
    "### Introduction to analysis of time-space complexity\n",
    "- When we discuss analysis in the context of algorithms, we are generally referring to the efficiency of an algorithm.\n",
    "- The opposite of efficiency is often referred to as complexity.\n",
    "- There's generally two types of efficiency that we're interested in:\n",
    "    - Space: memory requirements\n",
    "    - Time\n",
    "\n",
    "#### Time complexity\n",
    "- The basic technique for calculating time complexity is to add up how many basic operations an algorithm will execute as a function of the size of its input, and then to simplify this expression\n",
    "- Basic operations include:\n",
    "    - Assignments\n",
    "    - Arithmetic operations\n",
    "    - Comparison statements\n",
    "    - Calling a function\n",
    "    - Return statements\n",
    "    \n",
    "#### Big-O notation\n",
    "- Big-O notation is a way of expressing an upper bound on the execution time or space requirements of an algorithm\n",
    "\n",
    "<img src='img/1.png' width=\"600\" height=\"300\" align=\"center\"/>\n",
    "\n",
    "<img src='img/2.png' width=\"600\" height=\"300\" align=\"center\"/>"
   ]
  },
  {
   "cell_type": "markdown",
   "id": "c221a17f",
   "metadata": {},
   "source": [
    "- The reason we are interested in an upper bound is because past a certain point, we can be confident that an algorithm won't perform worse than this bound. This is important as many mission critical algorithms. Can't afford to exceed some worst-case scenario, even on occasion. \n",
    "- How to determine which big-O class an algorithm belongs to? **In practice, to determine the complexity of an algorithm, we make some drastic simplifications.**\n",
    "\n",
    "#### Big-O Notations\n",
    "- Depending on how we count, an algorithm may look to have `2n` or `5n + 20` basic operations, but for the purposes of analyzing its time complexity, we would consider both to be equivalent to O(n).\n",
    "- **We throw away ay constants:**\n",
    "    - If we have `2n` basic operations, we simplify and say the algorithm is `O(n)`.\n",
    "    - If we have `200` basic operations, we simplify that to **`O(1)=O(c)=O(constant)`**\n",
    "- **Ignore all but the largest term:**\n",
    "    - `n + 100` operations is simplified to `O(n)`\n",
    "    - `500n + 100` is also simplified to `O(n)`\n",
    "    - `n^2 + 40n + 400` basic operations is simplified to `O(n^2)`\n",
    "- The reason we can make these simplififcations is that we are interested in how the number of operations grows as `n` becomes very large, and the contribution of all but the largest term becomes less significant the larger `n` becomes.\n",
    "\n",
    "#### Other notations\n",
    "- Other measures than big O are used for measuring space and time complexity.\n",
    "- These include:\n",
    "    - **Big-omega notation** ($\\Omega$): a lower-bound for time or space complexity \n",
    "    - **Big-theta notation** ($\\Theta$): a tight-bound for time or space complexity (so it's neither above nor below)\n",
    "- For most purposes, however, sticking with Big-O is going to be sufficient\n",
    "\n",
    "#### The Big Idea of Big-O Notation\n",
    "- Make an estimate of the number of operations performed by an algorithm in terms of its input size `n`\n",
    "- Simplify the resulting expression by:\n",
    "    - Throwing away constants\n",
    "    - Only focusing on the largest term\n",
    "- Categorize the result into one of the Big-O classes, such as:\n",
    "    - `O(n^2)` : **Quadratic**\n",
    "    - `O(n)` : **Linear**\n",
    "    - `O(log n)` : **Logarithmic**\n",
    "    - `O(1)` : **Constant**"
   ]
  },
  {
   "cell_type": "markdown",
   "id": "842ff210",
   "metadata": {},
   "source": [
    "#### Big-O Notation Practice\n",
    "- `O(n + 10)` $\\Rightarrow$ `O(n)` = Linear\n",
    "- `O(100 * n)` $\\Rightarrow$ `O(n)` = Linear\n",
    "- `O(50)` $\\Rightarrow$ `O(1)` or `O(c)` = Constant\n",
    "- `O(n^2+n^3)` $\\Rightarrow$ `O(n^3)` = Cubic\n",
    "- `O(n + n + n + n)` $\\Rightarrow$ `O(n)` = Linear"
   ]
  },
  {
   "cell_type": "markdown",
   "id": "47d13506",
   "metadata": {},
   "source": [
    "#### Examples of time complexity with Python\n",
    "- a simple for loop: `O(n)`\n",
    "    - So long as the counter increases or decreases by a constant\n",
    "- a simple while loop: `O(n)`\n",
    "- a for loop where the counter increases by a multiple: `O(log(n))`"
   ]
  },
  {
   "cell_type": "code",
   "execution_count": 82,
   "id": "ad4d4d40",
   "metadata": {},
   "outputs": [
    {
     "data": {
      "text/plain": [
       "'\\nn = 100\\nwhile n > 0:\\n    n = n // 2\\n    print(n)\\n'"
      ]
     },
     "execution_count": 82,
     "metadata": {},
     "output_type": "execute_result"
    }
   ],
   "source": [
    "\"\"\"\n",
    "n = 100\n",
    "while n > 0:\n",
    "    n = n // 2\n",
    "    print(n)\n",
    "\"\"\""
   ]
  },
  {
   "cell_type": "markdown",
   "id": "d7cc3717",
   "metadata": {},
   "source": [
    "- a single nested for loop: `O(n^2)` = Quadratic"
   ]
  },
  {
   "cell_type": "markdown",
   "id": "0d556171",
   "metadata": {},
   "source": [
    "#### Memory considerations when implementing algorithms\n",
    "- For example, when considering algorithms that work on arrays, some implementations may use an auxiliary array to store intermediate results, while others may restrict themselves to modifying the original array"
   ]
  },
  {
   "cell_type": "code",
   "execution_count": 83,
   "id": "2909723a",
   "metadata": {},
   "outputs": [
    {
     "name": "stdout",
     "output_type": "stream",
     "text": [
      "5\n"
     ]
    }
   ],
   "source": [
    "def my_sum(lst):\n",
    "    total = 0\n",
    "    for i in range(len(lst)):\n",
    "        total += lst[i]\n",
    "        return total \n",
    "    \n",
    "my_list = [5, 4, 3, 2, 1]\n",
    "print(my_sum(my_list))"
   ]
  },
  {
   "cell_type": "markdown",
   "id": "cda7a274",
   "metadata": {},
   "source": [
    "- The **space complexity** of the `my_sum` function about is `O(1)` or **constant**\n",
    "- Aside from the input, we only have two variables: total and i\n",
    "- Regardless of the contents of the list, we are always only going to have these same two variables, each of which contains a single number.\n",
    "- While we add to the total variable, we don't create or add any new variables.\n",
    "- Since we are discussing space, not time, complexity, we are not interested in the number of operations."
   ]
  },
  {
   "cell_type": "code",
   "execution_count": 85,
   "id": "2f3ea940",
   "metadata": {},
   "outputs": [
    {
     "name": "stdout",
     "output_type": "stream",
     "text": [
      "[10, 8, 6, 4, 2]\n"
     ]
    }
   ],
   "source": [
    "def double(lst):\n",
    "    new_list=[]\n",
    "    for i in range(len(lst)):\n",
    "        new_list.append(lst[i] * 2)\n",
    "    return new_list\n",
    "\n",
    "my_list = [5, 4, 3, 2, 1]\n",
    "print(double(my_list))"
   ]
  },
  {
   "cell_type": "markdown",
   "id": "1705cef8",
   "metadata": {},
   "source": [
    "- The **space complexity** of the `double` function above is **`O(n)`**\n",
    "- The longer the list passed to the function is, the longer the new list that gets returned is.\n",
    "- This means that the function's required space will increase depending on the length of the input list\n",
    "- Hence, the space requirement increases as the size of the input list increases\n",
    "- Space complexity is often not such an important consideration as time complexity, but there are certainly situations where it matters"
   ]
  },
  {
   "cell_type": "markdown",
   "id": "0b06af01",
   "metadata": {},
   "source": [
    "# 5. Greedy Algorithms\n",
    "#### Greedy Algorithm Features\n",
    "- Makes locally optimal choices at any given point\n",
    "- Do not revisit choices once made\n",
    "- This can make the algorithm \"short-sighted,\" and it may not find the optimal solution. However, there are advantges to the greedy approach\n",
    "\n",
    "#### Greedy Algorithms: Advantages\n",
    "- Often quite fast\n",
    "- Relatively easy to implement\n",
    "\n",
    "#### Greedy Algorithms: Disadvantages\n",
    "- Short-sighted: may not provide optimal solution\n",
    "- May fail on some instances of a problem\n",
    "\n",
    "#### The Change-Making Problem\n",
    "- Goal: Find the minimum number of coins from a set of denominations that add up to a given amount of money"
   ]
  },
  {
   "cell_type": "code",
   "execution_count": 151,
   "id": "cf3ced82",
   "metadata": {},
   "outputs": [],
   "source": [
    "def count_coins(coins, amount):\n",
    "    if amount <= 0:\n",
    "        return -1\n",
    "    coins.sort(reverse=True)\n",
    "    coin_count= 0\n",
    "    for coin in coins:\n",
    "        coin_count += (amount // coin)\n",
    "        amount -= (coin*(amount//coin))\n",
    "    return amount"
   ]
  },
  {
   "cell_type": "code",
   "execution_count": 144,
   "id": "2ac0d73c",
   "metadata": {},
   "outputs": [],
   "source": [
    "def count_coins(coins, amount):\n",
    "    if amount<= 0:\n",
    "        return -1\n",
    "    coins.sort(reverse=True)\n",
    "    coin_count = 0\n",
    "    for coin in coins:\n",
    "        while amount >= coin:\n",
    "            amount -= coin\n",
    "            coin_count += 1\n",
    "    return coin_count"
   ]
  },
  {
   "cell_type": "markdown",
   "id": "cf91d115",
   "metadata": {},
   "source": [
    "The above is a greedy algorithm because it:\n",
    "   - Makes locally optimal choices\n",
    "       - At any given point, our algorithm chooses the highest value that it thinks is going to be useful\n",
    "   - Locally optimal is not always globally optimal\n",
    "   - We do not revisit choices once they are made\n",
    "   \n",
    "  \n",
    "This same problem can be solved using dynamic program to avoid the pitfalls of the greedy algorithm approach"
   ]
  },
  {
   "cell_type": "code",
   "execution_count": null,
   "id": "85c28c63",
   "metadata": {},
   "outputs": [],
   "source": []
  },
  {
   "cell_type": "code",
   "execution_count": null,
   "id": "3b41f029",
   "metadata": {},
   "outputs": [],
   "source": []
  },
  {
   "cell_type": "code",
   "execution_count": null,
   "id": "9e6b1dae",
   "metadata": {},
   "outputs": [],
   "source": []
  },
  {
   "cell_type": "code",
   "execution_count": null,
   "id": "a799f30d",
   "metadata": {},
   "outputs": [],
   "source": []
  },
  {
   "cell_type": "code",
   "execution_count": null,
   "id": "87b7e7ee",
   "metadata": {},
   "outputs": [],
   "source": []
  },
  {
   "cell_type": "code",
   "execution_count": null,
   "id": "9ac76f5c",
   "metadata": {},
   "outputs": [],
   "source": []
  },
  {
   "cell_type": "markdown",
   "id": "4b26604f",
   "metadata": {},
   "source": [
    "<img src='img/x.png' width=\"800\" height=\"400\" align=\"center\"/>"
   ]
  }
 ],
 "metadata": {
  "kernelspec": {
   "display_name": "Python 3",
   "language": "python",
   "name": "python3"
  },
  "language_info": {
   "codemirror_mode": {
    "name": "ipython",
    "version": 3
   },
   "file_extension": ".py",
   "mimetype": "text/x-python",
   "name": "python",
   "nbconvert_exporter": "python",
   "pygments_lexer": "ipython3",
   "version": "3.8.8"
  }
 },
 "nbformat": 4,
 "nbformat_minor": 5
}
