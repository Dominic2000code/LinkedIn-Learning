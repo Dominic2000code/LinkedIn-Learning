{
 "cells": [
  {
   "cell_type": "markdown",
   "id": "540bd9ae",
   "metadata": {},
   "source": [
    "# Algorithmic Thinking with Python: Foundations\n",
    "**Instructor:** Robin Andrews\n",
    "\n",
    "The word “algorithm,” at one time the sole province of mathematics and computer science, has entered the modern vernacular because, for better or worse, algorithms have never been more important or more impactful in daily life. If you’re a developer, you need to be familiar with a wide range of algorithmic thinking in order to be able to solve new problems as they present themselves. If you’re already familiar with Python, becoming more versed in algorithmic thinking is a great way to increase your value as a developer. In this course, Robin Andrews explains how Python, because of its clarity and expressiveness, is the ideal tool for exploring algorithmic thinking. He shows you tools to help you understand the flow of algorithms, explains the brute force approach to solving algorithms, details the concepts of time and space complexity with regard to algorithm analysis, the decrease and conquer strategy, and much more."
   ]
  },
  {
   "cell_type": "markdown",
   "id": "35eef268",
   "metadata": {},
   "source": [
    "#### Importance of Algorithmic Thinking\n",
    "- In this course, you will learn about:\n",
    "- Tools to help you understand the flow of algorithms; \n",
    "- Brute force algorithms; \n",
    "- Analysis of time and space complexity of algorithms;\n",
    "- Greedy algorithms\n",
    "- Divide and conquer strategy for problem solving"
   ]
  },
  {
   "cell_type": "markdown",
   "id": "2f0d0520",
   "metadata": {},
   "source": [
    "## 1. Warm Up\n",
    "\n",
    "### 100 doors\n",
    "- There are 100 doors in a row that are all initially closed\n",
    "- You make 100 passes by each of these doors\n",
    "- On the first pass, you visit every door in sequence and toggle its state (if the door is closed, you open it; if it is open, you close it).\n",
    "- For the second pass, you only visit every second door (doors 2, 4, 6, ...) and toggle it\n",
    "- For the third pass, you visit every third door (doors 3, 6, 9, ...), and so on until you only visit the 100th door on the 100th pass\n",
    "- **Which doors are open and which are closed after the last pass?**"
   ]
  },
  {
   "cell_type": "code",
   "execution_count": 63,
   "id": "154461bb",
   "metadata": {},
   "outputs": [
    {
     "name": "stdout",
     "output_type": "stream",
     "text": [
      "1,4,9,16,25,36,49,64,81,100,"
     ]
    }
   ],
   "source": [
    "doors = [False] * 101\n",
    "for i in range(1,101):\n",
    "    for j in range(i,101, i):\n",
    "        doors[j] = not doors[j]\n",
    "for i in range(101):\n",
    "    if doors[i] is True:\n",
    "        print(i, end=\",\")"
   ]
  },
  {
   "cell_type": "code",
   "execution_count": 69,
   "id": "09bbbe9f",
   "metadata": {},
   "outputs": [],
   "source": [
    "def openDoors(n):\n",
    "    return int(n**0.5)"
   ]
  },
  {
   "cell_type": "markdown",
   "id": "631a4217",
   "metadata": {},
   "source": [
    "### Fizz Buzz\n",
    "- Fizz Buzz is a game for two or more players\n",
    "- Take turns counting aloud from 1 to 100, but:\n",
    "    - Each time you are going to say a multiple of 3, replace it with the word \"fizz\"\n",
    "    - For multiples of 5, say \"buzz\"\n",
    "    - For numbers that are multiples of both 3 and 5, say \"fizz, buzz\""
   ]
  },
  {
   "cell_type": "code",
   "execution_count": 70,
   "id": "f62c8746",
   "metadata": {},
   "outputs": [
    {
     "name": "stdout",
     "output_type": "stream",
     "text": [
      "1\n",
      "2\n",
      "fizz\n",
      "4\n",
      "buzz\n",
      "fizz\n",
      "7\n",
      "8\n",
      "fizz\n",
      "buzz\n",
      "11\n",
      "fizz\n",
      "13\n",
      "14\n",
      "fizzbuzz\n",
      "16\n",
      "17\n",
      "fizz\n",
      "19\n",
      "buzz\n",
      "fizz\n",
      "22\n",
      "23\n",
      "fizz\n",
      "buzz\n",
      "26\n",
      "fizz\n",
      "28\n",
      "29\n",
      "fizzbuzz\n",
      "31\n",
      "32\n",
      "fizz\n",
      "34\n",
      "buzz\n",
      "fizz\n",
      "37\n",
      "38\n",
      "fizz\n",
      "buzz\n",
      "41\n",
      "fizz\n",
      "43\n",
      "44\n",
      "fizzbuzz\n",
      "46\n",
      "47\n",
      "fizz\n",
      "49\n",
      "buzz\n",
      "fizz\n",
      "52\n",
      "53\n",
      "fizz\n",
      "buzz\n",
      "56\n",
      "fizz\n",
      "58\n",
      "59\n",
      "fizzbuzz\n",
      "61\n",
      "62\n",
      "fizz\n",
      "64\n",
      "buzz\n",
      "fizz\n",
      "67\n",
      "68\n",
      "fizz\n",
      "buzz\n",
      "71\n",
      "fizz\n",
      "73\n",
      "74\n",
      "fizzbuzz\n",
      "76\n",
      "77\n",
      "fizz\n",
      "79\n",
      "buzz\n",
      "fizz\n",
      "82\n",
      "83\n",
      "fizz\n",
      "buzz\n",
      "86\n",
      "fizz\n",
      "88\n",
      "89\n",
      "fizzbuzz\n",
      "91\n",
      "92\n",
      "fizz\n",
      "94\n",
      "buzz\n",
      "fizz\n",
      "97\n",
      "98\n",
      "fizz\n",
      "buzz\n"
     ]
    }
   ],
   "source": [
    "for i in range(1,101):\n",
    "    if i % 3 ==0 and i % 5 == 0:\n",
    "        print(\"fizzbuzz\")\n",
    "    elif i % 5 ==0:\n",
    "        print(\"buzz\")\n",
    "    elif i % 3==0:\n",
    "        print(\"fizz\")\n",
    "    else: print(i)"
   ]
  },
  {
   "cell_type": "markdown",
   "id": "00c3599b",
   "metadata": {},
   "source": [
    "# 2. Tools to Help Understand the Flow of Algorithms "
   ]
  },
  {
   "cell_type": "markdown",
   "id": "2b8767f8",
   "metadata": {},
   "source": [
    "Tool to help visualize variables and their relationships throughout each step of a code block: \n",
    "\n",
    "[https://cscircles.cemc.uwaterloo.ca/visualize](https://cscircles.cemc.uwaterloo.ca/visualize)"
   ]
  },
  {
   "cell_type": "markdown",
   "id": "b7d8d50e",
   "metadata": {},
   "source": [
    "Other ways to debug your code:\n",
    "- Strategic use of print statements\n",
    "- Debuggers built into your IDE\n",
    "    - To use a debugger in your IDE, set a **break point**\n",
    "    - Then, instead of \"running\" code, \"debug\" code\n",
    "    - **Step Into**: step into a function and go through it line by line; also takes you into different modules that are being accessed when importing libraries or packages\n",
    "    - **Step Over**: step over a function, or, run the function in it's entirety and move on to the next step.\n",
    "    - **Step into your own code**: ignores any libraries that are being imported\n",
    "- Algoithm animations:\n",
    "    - For 100 doors: https://compucademy.net/100Doors\n",
    "    - For **linear search**: https://compucademy.net/linear-search\n",
    "    - **Good source of visualizations of algorithms:** https://visualgo.net/en\n",
    "- Pseudocode:\n",
    "    - A way of describing algorithms that is:\n",
    "        - Simple\n",
    "        - Clear\n",
    "        - Unambiguous\n",
    "        - Lanugage agnostic\n",
    "    - Since Python came along as a programming language, the need for pseudocode has decreased somewhat, as Python already meets the first three of these criteria.\n",
    "- Using a whiteboard to explore algorithms"
   ]
  },
  {
   "cell_type": "markdown",
   "id": "2ed8e792",
   "metadata": {},
   "source": [
    "# 3. Brute Force Algorithms\n",
    "- Many computational problems can be solved by trying all possible candidate solutions until the correct solution is found\n",
    "- This approach is often called **exhaustive search** or **brute force search**.\n",
    "- Although clumsy and inefficient, a brute force version of an algorithm is often well worth trying to get a feel for a problem before attempting to implement a better solution\n",
    "- The reason a better solution is needed is that for many problems, the brute force method takes an impractical amount of time"
   ]
  },
  {
   "cell_type": "code",
   "execution_count": 74,
   "id": "8cb70ae8",
   "metadata": {},
   "outputs": [
    {
     "data": {
      "text/plain": [
       "'\\nfor i in range(1, 101):\\n    if i % 2 ==0:\\n        print(i)\\n'"
      ]
     },
     "execution_count": 74,
     "metadata": {},
     "output_type": "execute_result"
    }
   ],
   "source": [
    "\"\"\"\n",
    "for i in range(1, 101):\n",
    "    if i % 2 ==0:\n",
    "        print(i)\n",
    "\"\"\""
   ]
  },
  {
   "cell_type": "markdown",
   "id": "eb71f772",
   "metadata": {},
   "source": [
    "- The above solution to find all even numbers between 1 and 100 is very inefficient, as it performs as many checks as there are numbers in the range\n",
    "- We know that half of these checks will come out false\n",
    "- One possible alternative is to simply use the step parameter\n",
    "- The below code is only for printing even numbers, not for checking if numbers are even"
   ]
  },
  {
   "cell_type": "code",
   "execution_count": null,
   "id": "5cccba8b",
   "metadata": {},
   "outputs": [],
   "source": [
    "\"\"\"\n",
    "for i in range(2, 101, 2):\n",
    "    print(i)\n",
    "\"\"\""
   ]
  },
  {
   "cell_type": "code",
   "execution_count": null,
   "id": "55e075d2",
   "metadata": {},
   "outputs": [],
   "source": []
  },
  {
   "cell_type": "code",
   "execution_count": null,
   "id": "efff2737",
   "metadata": {},
   "outputs": [],
   "source": []
  },
  {
   "cell_type": "code",
   "execution_count": null,
   "id": "1e80dac1",
   "metadata": {},
   "outputs": [],
   "source": []
  }
 ],
 "metadata": {
  "kernelspec": {
   "display_name": "Python 3",
   "language": "python",
   "name": "python3"
  },
  "language_info": {
   "codemirror_mode": {
    "name": "ipython",
    "version": 3
   },
   "file_extension": ".py",
   "mimetype": "text/x-python",
   "name": "python",
   "nbconvert_exporter": "python",
   "pygments_lexer": "ipython3",
   "version": "3.8.8"
  }
 },
 "nbformat": 4,
 "nbformat_minor": 5
}
