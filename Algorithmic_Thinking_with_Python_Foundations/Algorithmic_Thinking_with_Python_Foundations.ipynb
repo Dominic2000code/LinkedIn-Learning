{
 "cells": [
  {
   "cell_type": "markdown",
   "id": "9977e3f9",
   "metadata": {},
   "source": [
    "# Algorithmic Thinking with Python: Foundations\n",
    "**Instructor:** Robin Andrews\n",
    "\n",
    "The word “algorithm,” at one time the sole province of mathematics and computer science, has entered the modern vernacular because, for better or worse, algorithms have never been more important or more impactful in daily life. If you’re a developer, you need to be familiar with a wide range of algorithmic thinking in order to be able to solve new problems as they present themselves. If you’re already familiar with Python, becoming more versed in algorithmic thinking is a great way to increase your value as a developer. In this course, Robin Andrews explains how Python, because of its clarity and expressiveness, is the ideal tool for exploring algorithmic thinking. He shows you tools to help you understand the flow of algorithms, explains the brute force approach to solving algorithms, details the concepts of time and space complexity with regard to algorithm analysis, the decrease and conquer strategy, and much more."
   ]
  },
  {
   "cell_type": "markdown",
   "id": "6fb82787",
   "metadata": {},
   "source": [
    "#### Importance of Algorithmic Thinking\n",
    "- In this course, you will learn about:\n",
    "- Tools to help you understand the flow of algorithms; \n",
    "- Brute force algorithms; \n",
    "- Analysis of time and space complexity of algorithms;\n",
    "- Greedy algorithms\n",
    "- Divide and conquer strategy for problem solving"
   ]
  },
  {
   "cell_type": "markdown",
   "id": "c7ce61f4",
   "metadata": {},
   "source": [
    "## 1. Warm Up\n",
    "\n",
    "### 100 doors\n",
    "- There are 100 doors in a row that are all initially closed\n",
    "- You make 100 passes by each of these doors\n",
    "- On the first pass, you visit every door in sequence and toggle its state (if the door is closed, you open it; if it is open, you close it).\n",
    "- For the second pass, you only visit every second door (doors 2, 4, 6, ...) and toggle it\n",
    "- For the third pass, you visit every third door (doors 3, 6, 9, ...), and so on until you only visit the 100th door on the 100th pass\n",
    "- **Which doors are open and which are closed after the last pass?**"
   ]
  },
  {
   "cell_type": "code",
   "execution_count": 63,
   "id": "67d66f2f",
   "metadata": {},
   "outputs": [
    {
     "name": "stdout",
     "output_type": "stream",
     "text": [
      "1,4,9,16,25,36,49,64,81,100,"
     ]
    }
   ],
   "source": [
    "doors = [False] * 101\n",
    "for i in range(1,101):\n",
    "    for j in range(i,101, i):\n",
    "        doors[j] = not doors[j]\n",
    "for i in range(101):\n",
    "    if doors[i] is True:\n",
    "        print(i, end=\",\")"
   ]
  },
  {
   "cell_type": "code",
   "execution_count": 69,
   "id": "fc1a409a",
   "metadata": {},
   "outputs": [],
   "source": [
    "def openDoors(n):\n",
    "    return int(n**0.5)"
   ]
  },
  {
   "cell_type": "markdown",
   "id": "56e82bc3",
   "metadata": {},
   "source": [
    "### Fizz Buzz\n",
    "- Fizz Buzz is a game for two or more players\n",
    "- Take turns countin"
   ]
  },
  {
   "cell_type": "code",
   "execution_count": null,
   "id": "b6833bf1",
   "metadata": {},
   "outputs": [],
   "source": []
  },
  {
   "cell_type": "code",
   "execution_count": null,
   "id": "3490a923",
   "metadata": {},
   "outputs": [],
   "source": []
  },
  {
   "cell_type": "code",
   "execution_count": null,
   "id": "99e2e38b",
   "metadata": {},
   "outputs": [],
   "source": []
  },
  {
   "cell_type": "code",
   "execution_count": null,
   "id": "5890ab15",
   "metadata": {},
   "outputs": [],
   "source": []
  },
  {
   "cell_type": "code",
   "execution_count": null,
   "id": "0bf5ad52",
   "metadata": {},
   "outputs": [],
   "source": []
  }
 ],
 "metadata": {
  "kernelspec": {
   "display_name": "Python 3",
   "language": "python",
   "name": "python3"
  },
  "language_info": {
   "codemirror_mode": {
    "name": "ipython",
    "version": 3
   },
   "file_extension": ".py",
   "mimetype": "text/x-python",
   "name": "python",
   "nbconvert_exporter": "python",
   "pygments_lexer": "ipython3",
   "version": "3.8.8"
  }
 },
 "nbformat": 4,
 "nbformat_minor": 5
}
