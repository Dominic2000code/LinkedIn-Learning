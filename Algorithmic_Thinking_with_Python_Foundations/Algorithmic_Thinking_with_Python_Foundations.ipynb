{
 "cells": [
  {
   "cell_type": "markdown",
   "id": "b3ffed70",
   "metadata": {},
   "source": [
    "# Algorithmic Thinking with Python: Foundations\n",
    "**Instructor:** Robin Andrews\n",
    "\n",
    "The word “algorithm,” at one time the sole province of mathematics and computer science, has entered the modern vernacular because, for better or worse, algorithms have never been more important or more impactful in daily life. If you’re a developer, you need to be familiar with a wide range of algorithmic thinking in order to be able to solve new problems as they present themselves. If you’re already familiar with Python, becoming more versed in algorithmic thinking is a great way to increase your value as a developer. In this course, Robin Andrews explains how Python, because of its clarity and expressiveness, is the ideal tool for exploring algorithmic thinking. He shows you tools to help you understand the flow of algorithms, explains the brute force approach to solving algorithms, details the concepts of time and space complexity with regard to algorithm analysis, the decrease and conquer strategy, and much more."
   ]
  },
  {
   "cell_type": "markdown",
   "id": "52b7f34b",
   "metadata": {},
   "source": [
    "**[GitHub Repo](https://github.com/LinkedInLearning/algorithmic-thinking-with-python-foundations-2450259)**\n",
    "\n",
    "#### Importance of Algorithmic Thinking\n",
    "- In this course, you will learn about:\n",
    "- Tools to help you understand the flow of algorithms; \n",
    "- Brute force algorithms; \n",
    "- Analysis of time and space complexity of algorithms;\n",
    "- Greedy algorithms\n",
    "- Divide and conquer strategy for problem solving"
   ]
  },
  {
   "cell_type": "markdown",
   "id": "29507e14",
   "metadata": {},
   "source": [
    "## 1. Warm Up\n",
    "\n",
    "### 100 doors\n",
    "- There are 100 doors in a row that are all initially closed\n",
    "- You make 100 passes by each of these doors\n",
    "- On the first pass, you visit every door in sequence and toggle its state (if the door is closed, you open it; if it is open, you close it).\n",
    "- For the second pass, you only visit every second door (doors 2, 4, 6, ...) and toggle it\n",
    "- For the third pass, you visit every third door (doors 3, 6, 9, ...), and so on until you only visit the 100th door on the 100th pass\n",
    "- **Which doors are open and which are closed after the last pass?**"
   ]
  },
  {
   "cell_type": "code",
   "execution_count": 63,
   "id": "191003ca",
   "metadata": {},
   "outputs": [
    {
     "name": "stdout",
     "output_type": "stream",
     "text": [
      "1,4,9,16,25,36,49,64,81,100,"
     ]
    }
   ],
   "source": [
    "doors = [False] * 101\n",
    "for i in range(1,101):\n",
    "    for j in range(i,101, i):\n",
    "        doors[j] = not doors[j]\n",
    "for i in range(101):\n",
    "    if doors[i] is True:\n",
    "        print(i, end=\",\")"
   ]
  },
  {
   "cell_type": "code",
   "execution_count": 69,
   "id": "0309aede",
   "metadata": {},
   "outputs": [],
   "source": [
    "def openDoors(n):\n",
    "    return int(n**0.5)"
   ]
  },
  {
   "cell_type": "markdown",
   "id": "1d50093e",
   "metadata": {},
   "source": [
    "### Fizz Buzz\n",
    "- Fizz Buzz is a game for two or more players\n",
    "- Take turns counting aloud from 1 to 100, but:\n",
    "    - Each time you are going to say a multiple of 3, replace it with the word \"fizz\"\n",
    "    - For multiples of 5, say \"buzz\"\n",
    "    - For numbers that are multiples of both 3 and 5, say \"fizz, buzz\""
   ]
  },
  {
   "cell_type": "code",
   "execution_count": 70,
   "id": "3b1cdcb4",
   "metadata": {},
   "outputs": [
    {
     "name": "stdout",
     "output_type": "stream",
     "text": [
      "1\n",
      "2\n",
      "fizz\n",
      "4\n",
      "buzz\n",
      "fizz\n",
      "7\n",
      "8\n",
      "fizz\n",
      "buzz\n",
      "11\n",
      "fizz\n",
      "13\n",
      "14\n",
      "fizzbuzz\n",
      "16\n",
      "17\n",
      "fizz\n",
      "19\n",
      "buzz\n",
      "fizz\n",
      "22\n",
      "23\n",
      "fizz\n",
      "buzz\n",
      "26\n",
      "fizz\n",
      "28\n",
      "29\n",
      "fizzbuzz\n",
      "31\n",
      "32\n",
      "fizz\n",
      "34\n",
      "buzz\n",
      "fizz\n",
      "37\n",
      "38\n",
      "fizz\n",
      "buzz\n",
      "41\n",
      "fizz\n",
      "43\n",
      "44\n",
      "fizzbuzz\n",
      "46\n",
      "47\n",
      "fizz\n",
      "49\n",
      "buzz\n",
      "fizz\n",
      "52\n",
      "53\n",
      "fizz\n",
      "buzz\n",
      "56\n",
      "fizz\n",
      "58\n",
      "59\n",
      "fizzbuzz\n",
      "61\n",
      "62\n",
      "fizz\n",
      "64\n",
      "buzz\n",
      "fizz\n",
      "67\n",
      "68\n",
      "fizz\n",
      "buzz\n",
      "71\n",
      "fizz\n",
      "73\n",
      "74\n",
      "fizzbuzz\n",
      "76\n",
      "77\n",
      "fizz\n",
      "79\n",
      "buzz\n",
      "fizz\n",
      "82\n",
      "83\n",
      "fizz\n",
      "buzz\n",
      "86\n",
      "fizz\n",
      "88\n",
      "89\n",
      "fizzbuzz\n",
      "91\n",
      "92\n",
      "fizz\n",
      "94\n",
      "buzz\n",
      "fizz\n",
      "97\n",
      "98\n",
      "fizz\n",
      "buzz\n"
     ]
    }
   ],
   "source": [
    "for i in range(1,101):\n",
    "    if i % 3 ==0 and i % 5 == 0:\n",
    "        print(\"fizzbuzz\")\n",
    "    elif i % 5 ==0:\n",
    "        print(\"buzz\")\n",
    "    elif i % 3==0:\n",
    "        print(\"fizz\")\n",
    "    else: print(i)"
   ]
  },
  {
   "cell_type": "markdown",
   "id": "0d2e47b6",
   "metadata": {},
   "source": [
    "# 2. Tools to Help Understand the Flow of Algorithms "
   ]
  },
  {
   "cell_type": "markdown",
   "id": "05d1aec3",
   "metadata": {},
   "source": [
    "Tool to help visualize variables and their relationships throughout each step of a code block: \n",
    "\n",
    "[https://cscircles.cemc.uwaterloo.ca/visualize](https://cscircles.cemc.uwaterloo.ca/visualize)"
   ]
  },
  {
   "cell_type": "markdown",
   "id": "09093ef9",
   "metadata": {},
   "source": [
    "Other ways to debug your code:\n",
    "- Strategic use of print statements\n",
    "- Debuggers built into your IDE\n",
    "    - To use a debugger in your IDE, set a **break point**\n",
    "    - Then, instead of \"running\" code, \"debug\" code\n",
    "    - **Step Into**: step into a function and go through it line by line; also takes you into different modules that are being accessed when importing libraries or packages\n",
    "    - **Step Over**: step over a function, or, run the function in it's entirety and move on to the next step.\n",
    "    - **Step into your own code**: ignores any libraries that are being imported\n",
    "- Algoithm animations:\n",
    "    - For 100 doors: https://compucademy.net/100Doors\n",
    "    - For **linear search**: https://compucademy.net/linear-search\n",
    "    - **Good source of visualizations of algorithms:** https://visualgo.net/en\n",
    "- Pseudocode:\n",
    "    - A way of describing algorithms that is:\n",
    "        - Simple\n",
    "        - Clear\n",
    "        - Unambiguous\n",
    "        - Lanugage agnostic\n",
    "    - Since Python came along as a programming language, the need for pseudocode has decreased somewhat, as Python already meets the first three of these criteria.\n",
    "- Using a whiteboard to explore algorithms"
   ]
  },
  {
   "cell_type": "markdown",
   "id": "951fa67b",
   "metadata": {},
   "source": [
    "# 3. Brute Force Algorithms\n",
    "- Many computational problems can be solved by trying all possible candidate solutions until the correct solution is found\n",
    "- This approach is often called **exhaustive search** or **brute force search**.\n",
    "- Although clumsy and inefficient, a brute force version of an algorithm is often well worth trying to get a feel for a problem before attempting to implement a better solution\n",
    "- The reason a better solution is needed is that for many problems, the brute force method takes an impractical amount of time"
   ]
  },
  {
   "cell_type": "code",
   "execution_count": 74,
   "id": "6fdcb0b1",
   "metadata": {},
   "outputs": [
    {
     "data": {
      "text/plain": [
       "'\\nfor i in range(1, 101):\\n    if i % 2 ==0:\\n        print(i)\\n'"
      ]
     },
     "execution_count": 74,
     "metadata": {},
     "output_type": "execute_result"
    }
   ],
   "source": [
    "\"\"\"\n",
    "for i in range(1, 101):\n",
    "    if i % 2 ==0:\n",
    "        print(i)\n",
    "\"\"\""
   ]
  },
  {
   "cell_type": "markdown",
   "id": "afff6bbe",
   "metadata": {},
   "source": [
    "- The above solution to find all even numbers between 1 and 100 is very inefficient, as it performs as many checks as there are numbers in the range\n",
    "- We know that half of these checks will come out false\n",
    "- One possible alternative is to simply use the step parameter\n",
    "- The below code is only for printing even numbers, not for checking if numbers are even"
   ]
  },
  {
   "cell_type": "code",
   "execution_count": null,
   "id": "3f9a33fc",
   "metadata": {},
   "outputs": [],
   "source": [
    "\"\"\"\n",
    "for i in range(2, 101, 2):\n",
    "    print(i)\n",
    "\"\"\""
   ]
  },
  {
   "cell_type": "markdown",
   "id": "122d4f52",
   "metadata": {},
   "source": [
    "### Linear Search\n",
    "- A classic example of a brute force algorithm is a linear search.\n",
    "- A linear search involves checking each item in a collection to see if it is the one we are looking for."
   ]
  },
  {
   "cell_type": "code",
   "execution_count": 77,
   "id": "b5cde9c1",
   "metadata": {},
   "outputs": [],
   "source": [
    "def linear_search(nums, target):\n",
    "    for idx, val in enumerate(nums):\n",
    "        if val == target:\n",
    "            return indx\n",
    "    return -1"
   ]
  },
  {
   "cell_type": "markdown",
   "id": "d1950d17",
   "metadata": {},
   "source": [
    "### Selection Sort\n",
    "- Selection sort is a simple and intuitive sorting algorithm\n",
    "- It can be performed using an auxiliary array to store the results, or done in place (meaning no additional storage is required).\n",
    "- Since the in place version is not difficult to implement, this is the version you will usually see. \n",
    "\n",
    "#### Selection sort\n",
    "- Find the smallest element in the array and exchange it with the element in the first position\n",
    "- Find the second smallest element in the array and exchange it with the element in the second position\n",
    "- Repeat this process for the remaining items until the array is sorted\n",
    "\n",
    "#### Find minimum value\n",
    "- Create a variable called `min_index` and set it to the first position in the list (usually 0)\n",
    "- Iterate through the list, and if a value is smaller than the one at `min_index`, update `min_inde` to the new position."
   ]
  },
  {
   "cell_type": "code",
   "execution_count": 78,
   "id": "b89ac19f",
   "metadata": {},
   "outputs": [],
   "source": [
    "def find_min(nums):\n",
    "    min_index = 0\n",
    "    for i in range(len(nums)):\n",
    "        if nums[i] < nums[min_index]:\n",
    "            min_index = i\n",
    "    return nums[min_index]"
   ]
  },
  {
   "cell_type": "code",
   "execution_count": 79,
   "id": "4a4d9c4d",
   "metadata": {},
   "outputs": [],
   "source": [
    "def selection_sort(nums):\n",
    "    for i in range(len(nums)-1):\n",
    "        min_index = i\n",
    "        for j in range(i + 1,len(nums)):\n",
    "            if nums[j] < nums[min_index]:\n",
    "                min_index = j\n",
    "        nums[i], nums[min_index] = nums[min_index], nums[i]"
   ]
  },
  {
   "cell_type": "code",
   "execution_count": 80,
   "id": "1952b7c5",
   "metadata": {},
   "outputs": [],
   "source": [
    "nums=[3,2,1,5,4]\n",
    "selection_sort(nums)"
   ]
  },
  {
   "cell_type": "code",
   "execution_count": 81,
   "id": "175aa407",
   "metadata": {},
   "outputs": [
    {
     "data": {
      "text/plain": [
       "[1, 2, 3, 4, 5]"
      ]
     },
     "execution_count": 81,
     "metadata": {},
     "output_type": "execute_result"
    }
   ],
   "source": [
    "nums"
   ]
  },
  {
   "cell_type": "markdown",
   "id": "6fba6dc3",
   "metadata": {},
   "source": [
    "# 4. Analysis of Time-Space Complexity\n",
    "\n",
    "### Introduction to analysis of time-space complexity\n",
    "- When we discuss analysis in the context of algorithms, we are generally referring to the efficiency of an algorithm.\n",
    "- The opposite of efficiency is often referred to as complexity.\n",
    "- There's generally two types of efficiency that we're interested in:\n",
    "    - Space: memory requirements\n",
    "    - Time\n",
    "\n",
    "#### Time complexity\n",
    "- The basic technique for calculating time complexity is to add up how many basic operations an algorithm will execute as a function of the size of its input, and then to simplify this expression\n",
    "- Basic operations include:\n",
    "    - Assignments\n",
    "    - Arithmetic operations\n",
    "    - Comparison statements\n",
    "    - Calling a function\n",
    "    - Return statements\n",
    "    \n",
    "#### Big-O notation\n",
    "- Big-O notation is a way of expressing an upper bound on the execution time or space requirements of an algorithm\n",
    "\n",
    "<img src='img/1.png' width=\"600\" height=\"300\" align=\"center\"/>\n",
    "\n",
    "<img src='img/2.png' width=\"600\" height=\"300\" align=\"center\"/>"
   ]
  },
  {
   "cell_type": "markdown",
   "id": "98ddb856",
   "metadata": {},
   "source": [
    "- The reason we are interested in an upper bound is because past a certain point, we can be confident that an algorithm won't perform worse than this bound. This is important as many mission critical algorithms. Can't afford to exceed some worst-case scenario, even on occasion. \n",
    "- How to determine which big-O class an algorithm belongs to? **In practice, to determine the complexity of an algorithm, we make some drastic simplifications.**\n",
    "\n",
    "#### Big-O Notations\n",
    "- Depending on how we count, an algorithm may look to have `2n` or `5n + 20` basic operations, but for the purposes of analyzing its time complexity, we would consider both to be equivalent to O(n).\n",
    "- **We throw away ay constants:**\n",
    "    - If we have `2n` basic operations, we simplify and say the algorithm is `O(n)`.\n",
    "    - If we have `200` basic operations, we simplify that to **`O(1)=O(c)=O(constant)`**\n",
    "- **Ignore all but the largest term:**\n",
    "    - `n + 100` operations is simplified to `O(n)`\n",
    "    - `500n + 100` is also simplified to `O(n)`\n",
    "    - `n^2 + 40n + 400` basic operations is simplified to `O(n^2)`\n",
    "- The reason we can make these simplififcations is that we are interested in how the number of operations grows as `n` becomes very large, and the contribution of all but the largest term becomes less significant the larger `n` becomes.\n",
    "\n",
    "#### Other notations\n",
    "- Other measures than big O are used for measuring space and time complexity.\n",
    "- These include:\n",
    "    - **Big-omega notation** ($\\Omega$): a lower-bound for time or space complexity \n",
    "    - **Big-theta notation** ($\\Theta$): a tight-bound for time or space complexity (so it's neither above nor below)\n",
    "- For most purposes, however, sticking with Big-O is going to be sufficient\n",
    "\n",
    "#### The Big Idea of Big-O Notation\n",
    "- Make an estimate of the number of operations performed by an algorithm in terms of its input size `n`\n",
    "- Simplify the resulting expression by:\n",
    "    - Throwing away constants\n",
    "    - Only focusing on the largest term\n",
    "- Categorize the result into one of the Big-O classes, such as:\n",
    "    - `O(n^2)` : **Quadratic**\n",
    "    - `O(n)` : **Linear**\n",
    "    - `O(log n)` : **Logarithmic**\n",
    "    - `O(1)` : **Constant**"
   ]
  },
  {
   "cell_type": "markdown",
   "id": "4f8e8e6f",
   "metadata": {},
   "source": [
    "#### Big-O Notation Practice\n",
    "- `O(n + 10)` $\\Rightarrow$ `O(n)` = Linear\n",
    "- `O(100 * n)` $\\Rightarrow$ `O(n)` = Linear\n",
    "- `O(50)` $\\Rightarrow$ `O(1)` or `O(c)` = Constant\n",
    "- `O(n^2+n^3)` $\\Rightarrow$ `O(n^3)` = Cubic\n",
    "- `O(n + n + n + n)` $\\Rightarrow$ `O(n)` = Linear"
   ]
  },
  {
   "cell_type": "markdown",
   "id": "10fff559",
   "metadata": {},
   "source": [
    "#### Examples of time complexity with Python\n",
    "- a simple for loop: `O(n)`\n",
    "    - So long as the counter increases or decreases by a constant\n",
    "- a simple while loop: `O(n)`\n",
    "- a for loop where the counter increases by a multiple: `O(log(n))`"
   ]
  },
  {
   "cell_type": "code",
   "execution_count": 82,
   "id": "cc352ba0",
   "metadata": {},
   "outputs": [
    {
     "data": {
      "text/plain": [
       "'\\nn = 100\\nwhile n > 0:\\n    n = n // 2\\n    print(n)\\n'"
      ]
     },
     "execution_count": 82,
     "metadata": {},
     "output_type": "execute_result"
    }
   ],
   "source": [
    "\"\"\"\n",
    "n = 100\n",
    "while n > 0:\n",
    "    n = n // 2\n",
    "    print(n)\n",
    "\"\"\""
   ]
  },
  {
   "cell_type": "markdown",
   "id": "ab2e3924",
   "metadata": {},
   "source": [
    "- a single nested for loop: `O(n^2)` = Quadratic"
   ]
  },
  {
   "cell_type": "markdown",
   "id": "18be800b",
   "metadata": {},
   "source": [
    "#### Memory considerations when implementing algorithms\n",
    "- For example, when considering algorithms that work on arrays, some implementations may use an auxiliary array to store intermediate results, while others may restrict themselves to modifying the original array"
   ]
  },
  {
   "cell_type": "code",
   "execution_count": 83,
   "id": "e542a166",
   "metadata": {},
   "outputs": [
    {
     "name": "stdout",
     "output_type": "stream",
     "text": [
      "5\n"
     ]
    }
   ],
   "source": [
    "def my_sum(lst):\n",
    "    total = 0\n",
    "    for i in range(len(lst)):\n",
    "        total += lst[i]\n",
    "        return total \n",
    "    \n",
    "my_list = [5, 4, 3, 2, 1]\n",
    "print(my_sum(my_list))"
   ]
  },
  {
   "cell_type": "markdown",
   "id": "25d9a730",
   "metadata": {},
   "source": [
    "- The **space complexity** of the `my_sum` function about is `O(1)` or **constant**\n",
    "- Aside from the input, we only have two variables: total and i\n",
    "- Regardless of the contents of the list, we are always only going to have these same two variables, each of which contains a single number.\n",
    "- While we add to the total variable, we don't create or add any new variables.\n",
    "- Since we are discussing space, not time, complexity, we are not interested in the number of operations."
   ]
  },
  {
   "cell_type": "code",
   "execution_count": 85,
   "id": "53bc2c9b",
   "metadata": {},
   "outputs": [
    {
     "name": "stdout",
     "output_type": "stream",
     "text": [
      "[10, 8, 6, 4, 2]\n"
     ]
    }
   ],
   "source": [
    "def double(lst):\n",
    "    new_list=[]\n",
    "    for i in range(len(lst)):\n",
    "        new_list.append(lst[i] * 2)\n",
    "    return new_list\n",
    "\n",
    "my_list = [5, 4, 3, 2, 1]\n",
    "print(double(my_list))"
   ]
  },
  {
   "cell_type": "markdown",
   "id": "eb1c5c3f",
   "metadata": {},
   "source": [
    "- The **space complexity** of the `double` function above is **`O(n)`**\n",
    "- The longer the list passed to the function is, the longer the new list that gets returned is.\n",
    "- This means that the function's required space will increase depending on the length of the input list\n",
    "- Hence, the space requirement increases as the size of the input list increases\n",
    "- Space complexity is often not such an important consideration as time complexity, but there are certainly situations where it matters"
   ]
  },
  {
   "cell_type": "markdown",
   "id": "f474d831",
   "metadata": {},
   "source": [
    "# 5. Greedy Algorithms\n",
    "#### Greedy Algorithm Features\n",
    "- Makes locally optimal choices at any given point\n",
    "- Do not revisit choices once made\n",
    "- This can make the algorithm \"short-sighted,\" and it may not find the optimal solution. However, there are advantges to the greedy approach\n",
    "\n",
    "#### Greedy Algorithms: Advantages\n",
    "- Often quite fast\n",
    "- Relatively easy to implement\n",
    "\n",
    "#### Greedy Algorithms: Disadvantages\n",
    "- Short-sighted: may not provide optimal solution\n",
    "- May fail on some instances of a problem\n",
    "\n",
    "#### The Change-Making Problem\n",
    "- Goal: Find the minimum number of coins from a set of denominations that add up to a given amount of money"
   ]
  },
  {
   "cell_type": "code",
   "execution_count": 151,
   "id": "40a86b1b",
   "metadata": {},
   "outputs": [],
   "source": [
    "def count_coins(coins, amount):\n",
    "    if amount <= 0:\n",
    "        return -1\n",
    "    coins.sort(reverse=True)\n",
    "    coin_count= 0\n",
    "    for coin in coins:\n",
    "        coin_count += (amount // coin)\n",
    "        amount -= (coin*(amount//coin))\n",
    "    return amount"
   ]
  },
  {
   "cell_type": "code",
   "execution_count": 144,
   "id": "be7e8f67",
   "metadata": {},
   "outputs": [],
   "source": [
    "def count_coins(coins, amount):\n",
    "    if amount<= 0:\n",
    "        return -1\n",
    "    coins.sort(reverse=True)\n",
    "    coin_count = 0\n",
    "    for coin in coins:\n",
    "        while amount >= coin:\n",
    "            amount -= coin\n",
    "            coin_count += 1\n",
    "    return coin_count"
   ]
  },
  {
   "cell_type": "markdown",
   "id": "a50fd2f3",
   "metadata": {},
   "source": [
    "The above is a greedy algorithm because it:\n",
    "   - Makes locally optimal choices\n",
    "       - At any given point, our algorithm chooses the highest value that it thinks is going to be useful\n",
    "   - Locally optimal is not always globally optimal\n",
    "   - We do not revisit choices once they are made\n",
    "   \n",
    "  \n",
    "This same problem can be solved using dynamic program to avoid the pitfalls of the greedy algorithm approach"
   ]
  },
  {
   "cell_type": "markdown",
   "id": "851f59ec",
   "metadata": {},
   "source": [
    "## Dijkstra's Algorithm\n",
    "- Djikstra's algorithm is a classic example of a greedy algorithm\n",
    "- Used to find the shortest path between two vertices in a weighted graph\n",
    "- **It is optimal, meaning it will always find the shortest path, provided the weights in the graph are not negative**\n",
    "- It uses a greedy approach.\n",
    "- Weights must be positive to guarantee correct results\n",
    "- As a bonus, it gives the shortest path to every node from the origin\n",
    "\n",
    "#### Pseudocode\n",
    "- While any vertex remains unvisited:\n",
    "    - Visit unvisited vertex with smallest known distane from the start vertex. Call this `current_vertex`.\n",
    "    - For each unvisited neighbor of `current_vertex`:\n",
    "        - Calculate the new distance of the start vertex if this route is taken.\n",
    "        - If the calculated distance of this vertex is less than the known distance:\n",
    "            - Update the distance for this neighbor.\n",
    "      \n",
    "#### Python implementation"
   ]
  },
  {
   "cell_type": "markdown",
   "id": "479228a0",
   "metadata": {},
   "source": [
    "**[GitHub Repo here](https://github.com/LinkedInLearning/algorithmic-thinking-with-python-foundations-2450259/blob/05_07/05_07/dijkstra_1.py)**"
   ]
  },
  {
   "cell_type": "code",
   "execution_count": 5,
   "id": "8797f594",
   "metadata": {},
   "outputs": [
    {
     "name": "stdout",
     "output_type": "stream",
     "text": [
      "[('U', 0), ('V', 6), ('W', 7), ('X', 8)]\n"
     ]
    }
   ],
   "source": [
    "INF = float(\"infinity\")\n",
    "\n",
    "# Define graph as dictionary representing adjacency list.\n",
    "graph = {\n",
    "    \"U\": {\"V\": 6, \"W\": 7},\n",
    "    \"V\": {\"U\": 6, \"X\": 10},\n",
    "    \"W\": {\"U\": 7, \"X\": 1},\n",
    "    \"X\": {\"W\": 1, \"V\": 10}\n",
    "}\n",
    "# [('U', 0), ('V', 6), ('W', 7), ('X', 8)]\n",
    "\n",
    "\n",
    "# graph = {\n",
    "#     \"A\": {\"B\": 6, \"D\": 1},\n",
    "#     \"B\": {\"A\": 6, \"C\": 5, \"D\": 2, \"E\": 2},\n",
    "#     \"C\": {\"B\": 5, \"E\": 5},\n",
    "#     \"D\": {\"A\": 1, \"B\": 2, \"E\": 1},\n",
    "#     \"E\": {\"B\": 2, \"C\": 5, \"D\": 1}\n",
    "# }\n",
    "# [('A', 0), ('B', 3), ('C', 7), ('D', 1), ('E', 2)]\n",
    "\n",
    "\n",
    "unvisited_min_distances = {vertex: INF for vertex in graph}\n",
    "visited_vertices = {}\n",
    "current_vertex = \"U\"  # The start node.\n",
    "unvisited_min_distances[current_vertex] = 0\n",
    "\n",
    "# While vertices remain unvisited\n",
    "while len(unvisited_min_distances) > 0:\n",
    "    # Visit unvisited vertex with smallest known distance from start vertex.\n",
    "    current_vertex, current_distance = sorted(unvisited_min_distances.items(), key=lambda x: x[1])[\n",
    "        0]  # Very inefficient - use priority queue in \"real\" version.\n",
    "    # For each unvisited neighbour of the current vertex\n",
    "    for neighbour, neighbour_distance in graph[current_vertex].items():\n",
    "        # If a neighbour has been processed, skip it.\n",
    "        if neighbour in visited_vertices:\n",
    "            continue\n",
    "        # Calculate the new distance if this route is taken.\n",
    "        potential_new_distance = current_distance + neighbour_distance\n",
    "        # If the calculated distance of this vertex is less than the known distance\n",
    "        if potential_new_distance < unvisited_min_distances[neighbour]:\n",
    "            # Update the distance for this neighbour.\n",
    "            unvisited_min_distances[neighbour] = potential_new_distance\n",
    "    # Add the current vertex to the visited vertices.\n",
    "    visited_vertices[current_vertex] = current_distance\n",
    "    # Remove the current vertex from the unvisited list (dictionary).\n",
    "    del unvisited_min_distances[current_vertex]\n",
    "\n",
    "# Display results.\n",
    "print(sorted(visited_vertices.items()))"
   ]
  },
  {
   "cell_type": "markdown",
   "id": "8c96aa8d",
   "metadata": {},
   "source": [
    "#### Priority Queue\n",
    "- The **priority queue** is an advanced type of the queue data structure.\n",
    "- Instead of dequeuing the oldest element, a priority queue sorts and dequeues elements based on their priorities. \n",
    "- Priorities queues are often used to handle scheduling problems where some tasks are prioritized over others. \n",
    "- Python provides a built-in implementation of the priority queue data structure\n"
   ]
  },
  {
   "cell_type": "markdown",
   "id": "9e23488d",
   "metadata": {},
   "source": [
    "# 6. Decrease and Conquer\n",
    "#### The Ferrying Puzzle \n",
    "- A group of 20 adults must cross a river with no bridge\n",
    "- There are two boys playing in a small boat by the shore\n",
    "- The boat is only large enough to carry a single adult or the two boys\n",
    "- How can they all get across the river, leaving the two boys in the boat on the same side as they started?\n",
    "- Challenge: work out the minimum number of crossings that the boat must take"
   ]
  },
  {
   "cell_type": "code",
   "execution_count": null,
   "id": "86117e31",
   "metadata": {},
   "outputs": [],
   "source": [
    "\"\"\"\n",
    "Ferrying Soldiers Puzzle Python Implementation\n",
    "Robin Andrews - https://compucademy.net/\n",
    "\"\"\"\n",
    "\n",
    "NUM_SOLDIERS = 20\n",
    "\n",
    "\n",
    "def print_state(state, moves_taken):\n",
    "    print((\"*\" * 50))\n",
    "    left_bank, right_bank, bank = state[\"left_bank\"], state[\"right_bank\"], state[\"bank\"]\n",
    "    print(\"#### FERRYING SOLDIERS PUZZLE - CURRENT STATE ####\\n\")\n",
    "    print(\"Moves taken: \", moves_taken, \"\\n\")\n",
    "    print(left_bank['boys'], \"boys,\", left_bank['soldiers'], \"soldiers | \", right_bank['boys'], \"boys,\",\n",
    "          right_bank['soldiers'], \"soldiers\\n\")\n",
    "    print(\"Boat is on\", bank, \"bank\")\n",
    "\n",
    "\n",
    "def get_move(state):\n",
    "    print(\"\\nPuzzle options: \\n\")\n",
    "    print(\"1. Ferry both boys from left to right bank\")\n",
    "    print(\"2. Ferry both boys from right to left bank\")\n",
    "    print(\"3. Ferry one boy from left to right bank\")\n",
    "    print(\"4. Ferry one boy from right to left bank\")\n",
    "    print(\"5. Ferry a soldier from left to right bank\")\n",
    "    print(\"6. Ferry a soldier from right to left bank\\n\")\n",
    "    choice = 0\n",
    "    while choice not in [1, 2, 3, 4, 5, 6]:\n",
    "        try:\n",
    "            choice = int(eval(input(\"Choose an action(1-6): \")))\n",
    "        except:\n",
    "            continue\n",
    "\n",
    "    return choice\n",
    "\n",
    "\n",
    "def process_move(move, state, moves_taken):\n",
    "    # We can allow 1 boy, 2 boys or one soldier to cross only\n",
    "    bank = state[\"bank\"]\n",
    "    legal_move = False\n",
    "    # Move both boys from left to right bank\n",
    "    if move == 1 and bank == \"left\":\n",
    "        if state[\"left_bank\"][\"boys\"] == 2:\n",
    "            state[\"left_bank\"][\"boys\"] -= 2\n",
    "            state[\"right_bank\"][\"boys\"] += 2\n",
    "            legal_move = True\n",
    "            state[\"bank\"] = \"right\"\n",
    "    elif move == 2 and bank == \"right\":\n",
    "        if state[\"right_bank\"][\"boys\"] == 2:\n",
    "            state[\"right_bank\"][\"boys\"] -= 2\n",
    "            state[\"left_bank\"][\"boys\"] += 2\n",
    "            legal_move = True\n",
    "            state[\"bank\"] = \"left\"\n",
    "    elif move == 3 and bank == \"left\":\n",
    "        if state[\"left_bank\"][\"boys\"] > 0:\n",
    "            state[\"left_bank\"][\"boys\"] -= 1\n",
    "            state[\"right_bank\"][\"boys\"] += 1\n",
    "            legal_move = True\n",
    "            state[\"bank\"] = \"right\"\n",
    "    elif move == 4 and bank == \"right\":\n",
    "        if state[\"right_bank\"][\"boys\"] > 0:\n",
    "            state[\"right_bank\"][\"boys\"] -= 1\n",
    "            state[\"left_bank\"][\"boys\"] += 1\n",
    "            legal_move = True\n",
    "            state[\"bank\"] = \"left\"\n",
    "    elif move == 5 and bank == \"left\":\n",
    "        if state[\"left_bank\"][\"soldiers\"] > 0:\n",
    "            state[\"left_bank\"][\"soldiers\"] -= 1\n",
    "            state[\"right_bank\"][\"soldiers\"] += 1\n",
    "            legal_move = True\n",
    "            state[\"bank\"] = \"right\"\n",
    "    elif move == 6 and bank == \"right\":\n",
    "        if state[\"right_bank\"][\"soldiers\"] > 0:\n",
    "            state[\"right_bank\"][\"soldiers\"] -= 1\n",
    "            state[\"left_bank\"][\"soldiers\"] += 1\n",
    "            legal_move = True\n",
    "            state[\"bank\"] = \"left\"\n",
    "\n",
    "    if legal_move:\n",
    "        moves_taken += 1\n",
    "        return state, moves_taken\n",
    "    else:\n",
    "        print(\"That move is not possible at this time.\")\n",
    "        return state, moves_taken\n",
    "\n",
    "\n",
    "def is_win(state):\n",
    "    return state == {\"left_bank\": {\"boys\": 2, \"soldiers\": 0},\n",
    "                     \"right_bank\": {\"boys\": 0, \"soldiers\": NUM_SOLDIERS},\n",
    "                     \"bank\": \"left\"}\n",
    "\n",
    "\n",
    "def main():\n",
    "    state = {\"left_bank\": {\"boys\": 2, \"soldiers\": NUM_SOLDIERS},\n",
    "             \"right_bank\": {\"boys\": 0, \"soldiers\": 0},\n",
    "             \"bank\": \"left\"}\n",
    "    moves_taken = 0\n",
    "    while not is_win(state):\n",
    "        print_state(state, moves_taken)\n",
    "        move = get_move(state)\n",
    "        state, moves_taken = process_move(move, state, moves_taken)\n",
    "\n",
    "    print(\"Well done - you solved the puzzle! You took\", moves_taken, \"moves.\")\n",
    "\n",
    "\n",
    "main()"
   ]
  },
  {
   "cell_type": "markdown",
   "id": "da108abf",
   "metadata": {},
   "source": [
    "#### The Ferrying Puzzle Solution\n",
    "- First, the two boys must row the boat to the other side, after which one of them returns with the boat\n",
    "- Then a single adult rows the boat to the other side and stays there while the other boy returns the boat\n",
    "- These four trips reduce the probme size by 1 (described by the number of adults needing to cross the river\n",
    "- Thus, if this four-trip procedure is repeated a total of 20 times, the problem will be solved after a total of 80 trips\n",
    "- For the general instance of `n` adults, `4n` trips will need to be made\n",
    "- The ferrying puzzle provides a great illustration of the **decrease and conquer strategy** for solving computational problems.\n",
    "\n",
    "### Decrease and conquer\n",
    "- **Decrease and conquer** is a computational problem-solving technique which takes a problem and reduces it to a smaller problem which is easier to solve. \n",
    "- This **is sometimes confused with divide and conquer,** which is similar, but which breaks a problem into multiple smaller problems.\n",
    "\n",
    "#### Classic examples of decrease and conquer:\n",
    "- Binary search\n",
    "- Euclid's algorithm\n",
    "- Depth-first search\n",
    "- Breadth-first search\n",
    "- Insertion sort\n",
    "- Selection sort\n",
    "\n",
    "\n",
    "- **At each step of the algorithm, the problem is reduced to a smaller version of the same problem, until a solution is found (or found not to be possible). \n",
    "\n",
    "#### Decrease by:\n",
    "- **A constant of one:**\n",
    "    - Insertion sort\n",
    "    - Graph search algorithms like DFS, BFS\n",
    "- **A constant factor of two:**\n",
    "    - Binary search\n",
    "    - Fake-coin detection problems\n",
    "    - \"Russian peasant multiplication\"\n",
    "- **Variable-size decrease:**\n",
    "    - A classic example here would be the Euclidean algorithm for finding the greatest common divisor of two integers, where the amount of decrease depends on the values given."
   ]
  },
  {
   "cell_type": "markdown",
   "id": "29900ff1",
   "metadata": {},
   "source": [
    "### Binary Search\n",
    "- Binary search is often classified as \"divide and conquer,\" but technically it is \"decrease and conquer,\" as the search space is reduced by a factor of 2 at each step. \n",
    "- Data must be **sorted**\n",
    "- Once we hae sorted data, we then assign two pointers.\n",
    "- Time complexity: **O(log n) when data is already sorted**\n",
    "    - The best sorting algorithms generally have **O(n log n)**\n",
    "- So **binary search only makes sense if the data will be searched multiple times**"
   ]
  }
 ],
 "metadata": {
  "kernelspec": {
   "display_name": "Python 3",
   "language": "python",
   "name": "python3"
  },
  "language_info": {
   "codemirror_mode": {
    "name": "ipython",
    "version": 3
   },
   "file_extension": ".py",
   "mimetype": "text/x-python",
   "name": "python",
   "nbconvert_exporter": "python",
   "pygments_lexer": "ipython3",
   "version": "3.8.8"
  }
 },
 "nbformat": 4,
 "nbformat_minor": 5
}
