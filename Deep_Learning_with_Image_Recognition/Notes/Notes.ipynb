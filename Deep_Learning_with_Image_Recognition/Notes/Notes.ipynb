{
 "cells": [
  {
   "cell_type": "markdown",
   "id": "3ec6ea80",
   "metadata": {},
   "source": [
    "# Deep Learning: Image Recognition\n",
    "**Instructor:** Adam Geitgey\n",
    "\n",
    "Thanks to deep learning, image recognition systems have improved and are now used for everything from searching photo libraries to generating text-based descriptions of photographs. In this course, learn how to build a deep neural network that can recognize objects in photographs. Find out how to adjust state-of-the-art deep neural networks to recognize new objects, without the need to retrain the network. Explore cloud-based image recognition APIs that you can use as an alternative to building your own systems. Learn the steps involved to start building and deploying your own image recognition system."
   ]
  },
  {
   "cell_type": "markdown",
   "id": "baff2e4e",
   "metadata": {},
   "source": [
    "#### Build cutting-edge image recognition systems\n",
    "* **Image recognition** is the ability for computers to look at a photograph and understand what's in the photograph\n",
    "* In the last few years, researchers have made major break throughs in image recognition thanks to neural networks\n",
    "* **Keras** is a high-level library for building neural networks in Python with only a few lines of code; built on top of either TensorFlow or Theano\n",
    "* One of the most important things to configure in a neural network is activation functions\n",
    "    * Before values flow from one layer to the next they pass through an activation function\n",
    "    * **Activation functions** decide which inputs from the previous layer are important enough to feed to the next layer\n",
    "* The final step of defining a neural network is to compile it by calling `model.compile()`; this tells Keras that we're done building the model and that we actually want to carry it out in memory\n",
    "* The optimizer algorithm is used to train the neural network\n",
    "* The loss function is how the training process measures how right or how wrong your NN's predictions are\n",
    "\n",
    "#### Using Images as Input to a NN\n",
    "* Bright points are closer to 255 and dark points are closer to 0\n",
    "* We can think of an image as a 3D array that is always three layers deep; so to be able to feed this image into a NN, we need the NN to have 1 input node for every number in this 3-D array (ie pixel)\n",
    "* These numbers add up very quickly\n",
    "* For a small **256 x 256 pixel image**, (by modern terms, a pretty tiny image):\n",
    "    * We need 256 x 256 x 3 = **196,608 input nodes**\n",
    "    * And that's just for the input layer\n",
    "    * The number of nodes in the entire neural network will quickly grow into the millions\n",
    "    * That's why using NNs for image processing in so computationally intensive\n",
    "        * **Because of this, image recognition systems tend to use small image sizes**\n",
    "        * It's very common to build image recognition systems that work with images that are **between 128 and 512 pixels wide.**\n",
    "        * Any larger than that, and it gets too slow and requires too much memory\n",
    "        * When working with larger images, we usually just scale them down to those smaller sizes before feeding them into the neural network "
   ]
  },
  {
   "cell_type": "markdown",
   "id": "84f0406c",
   "metadata": {},
   "source": [
    "### Recognizing Image Contents with a Neural Network\n",
    "* During the **inference phase** the neural network will give us a **prediction**; this prediction will be in the form of a probability\n",
    "* We can also build a single neural neetwork that has more than one output\n",
    "\n",
    "<img src='data/nn1.png' width=\"600\" height=\"300\" align=\"center\"/>\n",
    "\n",
    "* You can roughly think of the the top (leftmost) layers as looking for simple patterns like lines and sharp edges and the lower layers use the signals from the higher layers to look for more and more complex shapes and patterns\n",
    "* With all the layers working together, the model can identify very complex objects\n",
    "* That means that adding more layers to a NN tends to give it the capacity to learn more complex patterns and shapes; this is where the term **deep learning** originally came from\n",
    "* **Deep learning** is just the idea that making models deeper by adding more capacity to them lets us recognize more complex patterns in data"
   ]
  },
  {
   "cell_type": "markdown",
   "id": "595c72cc",
   "metadata": {},
   "source": []
  },
  {
   "cell_type": "code",
   "execution_count": null,
   "id": "6587a6c8",
   "metadata": {},
   "outputs": [],
   "source": []
  },
  {
   "cell_type": "code",
   "execution_count": null,
   "id": "45b736a2",
   "metadata": {},
   "outputs": [],
   "source": []
  },
  {
   "cell_type": "code",
   "execution_count": null,
   "id": "dac4378e",
   "metadata": {},
   "outputs": [],
   "source": []
  },
  {
   "cell_type": "code",
   "execution_count": null,
   "id": "60618d2f",
   "metadata": {},
   "outputs": [],
   "source": []
  },
  {
   "cell_type": "code",
   "execution_count": null,
   "id": "c782c576",
   "metadata": {},
   "outputs": [],
   "source": []
  },
  {
   "cell_type": "code",
   "execution_count": null,
   "id": "54f354c7",
   "metadata": {},
   "outputs": [],
   "source": []
  },
  {
   "cell_type": "code",
   "execution_count": null,
   "id": "718af910",
   "metadata": {},
   "outputs": [],
   "source": []
  },
  {
   "cell_type": "code",
   "execution_count": null,
   "id": "750300a5",
   "metadata": {},
   "outputs": [],
   "source": []
  },
  {
   "cell_type": "code",
   "execution_count": null,
   "id": "59fb4346",
   "metadata": {},
   "outputs": [],
   "source": []
  },
  {
   "cell_type": "code",
   "execution_count": null,
   "id": "905a5af3",
   "metadata": {},
   "outputs": [],
   "source": []
  },
  {
   "cell_type": "code",
   "execution_count": null,
   "id": "95386a56",
   "metadata": {},
   "outputs": [],
   "source": []
  },
  {
   "cell_type": "code",
   "execution_count": null,
   "id": "45a3e675",
   "metadata": {},
   "outputs": [],
   "source": []
  },
  {
   "cell_type": "code",
   "execution_count": null,
   "id": "682c89b9",
   "metadata": {},
   "outputs": [],
   "source": []
  },
  {
   "cell_type": "code",
   "execution_count": null,
   "id": "a0b63fdf",
   "metadata": {},
   "outputs": [],
   "source": []
  },
  {
   "cell_type": "markdown",
   "id": "56731f3c",
   "metadata": {},
   "source": [
    "<img src='../data/keras1.png' width=\"600\" height=\"300\" align=\"center\"/>"
   ]
  }
 ],
 "metadata": {
  "kernelspec": {
   "display_name": "Python 3",
   "language": "python",
   "name": "python3"
  },
  "language_info": {
   "codemirror_mode": {
    "name": "ipython",
    "version": 3
   },
   "file_extension": ".py",
   "mimetype": "text/x-python",
   "name": "python",
   "nbconvert_exporter": "python",
   "pygments_lexer": "ipython3",
   "version": "3.8.8"
  }
 },
 "nbformat": 4,
 "nbformat_minor": 5
}
