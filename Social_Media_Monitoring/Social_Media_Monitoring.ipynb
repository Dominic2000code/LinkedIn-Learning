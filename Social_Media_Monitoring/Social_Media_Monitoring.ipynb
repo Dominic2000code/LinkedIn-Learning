{
 "cells": [
  {
   "cell_type": "markdown",
   "id": "1d836287",
   "metadata": {},
   "source": [
    "# Social Media Monitoring: Strategies and Skills"
   ]
  },
  {
   "cell_type": "markdown",
   "id": "e377f81e",
   "metadata": {},
   "source": [
    "**Instructor:** Martin Waxman\n",
    "\n",
    "Social media can provide your company with a wealth of information about what your customers—and competitors—really think about your organization. In this course, learn how to incorporate social media monitoring into your organization's marketing strategy. Join digital and social media strategist Martin Waxman as he compares key social listening and monitoring apps and describes what each can do for your business, as well as how to make platforms like Hootsuite your social listening command center. He demonstrates how to use social media monitoring for customer service, to find influencers, and to discover insights that could lead to new products and opportunities. And he shows you how to identify issues and crisis situations where your company's reputation may be at stake."
   ]
  },
  {
   "cell_type": "markdown",
   "id": "8554054e",
   "metadata": {},
   "source": [
    "**Social media monitoring + Research + Customer data = Real-time pulse**"
   ]
  },
  {
   "cell_type": "markdown",
   "id": "66bd180a",
   "metadata": {},
   "source": [
    "- **Social media monitoring** uses **customer insights** from social listening to shape your **marketing strategy.**\n",
    "- Social media monitoring can be considered a type of business intelligence.\n",
    "- Set **Google alerts** for your company, CEO, and products.\n",
    "- Use **Google Trends** to find the latest news and topics people are searching for.\n",
    "\n",
    "<img src='data/google_trends1.png' width=\"600\" height=\"300\" align=\"center\"/>\n",
    "\n",
    "<img src='data/google_trends2.png' width=\"600\" height=\"300\" align=\"center\"/>"
   ]
  },
  {
   "cell_type": "markdown",
   "id": "768bdde7",
   "metadata": {},
   "source": [
    "* Social media monitoring is not simply a digital activity. **Make sure you have a good relationship with your frontline customer service or sales team and encourage them to share customer questions and concerns with you.** In doing this, you can develop a process for them to communicate those to your digital marketing team.\n",
    "* Use social listening to become a trusted, top-of-mind brand.\n",
    "\n",
    "### Understanding your customer needs\n",
    "* **Many businesses and people talk way too much, and social media has just amplified the racket.**\n",
    "* Avoid the hard sell all the time.\n",
    "* **Social Media Monitoring allows you to listen to and gather data *from* your customers.**\n",
    "* Build stronger business relationships by:\n",
    "    - Listening more\n",
    "    - Talking less on social media\n",
    "    - Shift attitude toward customer needs\n",
    "* Imagine the world from your customer's POV:\n",
    "    - What motivates them?\n",
    "    - What is their day like?\n",
    "    - What are their challenges or goals?\n",
    "    - Is your relationship transactional?\n",
    "* To do this, **monitor on multiple channels and with more than one or two keywords or hashtags.**\n",
    "\n",
    "#### Become a Better Listener\n",
    "- Listen for curiosity\n",
    "- Ask questions\n",
    "- Let people finish their points\n",
    "- Repeat back what you heard\n",
    "\n",
    "\n",
    "Pay attention to your customers and they'll listen to you too."
   ]
  },
  {
   "cell_type": "markdown",
   "id": "a3a51955",
   "metadata": {},
   "source": [
    "#### Team, training, workflow, and budget\n",
    "- How do you develop a workable process so that you're developing the insights you need?\n",
    "- Think of your team as social media detectives.\n",
    "- Social media monitoring is a nonstop operation.\n",
    "#### Determine Your Workflow\n",
    "* Develop specific policies (privacy, customer service, etc.)\n",
    "* Issue or crisis guidelines\n",
    "* Protocol to flag or escalate issues \n",
    "* Training and onboarding"
   ]
  },
  {
   "cell_type": "markdown",
   "id": "fa04b3d3",
   "metadata": {},
   "source": [
    "### Fine-tune how you search for content\n",
    "* Around **93% of all online activities start with search.** $\\Leftarrow$\n",
    "* You could say \"search results are like the new front page.\"\n",
    "* **Discover what's on your customers' minds through social listening.**\n",
    "* You can broaden your understanding by integrating the long tail of search. \n",
    "\n",
    "<img src='data/socialmedia1.png' width=\"600\" height=\"300\" align=\"center\"/>"
   ]
  },
  {
   "cell_type": "markdown",
   "id": "6c859977",
   "metadata": {},
   "source": [
    "- **Twitter Advanced Search** or **Google Advanced Search** to add in more parameters to your search and discover some of the long tail of search"
   ]
  },
  {
   "cell_type": "markdown",
   "id": "a6312540",
   "metadata": {},
   "source": []
  },
  {
   "cell_type": "markdown",
   "id": "896dfd72",
   "metadata": {},
   "source": []
  },
  {
   "cell_type": "markdown",
   "id": "0778ca63",
   "metadata": {},
   "source": []
  },
  {
   "cell_type": "markdown",
   "id": "ef0f1696",
   "metadata": {},
   "source": []
  },
  {
   "cell_type": "markdown",
   "id": "f321ba56",
   "metadata": {},
   "source": []
  }
 ],
 "metadata": {
  "kernelspec": {
   "display_name": "Python 3",
   "language": "python",
   "name": "python3"
  },
  "language_info": {
   "codemirror_mode": {
    "name": "ipython",
    "version": 3
   },
   "file_extension": ".py",
   "mimetype": "text/x-python",
   "name": "python",
   "nbconvert_exporter": "python",
   "pygments_lexer": "ipython3",
   "version": "3.8.8"
  }
 },
 "nbformat": 4,
 "nbformat_minor": 5
}
