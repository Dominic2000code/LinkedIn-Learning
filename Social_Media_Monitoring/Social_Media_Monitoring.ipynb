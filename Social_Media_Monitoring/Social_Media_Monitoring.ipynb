{
 "cells": [
  {
   "cell_type": "markdown",
   "id": "3793a155",
   "metadata": {},
   "source": [
    "# Social Media Monitoring: Strategies and Skills"
   ]
  },
  {
   "cell_type": "markdown",
   "id": "f54195f1",
   "metadata": {},
   "source": [
    "**Instructor:** Martin Waxman\n",
    "\n",
    "Social media can provide your company with a wealth of information about what your customers—and competitors—really think about your organization. In this course, learn how to incorporate social media monitoring into your organization's marketing strategy. Join digital and social media strategist Martin Waxman as he compares key social listening and monitoring apps and describes what each can do for your business, as well as how to make platforms like Hootsuite your social listening command center. He demonstrates how to use social media monitoring for customer service, to find influencers, and to discover insights that could lead to new products and opportunities. And he shows you how to identify issues and crisis situations where your company's reputation may be at stake."
   ]
  },
  {
   "cell_type": "markdown",
   "id": "bde6f8b5",
   "metadata": {},
   "source": [
    "**Social media monitoring + Research + Customer data = Real-time pulse**"
   ]
  },
  {
   "cell_type": "markdown",
   "id": "f7010cb5",
   "metadata": {},
   "source": [
    "- **Social media monitoring** uses **customer insights** from social listening to shape your **marketing strategy.**\n",
    "- Social media monitoring can be considered a type of business intelligence.\n",
    "- Set **Google alerts** for your company, CEO, and products.\n",
    "- Use **Google Trends** to find the latest news and topics people are searching for.\n",
    "\n",
    "<img src='data/google_trends.png' width=\"600\" height=\"300\" align=\"center\"/>\n",
    "\n",
    "<img src='data/tensor2.png' width=\"600\" height=\"300\" align=\"center\"/>"
   ]
  },
  {
   "cell_type": "markdown",
   "id": "2d361fab",
   "metadata": {},
   "source": []
  },
  {
   "cell_type": "markdown",
   "id": "3c550415",
   "metadata": {},
   "source": []
  },
  {
   "cell_type": "markdown",
   "id": "067b3b38",
   "metadata": {},
   "source": []
  },
  {
   "cell_type": "markdown",
   "id": "116fcada",
   "metadata": {},
   "source": []
  },
  {
   "cell_type": "markdown",
   "id": "36991364",
   "metadata": {},
   "source": []
  },
  {
   "cell_type": "markdown",
   "id": "e5a64212",
   "metadata": {},
   "source": []
  },
  {
   "cell_type": "markdown",
   "id": "5ea7d864",
   "metadata": {},
   "source": []
  },
  {
   "cell_type": "markdown",
   "id": "b2d8a287",
   "metadata": {},
   "source": []
  },
  {
   "cell_type": "markdown",
   "id": "148e7345",
   "metadata": {},
   "source": []
  }
 ],
 "metadata": {
  "kernelspec": {
   "display_name": "Python 3",
   "language": "python",
   "name": "python3"
  },
  "language_info": {
   "codemirror_mode": {
    "name": "ipython",
    "version": 3
   },
   "file_extension": ".py",
   "mimetype": "text/x-python",
   "name": "python",
   "nbconvert_exporter": "python",
   "pygments_lexer": "ipython3",
   "version": "3.8.8"
  }
 },
 "nbformat": 4,
 "nbformat_minor": 5
}
