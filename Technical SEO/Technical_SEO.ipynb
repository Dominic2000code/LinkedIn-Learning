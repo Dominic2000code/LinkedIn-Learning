{
 "cells": [
  {
   "cell_type": "markdown",
   "id": "34e10e98",
   "metadata": {},
   "source": [
    "# Technical SEO"
   ]
  },
  {
   "cell_type": "markdown",
   "id": "24024b53",
   "metadata": {},
   "source": [
    "**Instructor:** Dana DiTomaso\n",
    "\n",
    "Even if the only thing you know about SEO is what the letters S, E, and O stand for, you probably know that good content on your website only goes so far when it comes to improving visibility. In order to maximize ROI and increase leads to your business, you need technical search engine optimization. In this course, Dana DiTomaso shows how to optimize your website for SEO by looking at how crawlers work, strategies for increasing site speed, using schema, architecture, URLs, and image/video to your SEO advantage. In addition to the actual nuts and bolts of SEO, Dana also covers the importance of making concrete recommendations to web developers, so you can actually get the fixes implemented."
   ]
  },
  {
   "cell_type": "markdown",
   "id": "af23a9db",
   "metadata": {},
   "source": [
    "Your overal SEO success will depend on your technical SEO success\n",
    "* Recommended: HTML Essential Training Course\n",
    "\n",
    "#### Importance\n",
    "* Technical SEO is really focused on helping search engine robots understand what you website's all about\n",
    "* You need to prove why you should rank for your target keywords and you need to present your absolute best face to search engines to earn that rank\n",
    "* Anything that you do to improve your website for search engines should also improve your website for the people that actually go to your website\n",
    "\n",
    "#### Technical SEO Categories\n",
    "- 1) **Crawling and indexing**: considers how search engines are engaging with your site. Loking at your website through search engines' eyes helps you track down issues that are holding your website back; a website that easily understood by search engines is a website that easily ranks well\n",
    "- 2) **Site speed:** the speed of your website matters. A slow website doesn't just irritate your visitors and turn them away, it'll furn off search engines too. Making your website faster is a critical part of good SEO.\n",
    "- 3) **Content and site architecture:** Are you organizing your content in a way that makes it easily understood? Do you have links between relevant pieces of content?\n",
    "- 4) **The \"other stuff\":** This is the little extras like schema, images, videos, all the additional little pieces that really bring a site together \n",
    "\n",
    "\n",
    "* **Your overall SEO success will suffer as a result of poor technical SEO.** Sometimes no amount of link-building or great content can overcome basic technical issues in a website that stops search engines from understanding it properly "
   ]
  },
  {
   "cell_type": "markdown",
   "id": "eafaf58c",
   "metadata": {},
   "source": [
    "### Website crawlers\n",
    "* A **website crawler** is your search engine translator when it comes to technical SEO\n",
    "* Crawlers mimic how search engine bots crawl your website to rank and index your content\n",
    "* Not all website crawlers are created equal and it's often a good idea to run the same site through a couple of different crawlers (at least at first, just to make sure that issues are getting caught)\n",
    "* **Test your crawler out on several different sites.**\n",
    "* Popular website crawlers:\n",
    "    - Screaming Frog\n",
    "    - Site Bulb\n",
    "    - Deep Crawl (no installation necessary)\n",
    "* What to look for in a web crawler:\n",
    "    - How often is the crawler updated?\n",
    "    - Can the crawler evaluate JavaScript? (Google can, so your crawler needs to be able to as well)\n",
    "    - Can you compare reports? (You want to be able to see if the changes you're making are having a positive impact in your overall website health)\n",
    "    - Does the crawler help you identify issues? (Depends on how comfortable you are digging into the data. Over time, as you become more experienced, you'll likely need less help in this area)\n",
    "    - Does the crawler make reports for you? (You may or may not need this)\n",
    "    \n",
    "    "
   ]
  },
  {
   "cell_type": "markdown",
   "id": "55ad5e00",
   "metadata": {},
   "source": [
    "### Website Inspector\n",
    "* One of the most helpful tools for technical SEO is **Chrome's Website Inspector**, also called **Chrome Dev Tools**.\n",
    "* Chrome Dev Tools is also for Web Development \n",
    "* Technical SEO draws upon a lot of the same things that a web developer would be looking at when building a website\n",
    "* To access on mac: **cmd + option + c**\n",
    "* Or: right click on any page element and then click **Inspect** --> will take you right to the code for that element in the inspector.\n",
    "\n",
    "#### Tools:\n",
    "- **Elements:** Look at the HTML code of a page; great way to check if the page is outlined correctly with headings; to learn more about what you might be looking for here, watch the video on Best Practices for Website Architecture\n",
    "- **Console:** JavaScript/ analytics work\n",
    "- **Sources:** Really helpful for site speed; shows you all the different domains that were called in order to build this page; can show (for example) if your website is loading too many different domains, which can make the site load really slowly\n",
    "- **Network:** Really helpful for site speed; shows you every single elements that was called on to build the current webpage; great way to see how the elements are loading in, in what order, and how long they're taking to load; in this way you can see how each element fits into the larger webpage picture\n",
    "- **Performance:** Really helpful for site speed; gives more in-depth information about how elements in the page load and how they factor into overall site speed \n",
    "- **Memory:** skip\n",
    "- **Application:** skip\n",
    "- **Security:** Here you can make sure your site is secure/ has a secure certificate\n",
    "- **Lighthouse:** Lighthouse is the name for Google's automated tool for webpage testing. It will simulate your page loading on a slow connection and looks for accessibility and SEO problems; recommendation is to run lighthouse in incognito mode- that way you're not running into any issues with Chrome plugins you may have installed that could affect the outcome of the report \n",
    "    - The **performance section of Lighthouse** is different from the performance section in Chrome Dev Tools. What you see in the performance section of Lighthouse is what you'll find by using Google's page speed insights tool.\n",
    "    "
   ]
  },
  {
   "cell_type": "markdown",
   "id": "33a99216",
   "metadata": {},
   "source": [
    "### Speed testing\n",
    "- Site speed is a critical part of technical SEO; it impacts more than just your ability to rank, it impacts how long your visitors are willing to put up with your (potentially) slow site speed. It can even negatively impact your conversion rates\n",
    "- As of May, 2021, **speed will be a core part of Google's ranking algorithm.**\n",
    "- In order to know what to fix, you first have to find the problems (and that's where **speed testing tools** come in). \n",
    "#### Tools\n",
    "- Google's **Page Speed Insights** tool or **PSI**: Free; PSI gives you the insight in how Google will judge your site in their core algorithm, and is a key part of speed testing\n",
    "    - The PSI tool only lets you check one page at a time\n",
    "- **Batch Speed** (BatchSpeed.com): Free; with this tool, run all the pages on your site through the tester, which gives you a nice bird's eye view of which page has the hottest trash fires to work on first\n",
    "- **GTmetrics.com**: Does a more thorough job of outlining what to fix; Free, but with paid options; set up your sites to be checked regularly\n",
    "- Others:\n",
    "    - WebPageTest.org\n",
    "    - wattspeed.com"
   ]
  },
  {
   "cell_type": "code",
   "execution_count": null,
   "id": "74a2e706",
   "metadata": {},
   "outputs": [],
   "source": []
  },
  {
   "cell_type": "code",
   "execution_count": null,
   "id": "e72de997",
   "metadata": {},
   "outputs": [],
   "source": []
  },
  {
   "cell_type": "code",
   "execution_count": null,
   "id": "cea13860",
   "metadata": {},
   "outputs": [],
   "source": []
  },
  {
   "cell_type": "code",
   "execution_count": null,
   "id": "c3857f4f",
   "metadata": {},
   "outputs": [],
   "source": []
  },
  {
   "cell_type": "code",
   "execution_count": null,
   "id": "483fb702",
   "metadata": {},
   "outputs": [],
   "source": []
  },
  {
   "cell_type": "code",
   "execution_count": null,
   "id": "691b84da",
   "metadata": {},
   "outputs": [],
   "source": []
  },
  {
   "cell_type": "code",
   "execution_count": null,
   "id": "9d683c07",
   "metadata": {},
   "outputs": [],
   "source": []
  },
  {
   "cell_type": "code",
   "execution_count": null,
   "id": "3b973575",
   "metadata": {},
   "outputs": [],
   "source": []
  },
  {
   "cell_type": "code",
   "execution_count": null,
   "id": "9fb87fcd",
   "metadata": {},
   "outputs": [],
   "source": []
  },
  {
   "cell_type": "code",
   "execution_count": null,
   "id": "2a17d858",
   "metadata": {},
   "outputs": [],
   "source": []
  },
  {
   "cell_type": "code",
   "execution_count": null,
   "id": "3d712f2b",
   "metadata": {},
   "outputs": [],
   "source": []
  }
 ],
 "metadata": {
  "kernelspec": {
   "display_name": "Python 3",
   "language": "python",
   "name": "python3"
  },
  "language_info": {
   "codemirror_mode": {
    "name": "ipython",
    "version": 3
   },
   "file_extension": ".py",
   "mimetype": "text/x-python",
   "name": "python",
   "nbconvert_exporter": "python",
   "pygments_lexer": "ipython3",
   "version": "3.8.8"
  }
 },
 "nbformat": 4,
 "nbformat_minor": 5
}
