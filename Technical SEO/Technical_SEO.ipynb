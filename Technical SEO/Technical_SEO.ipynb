{
 "cells": [
  {
   "cell_type": "markdown",
   "id": "50c2f870",
   "metadata": {},
   "source": [
    "# Technical SEO"
   ]
  },
  {
   "cell_type": "markdown",
   "id": "bebed3d7",
   "metadata": {},
   "source": [
    "**Instructor:** Dana DiTomaso\n",
    "\n",
    "Even if the only thing you know about SEO is what the letters S, E, and O stand for, you probably know that good content on your website only goes so far when it comes to improving visibility. In order to maximize ROI and increase leads to your business, you need technical search engine optimization. In this course, Dana DiTomaso shows how to optimize your website for SEO by looking at how crawlers work, strategies for increasing site speed, using schema, architecture, URLs, and image/video to your SEO advantage. In addition to the actual nuts and bolts of SEO, Dana also covers the importance of making concrete recommendations to web developers, so you can actually get the fixes implemented."
   ]
  },
  {
   "cell_type": "markdown",
   "id": "6316c903",
   "metadata": {},
   "source": [
    "Your overal SEO success will depend on your technical SEO success\n",
    "* Recommended: HTML Essential Training Course\n",
    "\n",
    "#### Importance\n",
    "* Technical SEO is really focused on helping search engine robots understand what you website's all about\n",
    "* You need to prove why you should rank for your target keywords and you need to present your absolute best face to search engines to earn that rank\n",
    "* Anything that you do to improve your website for search engines should also improve your website for the people that actually go to your website\n",
    "\n",
    "#### Technical SEO Categories\n",
    "- 1) **Crawling and indexing**: considers how search engines are engaging with your site. Loking at your website through search engines' eyes helps you track down issues that are holding your website back; a website that easily understood by search engines is a website that easily ranks well\n",
    "- 2) **Site speed:** the speed of your website matters. A slow website doesn't just irritate your visitors and turn them away, it'll furn off search engines too. Making your website faster is a critical part of good SEO.\n",
    "- 3) **Content and site architecture:** Are you organizing your content in a way that makes it easily understood? Do you have links between relevant pieces of content?\n",
    "- 4) **The \"other stuff\":** This is the little extras like schema, images, videos, all the additional little pieces that really bring a site together \n",
    "\n",
    "\n",
    "* **Your overall SEO success will suffer as a result of poor technical SEO.** Sometimes no amount of link-building or great content can overcome basic technical issues in a website that stops search engines from understanding it properly "
   ]
  },
  {
   "cell_type": "markdown",
   "id": "7a139c4c",
   "metadata": {},
   "source": [
    "### Website crawlers\n",
    "* A **website crawler** is your search engine translator when it comes to technical SEO\n",
    "* Crawlers mimic how search engine bots crawl your website to rank and index your content\n",
    "* Not all website crawlers are created equal and it's often a good idea to run the same site through a couple of different crawlers (at least at first, just to make sure that issues are getting caught)\n",
    "* **Test your crawler out on several different sites.**\n",
    "* Popular website crawlers:\n",
    "    - Screaming Frog\n",
    "    - Site Bulb\n",
    "    - Deep Crawl (no installation necessary)\n",
    "* What to look for in a web crawler:\n",
    "    - How often is the crawler updated?\n",
    "    - Can the crawler evaluate JavaScript? (Google can, so your crawler needs to be able to as well)\n",
    "    - Can you compare reports? (You want to be able to see if the changes you're making are having a positive impact in your overall website health)\n",
    "    - Does the crawler help you identify issues? (Depends on how comfortable you are digging into the data. Over time, as you become more experienced, you'll likely need less help in this area)\n",
    "    - Does the crawler make reports for you? (You may or may not need this)\n",
    "    \n",
    "    "
   ]
  },
  {
   "cell_type": "code",
   "execution_count": null,
   "id": "78002d94",
   "metadata": {},
   "outputs": [],
   "source": []
  },
  {
   "cell_type": "code",
   "execution_count": null,
   "id": "9a8c3eae",
   "metadata": {},
   "outputs": [],
   "source": []
  },
  {
   "cell_type": "code",
   "execution_count": null,
   "id": "0e2bcf6c",
   "metadata": {},
   "outputs": [],
   "source": []
  },
  {
   "cell_type": "code",
   "execution_count": null,
   "id": "92b8164d",
   "metadata": {},
   "outputs": [],
   "source": []
  },
  {
   "cell_type": "code",
   "execution_count": null,
   "id": "7e0a6555",
   "metadata": {},
   "outputs": [],
   "source": []
  },
  {
   "cell_type": "code",
   "execution_count": null,
   "id": "b82ac58d",
   "metadata": {},
   "outputs": [],
   "source": []
  },
  {
   "cell_type": "code",
   "execution_count": null,
   "id": "5c7ffb74",
   "metadata": {},
   "outputs": [],
   "source": []
  },
  {
   "cell_type": "code",
   "execution_count": null,
   "id": "f5d3baca",
   "metadata": {},
   "outputs": [],
   "source": []
  },
  {
   "cell_type": "code",
   "execution_count": null,
   "id": "9c8aa062",
   "metadata": {},
   "outputs": [],
   "source": []
  },
  {
   "cell_type": "code",
   "execution_count": null,
   "id": "48ce2262",
   "metadata": {},
   "outputs": [],
   "source": []
  },
  {
   "cell_type": "code",
   "execution_count": null,
   "id": "1395ffe2",
   "metadata": {},
   "outputs": [],
   "source": []
  },
  {
   "cell_type": "code",
   "execution_count": null,
   "id": "25db73a1",
   "metadata": {},
   "outputs": [],
   "source": []
  },
  {
   "cell_type": "code",
   "execution_count": null,
   "id": "9ce8bfc5",
   "metadata": {},
   "outputs": [],
   "source": []
  }
 ],
 "metadata": {
  "kernelspec": {
   "display_name": "Python 3",
   "language": "python",
   "name": "python3"
  },
  "language_info": {
   "codemirror_mode": {
    "name": "ipython",
    "version": 3
   },
   "file_extension": ".py",
   "mimetype": "text/x-python",
   "name": "python",
   "nbconvert_exporter": "python",
   "pygments_lexer": "ipython3",
   "version": "3.8.8"
  }
 },
 "nbformat": 4,
 "nbformat_minor": 5
}
