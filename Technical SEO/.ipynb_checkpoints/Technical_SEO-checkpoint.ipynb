{
 "cells": [
  {
   "cell_type": "markdown",
   "id": "329efd1e",
   "metadata": {},
   "source": [
    "# Technical SEO"
   ]
  },
  {
   "cell_type": "markdown",
   "id": "96e3e12d",
   "metadata": {},
   "source": [
    "**Instructor:** Dana DiTomaso\n",
    "\n",
    "Even if the only thing you know about SEO is what the letters S, E, and O stand for, you probably know that good content on your website only goes so far when it comes to improving visibility. In order to maximize ROI and increase leads to your business, you need technical search engine optimization. In this course, Dana DiTomaso shows how to optimize your website for SEO by looking at how crawlers work, strategies for increasing site speed, using schema, architecture, URLs, and image/video to your SEO advantage. In addition to the actual nuts and bolts of SEO, Dana also covers the importance of making concrete recommendations to web developers, so you can actually get the fixes implemented."
   ]
  },
  {
   "cell_type": "markdown",
   "id": "756dea61",
   "metadata": {},
   "source": [
    "Your overal SEO success will depend on your technical SEO success\n",
    "* Recommended: HTML Essential Training Course\n",
    "\n",
    "#### Importance\n",
    "* Technical SEO is really focused on helping search engine robots understand what you website's all about\n",
    "* You need to prove why you should rank for your target keywords and you need to present your absolute best face to search engines to earn that rank\n",
    "* Anything that you do to improve your website for search engines should also improve your website for the people that actually go to your website\n",
    "\n",
    "#### Technical SEO Categories\n",
    "- 1) **Crawling and indexing**: considers how search engines are engaging with your site. Loking at your website through search engines' eyes helps you track down issues that are holding your website back; a website that easily understood by search engines is a website that easily ranks well\n",
    "- 2) **Site speed:** the speed of your website matters. A slow website doesn't just irritate your visitors and turn them away, it'll furn off search engines too. Making your website faster is a critical part of good SEO.\n",
    "- 3) **Content and site architecture:** Are you organizing your content in a way that makes it easily understood? Do you have links between relevant pieces of content?\n",
    "- 4) **The \"other stuff\":** This is the little extras like schema, images, videos, all the additional little pieces that really bring a site together \n",
    "\n",
    "\n",
    "* **Your overall SEO success will suffer as a result of poor technical SEO.** Sometimes no amount of link-building or great content can overcome basic technical issues in a website that stops search engines from understanding it properly "
   ]
  },
  {
   "cell_type": "code",
   "execution_count": null,
   "id": "2f5dc8f5",
   "metadata": {},
   "outputs": [],
   "source": []
  }
 ],
 "metadata": {
  "kernelspec": {
   "display_name": "Python 3",
   "language": "python",
   "name": "python3"
  },
  "language_info": {
   "codemirror_mode": {
    "name": "ipython",
    "version": 3
   },
   "file_extension": ".py",
   "mimetype": "text/x-python",
   "name": "python",
   "nbconvert_exporter": "python",
   "pygments_lexer": "ipython3",
   "version": "3.8.8"
  }
 },
 "nbformat": 4,
 "nbformat_minor": 5
}
