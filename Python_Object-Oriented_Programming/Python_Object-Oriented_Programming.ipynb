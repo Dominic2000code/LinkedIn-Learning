{
 "cells": [
  {
   "cell_type": "markdown",
   "id": "48cf8dd3",
   "metadata": {},
   "source": [
    "# Python Object Oriented Programming\n",
    "**Instructor:** Joe Marini, Senior Developer Advocate at Google\n",
    "\n",
    "The object-oriented programming (OOP) features in Python make it easier to build programs of increasing complexity and modularity. In this course, you can learn how to apply core OOP principles like inheritance and composition along with some Python-specific features like “magic” methods and data classes to build programs that are extensible and efficient. Begin by brushing up on some object-oriented basics, and then use Python features like magic methods to make your classes integrate tightly with the Python language and data classes to dramatically reduce the amount of boilerplate code needed to build data-centric objects.\n",
    "\n",
    "#### Learning objectives\n",
    "- Defining classes\n",
    "- Checking instance types\n",
    "- Using multiple inheritance\n",
    "- Creating objects with composition\n",
    "- Leveraging magic methods\n",
    "- Calling objects like functions\n",
    "- Defining data classes\n",
    "- Creating immutable data classes"
   ]
  },
  {
   "cell_type": "code",
   "execution_count": null,
   "id": "d316b323",
   "metadata": {},
   "outputs": [],
   "source": []
  }
 ],
 "metadata": {
  "kernelspec": {
   "display_name": "Python 3",
   "language": "python",
   "name": "python3"
  },
  "language_info": {
   "codemirror_mode": {
    "name": "ipython",
    "version": 3
   },
   "file_extension": ".py",
   "mimetype": "text/x-python",
   "name": "python",
   "nbconvert_exporter": "python",
   "pygments_lexer": "ipython3",
   "version": "3.8.8"
  }
 },
 "nbformat": 4,
 "nbformat_minor": 5
}
