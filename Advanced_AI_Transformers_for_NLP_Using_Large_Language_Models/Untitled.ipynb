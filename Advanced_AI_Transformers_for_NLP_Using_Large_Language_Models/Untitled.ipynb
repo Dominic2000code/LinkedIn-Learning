{
 "cells": [
  {
   "cell_type": "code",
   "execution_count": 3,
   "id": "ec9d2c93",
   "metadata": {},
   "outputs": [],
   "source": [
    "from sklearn.ensemble import RandomForestClassifier"
   ]
  },
  {
   "cell_type": "code",
   "execution_count": null,
   "id": "5133ccd8",
   "metadata": {},
   "outputs": [],
   "source": [
    "#Specify the hyperparameters we want to tune in our algorithm/estimator \n",
    "model_params = {\n",
    "    \"n_estimators\": {\n",
    "        \"type\": \"discrete\", \n",
    "        \"values\": [50, 100, 150, 200, 250, 300]\n",
    "    }, \n",
    "    \"criterion\": {\n",
    "        \"type\": \"categorical\", \n",
    "        \"values\": [\"gini\", \"entropy\"]\n",
    "    }, \n",
    "    \"min_samples_leaf\": {\n",
    "        \"type\": \"discrete\", \n",
    "        \"values\": [1, 2, 3, 4]\n",
    "    }\n",
    "}       "
   ]
  },
  {
   "cell_type": "code",
   "execution_count": null,
   "id": "677be180",
   "metadata": {},
   "outputs": [],
   "source": [
    "# Specify the parameters with want to supply to the optimizer config\n",
    "optimizer_dict= {\n",
    "    \"algorithm\": \"bayes\", \n",
    "    \"spec\": {\n",
    "        \"maxCombo\": 0, \n",
    "        \"objective\": \"minimize\", \n",
    "        \"metric\": \"loss\", \n",
    "        \"minSampleSize\": 100, \n",
    "        \"retryLimit\": 20, \n",
    "        \"retryAssignLimit\": 0\n",
    "    }, \n",
    "    \"trials\": 1, \n",
    "    \"parameters\": model_params, \n",
    "    \"name\": \"My Bayesian Search\"}"
   ]
  },
  {
   "cell_type": "code",
   "execution_count": null,
   "id": "f890f9ca",
   "metadata": {},
   "outputs": [],
   "source": [
    "# Specify the parameters with want to supply to the optimizer config\n",
    "optimizer_dict= {\n",
    "    \"algorithm\": \"bayes\", \n",
    "    \"spec\": {\n",
    "        \"maxCombo\": 0, \n",
    "        \"objective\": \"minimize\", \n",
    "        \"metric\": \"loss\", \n",
    "        \"minSampleSize\": 100, \n",
    "        \"retryLimit\": 20, \n",
    "        \"retryAssignLimit\": 0\n",
    "    }, \n",
    "    \"trials\": 1, \n",
    "    \"parameters\": model_params, \n",
    "    \"name\": \"My Bayesian Search\"\n",
    "}"
   ]
  },
  {
   "cell_type": "code",
   "execution_count": null,
   "id": "587e21b3",
   "metadata": {},
   "outputs": [],
   "source": [
    "# Initialize our optimizer\n",
    "opt = comet_ml.Optimizer(api_key=API_KEY, config=optimizer_dict)\n",
    "for experiment in opt.get_experiments(project_name=\"Our First Demo\", workspace=\"ibrahim-ogunbiyi\"):\n",
    "    # initializing random forest\n",
    "    # passing the each paramter to our model by using the get_parameter method from experiment \n",
    "    model = RandomForestClassifier(n_estimators=experiment.get_parameter(\"n_estimators\"), \n",
    "                                   criterion=experiment.get_parameter(\"criterion\"), \n",
    "                                   min_samples_leaf=experiment.get_parameter(\"min_samples_leaf\"),\n",
    "                                   random_state=42\n",
    "\n",
    "# training the model and making predictions\n",
    "model.fit(X_train, y_train)\n",
    "y_preds = model.predict(X_test)\n",
    "\n",
    "# logging the metrics to the comet website\n",
    "experiment.log_parameter(\"random_state\", 42)\n",
    "experiment.log_metric(\"accuracy\", accuracy_score(y_test, y_preds))\n",
    "experiment.log_confusion_matrix(y_test, y_preds)\n",
    "experiment.end()"
   ]
  },
  {
   "cell_type": "code",
   "execution_count": 4,
   "id": "90c6fa72",
   "metadata": {},
   "outputs": [
    {
     "ename": "NameError",
     "evalue": "name 'experiment' is not defined",
     "output_type": "error",
     "traceback": [
      "\u001b[0;31m---------------------------------------------------------------------------\u001b[0m",
      "\u001b[0;31mNameError\u001b[0m                                 Traceback (most recent call last)",
      "\u001b[0;32m<ipython-input-4-a00ef564919e>\u001b[0m in \u001b[0;36m<module>\u001b[0;34m\u001b[0m\n\u001b[1;32m      1\u001b[0m model = RandomForestClassifier(\n\u001b[0;32m----> 2\u001b[0;31m     \u001b[0mn_estimators\u001b[0m\u001b[0;34m=\u001b[0m\u001b[0mexperiment\u001b[0m\u001b[0;34m.\u001b[0m\u001b[0mget_parameter\u001b[0m\u001b[0;34m(\u001b[0m\u001b[0;34m\"n_estimators\"\u001b[0m\u001b[0;34m)\u001b[0m\u001b[0;34m,\u001b[0m\u001b[0;34m\u001b[0m\u001b[0;34m\u001b[0m\u001b[0m\n\u001b[0m\u001b[1;32m      3\u001b[0m     \u001b[0mcriterion\u001b[0m\u001b[0;34m=\u001b[0m\u001b[0mexperiment\u001b[0m\u001b[0;34m.\u001b[0m\u001b[0mget_parameter\u001b[0m\u001b[0;34m(\u001b[0m\u001b[0;34m\"criterion\"\u001b[0m\u001b[0;34m)\u001b[0m\u001b[0;34m,\u001b[0m\u001b[0;34m\u001b[0m\u001b[0;34m\u001b[0m\u001b[0m\n\u001b[1;32m      4\u001b[0m     \u001b[0mmin_samples_leaf\u001b[0m\u001b[0;34m=\u001b[0m\u001b[0mexperiment\u001b[0m\u001b[0;34m.\u001b[0m\u001b[0mget_parameter\u001b[0m\u001b[0;34m(\u001b[0m\u001b[0;34m\"min_samples_leaf\"\u001b[0m\u001b[0;34m)\u001b[0m\u001b[0;34m,\u001b[0m\u001b[0;34m\u001b[0m\u001b[0;34m\u001b[0m\u001b[0m\n\u001b[1;32m      5\u001b[0m     random_state=42)\n",
      "\u001b[0;31mNameError\u001b[0m: name 'experiment' is not defined"
     ]
    }
   ],
   "source": [
    "model = RandomForestClassifier(\n",
    "    n_estimators=experiment.get_parameter(\"n_estimators\"), \n",
    "    criterion=experiment.get_parameter(\"criterion\"), \n",
    "    min_samples_leaf=experiment.get_parameter(\"min_samples_leaf\"), \n",
    "    random_state=42)"
   ]
  },
  {
   "cell_type": "code",
   "execution_count": null,
   "id": "b1c6c283",
   "metadata": {},
   "outputs": [],
   "source": []
  },
  {
   "cell_type": "code",
   "execution_count": null,
   "id": "680f08c2",
   "metadata": {},
   "outputs": [],
   "source": []
  },
  {
   "cell_type": "code",
   "execution_count": null,
   "id": "5ee9d1b7",
   "metadata": {},
   "outputs": [],
   "source": []
  },
  {
   "cell_type": "code",
   "execution_count": null,
   "id": "efc87142",
   "metadata": {},
   "outputs": [],
   "source": []
  },
  {
   "cell_type": "code",
   "execution_count": null,
   "id": "2ccc42fa",
   "metadata": {},
   "outputs": [],
   "source": []
  },
  {
   "cell_type": "code",
   "execution_count": null,
   "id": "78227af2",
   "metadata": {},
   "outputs": [],
   "source": []
  },
  {
   "cell_type": "code",
   "execution_count": null,
   "id": "68b0acdd",
   "metadata": {},
   "outputs": [],
   "source": []
  }
 ],
 "metadata": {
  "kernelspec": {
   "display_name": "Python 3",
   "language": "python",
   "name": "python3"
  },
  "language_info": {
   "codemirror_mode": {
    "name": "ipython",
    "version": 3
   },
   "file_extension": ".py",
   "mimetype": "text/x-python",
   "name": "python",
   "nbconvert_exporter": "python",
   "pygments_lexer": "ipython3",
   "version": "3.8.8"
  }
 },
 "nbformat": 4,
 "nbformat_minor": 5
}
