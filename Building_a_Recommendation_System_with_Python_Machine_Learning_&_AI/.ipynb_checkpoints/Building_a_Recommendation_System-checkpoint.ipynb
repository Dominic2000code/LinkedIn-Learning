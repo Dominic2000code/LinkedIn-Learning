{
 "cells": [
  {
   "cell_type": "markdown",
   "id": "179c440a",
   "metadata": {},
   "source": [
    "**Note:** The following are notes taken from Lillian Pierson's LinkedIn Learning Course of the same name.\n",
    "# Building a Recommendation System with Python ML & AI"
   ]
  },
  {
   "cell_type": "markdown",
   "id": "dd4b8596",
   "metadata": {},
   "source": [
    "### Collaborative Filtering Systems\n",
    "**Collaborative filtering systems** recommend items based on crowdsourced information about users' preferences for items. There are two approaches to collaborative filtering:\n",
    "- User-based\n",
    "- Item-based\n",
    "\n",
    "* **Item-based systems:** are also known as **item-to-item systems** They generate recommendations based on similarity between items with respect to user ratings of those items. In this course, we'll use Pearson correlation as the driver for an item-based recommender\n",
    "\n",
    "* **User-based systems:** recommend items based on similarity between users; \"Customers who are similar to you liked X, Y, or Z product\"\n",
    "\n",
    "### Content-based Recommenders\n",
    "- **Content-based recommenders** recommend items based on their features and how similar those features are to features of other items in a dataset. For example: Pandora uses content-based filtering to make its music recommendations\n",
    "\n",
    "## Popularity-based recommendation systems\n",
    "* The most simple type of recommender system out there: popularity-based recommendation systems\n",
    "* These offer a very primitive form of collaborative filtering, where items are recommended to users based on how popular those items are among other users\n",
    "* Based on **number of reviews** rather than quality or score of reviews\n",
    "* Popularity-based recommenders:\n",
    "    - rely on purchase history\n",
    "    - are often used by online news sites like Bloomberg or NYT (rely on website user activity data set)\n",
    "    - **cannot produce personalized results** (because they don't take user data into account)\n",
    "    - offer a very simple form of collaborativec filtering\n",
    "    \n",
    "## Correlation-based Recommendations\n",
    "- Use Pearson's *r* correlation to recommend an item that is most similar to the item a user has already chosen.\n",
    "- These offer a very basic form of collaborative filtering, because items are recommended based on similarities in their user reviews. In this sense they do take **user preferences** into account\n",
    "- **Item-based similarity:** How *correlated* are two items based on user ratings?\n",
    "- In these systems, you use the Pearson ***R*** correlation to recommend an item that is most similar to the item a user already has chosen, in other words, an item that has a review score that correlates with another item that a user has already chosen. \n",
    "\n",
    "#### Pearson correlation coefficient (*r*)\n",
    "- **r = 1** $\\rightarrow$ strong positive *linear* relationship\n",
    "- **r = 0** $\\rightarrow$ not linearly correlated\n",
    "- **r = -1** $\\rightarrow$ strong negative *linear* relationship\n",
    "\n",
    "### Item-based Similarity\n",
    "- Recommend an item based on how well it correlates with other items with respect to user ratings\n",
    "- \"If users A, B, and D all gave good reviews to a printer, and users A and B also gave a high rating to a camera, user D would also likely give a high rating to the printer.\"\n",
    "- Example: `similar_to_tortas = places_crosstab.corrwith(Tortas_ratings)`\n",
    "- Note the above call will return a matrix\n",
    "\n",
    "\n",
    "# 2. Machine Learning Recommendation Systems\n",
    "\n",
    "### Classification-based collaboratice filtering\n",
    "- These recommenders could be powered by \n",
    "- Naive Bayes Classification\n",
    "- Logistic regression\n",
    "- etc\n",
    "\n",
    "\n",
    "- **Classification-based collaborative filtering recommenders are able to make personalized recommendations.\n",
    "- Provides personalization ny accepting:\n",
    "    - User and item attribute data\n",
    "    - Purchase history data\n",
    "    - Other contextual data\n",
    "    \n",
    "    \n",
    "### Model-based Collaborative Filtering\n",
    "- With model-based collaborative filtering systems, you build a recommender model from user ratings, and then make recommendations fbased on that model\n",
    "- In this example: \n",
    "    - Truncated Singluar Value Decomposition (SVD) \n",
    "    - Utility matrices (also known as user-item matrix) \n",
    "    \n",
    "## Singular Value Decomposition (SVD)\n",
    "- **SVD is a linear algebra method that can decompose a utility matrix into three compressed matrices.**\n",
    "- Model-based recommender - use these compressed matrices to make recommendations without having to refer back to the complete data set\n",
    "- SVD is useful for building a model-based recommender because you can use these compressed matrices to make references without having to refer to the entire dataset\n",
    "- With SVD, you uncover **latent variables**: inferred, nonobservable variables that are present within, and affect the behavior of a data set\n",
    "\n",
    "<img src='data/rs1.png' width=\"800\" height=\"400\" align=\"center\"/>"
   ]
  },
  {
   "cell_type": "markdown",
   "id": "998aeec1",
   "metadata": {},
   "source": [
    "# Anatomy of Truncated SVD\n",
    "- Sklearn's truncated SVD method returns a single compressed version of the matrix upon which it's called\n",
    "- Compression happens along the dataset columns\n",
    "- In the example in the exercises, since we want to recommend movies, we want to preserve the movie names as uncompressed rows \n",
    "\n",
    "<img src='data/rs2.png' width=\"800\" height=\"400\" align=\"center\"/>\n",
    "\n",
    "- We want to use the similarities between users to decide which movies to recommend so we can use Truncated SVD to compress all of the user ratings down to just 12 latent variables. These variables are going to capture most of the information that was stored in the 943 user columns previously. They represent a generalized view of users' tastes and preferences\n",
    "- The first thing we must do is transpose our matrix so that movies are represented by rows\n",
    "\n",
    "<img src='data/rs3.png' width=\"800\" height=\"400\" align=\"center\"/>\n",
    "\n",
    "- We use the Pearson *R* correlation coefficient to find out how similar each movie is to other movies on the basis of generalized user tastes\n",
    "- We'll take our example (Star Wars 1977), calculate its matrix, and then determine how well this matrix correlates to other user ratings matrices of other movies in the dataset"
   ]
  },
  {
   "cell_type": "markdown",
   "id": "2c9db666",
   "metadata": {},
   "source": [
    "## Content-Based Recommender\n",
    "- Recommends an item based on its features and how similar they are to the features of other items in the data set\n",
    "- These types of systems are not collaborative filtering systems because user preferences and attitudes do not weigh into the evaluation\n",
    "- Instead, content-based recommenders recommend an item based on its features and how similar those are to features of other items in a dataset\n",
    "- Nearest Neighbor Algorithm (Unsupervised method)"
   ]
  },
  {
   "cell_type": "markdown",
   "id": "915775af",
   "metadata": {},
   "source": [
    "# Model Evaluation\n",
    "- How relevant were the recommendations\n",
    "- Precision = (The number of items that I liked that were also recommended to me) / (The number of items that were recommended)\n",
    "- Recall = (The number of items that I like that were also recommended to me) / (The number of items that I liked)\n",
    "\n",
    "<img src='data/rs4.png' width=\"800\" height=\"400\" align=\"center\"/>"
   ]
  }
 ],
 "metadata": {
  "kernelspec": {
   "display_name": "Python 3",
   "language": "python",
   "name": "python3"
  },
  "language_info": {
   "codemirror_mode": {
    "name": "ipython",
    "version": 3
   },
   "file_extension": ".py",
   "mimetype": "text/x-python",
   "name": "python",
   "nbconvert_exporter": "python",
   "pygments_lexer": "ipython3",
   "version": "3.8.8"
  }
 },
 "nbformat": 4,
 "nbformat_minor": 5
}
