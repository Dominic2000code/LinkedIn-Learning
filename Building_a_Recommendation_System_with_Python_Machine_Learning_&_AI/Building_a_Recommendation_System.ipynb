{
 "cells": [
  {
   "cell_type": "markdown",
   "id": "f424db4e",
   "metadata": {},
   "source": [
    "**Note:** The following are notes taken from Lillian Pierson's LinkedIn Learning Course of the same name.\n",
    "# Building a Recommendation System with Python ML & AI"
   ]
  },
  {
   "cell_type": "code",
   "execution_count": null,
   "id": "95b31851",
   "metadata": {},
   "outputs": [],
   "source": []
  }
 ],
 "metadata": {
  "kernelspec": {
   "display_name": "Python 3",
   "language": "python",
   "name": "python3"
  },
  "language_info": {
   "codemirror_mode": {
    "name": "ipython",
    "version": 3
   },
   "file_extension": ".py",
   "mimetype": "text/x-python",
   "name": "python",
   "nbconvert_exporter": "python",
   "pygments_lexer": "ipython3",
   "version": "3.8.8"
  }
 },
 "nbformat": 4,
 "nbformat_minor": 5
}
