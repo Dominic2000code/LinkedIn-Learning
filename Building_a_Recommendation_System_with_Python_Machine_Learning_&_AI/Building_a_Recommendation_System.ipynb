{
 "cells": [
  {
   "cell_type": "markdown",
   "id": "1dd8638b",
   "metadata": {},
   "source": [
    "**Note:** The following are notes taken from Lillian Pierson's LinkedIn Learning Course of the same name.\n",
    "# Building a Recommendation System with Python ML & AI"
   ]
  },
  {
   "cell_type": "markdown",
   "id": "88b0a278",
   "metadata": {},
   "source": [
    "### Collaborative Filtering Systems\n",
    "**Collaborative filtering systems** recommend items based on crowdsourced information about users' preferences for items. There are two approaches to collaborative filtering:\n",
    "- User-based\n",
    "- Item-based\n",
    "\n",
    "* **Item-based systems:** are also known as **item-to-item systems** They generate recommendations based on similarity between items with respect to user ratings of those items. In this course, we'll use Pearson correlation as the driver for an item-based recommender\n",
    "\n",
    "* **User-based systems:** recommend items based on similarity between users; \"Customers who are similar to you liked X, Y, or Z product\"\n",
    "\n",
    "### Content-based Recommenders\n",
    "- **Content-based recommenders** recommend items based on their features and how similar those features are to features of other items in a dataset. For example: Pandora uses content-based filtering to make its music recommendations\n",
    "\n",
    "## Popularity-based recommendation systems\n",
    "* The most simple type of recommender system out there: popularity-based recommendation systems\n",
    "* These offer a very primitive form of collaborative filtering, where items are recommended to users based on how popular those items are among other users\n",
    "* Based on **number of reviews** rather than quality or score of reviews\n",
    "* Popularity-based recommenders:\n",
    "    - rely on purchase history\n",
    "    - are often used by online news sites like Bloomberg or NYT (rely on website user activity data set)\n",
    "    - **cannot produce personalized results** (because they don't take user data into account)"
   ]
  },
  {
   "cell_type": "code",
   "execution_count": null,
   "id": "6e941b05",
   "metadata": {},
   "outputs": [],
   "source": []
  }
 ],
 "metadata": {
  "kernelspec": {
   "display_name": "Python 3",
   "language": "python",
   "name": "python3"
  },
  "language_info": {
   "codemirror_mode": {
    "name": "ipython",
    "version": 3
   },
   "file_extension": ".py",
   "mimetype": "text/x-python",
   "name": "python",
   "nbconvert_exporter": "python",
   "pygments_lexer": "ipython3",
   "version": "3.8.8"
  }
 },
 "nbformat": 4,
 "nbformat_minor": 5
}
