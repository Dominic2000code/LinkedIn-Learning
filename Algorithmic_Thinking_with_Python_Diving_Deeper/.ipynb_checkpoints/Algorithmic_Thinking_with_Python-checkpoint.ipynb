{
 "cells": [
  {
   "cell_type": "markdown",
   "id": "dbeec671",
   "metadata": {},
   "source": [
    "# Algorithmic Thinking with Python: Diving Deeper\n",
    "**Instructor:** Robin Andrews, founder of Compucademy\n",
    "\n",
    "The need for competent problem solvers has never been greater, and Python has become an important programming language. Because of its clarity and expressiveness, Python is an ideal tool to explore algorithmic thinking. In this course, Robin Andrews explains algorithmic thinking and guides you through puzzles, problems, and theories to help you build and challenge your skills. After a warmup problem, Robin shows you how to use the divide and conquer problem solving technique and the Quicksort algorithm, with puzzles to practice each. He dives into the transform and conquer technique that applies preprocessing to the data for a problem before implementing a solution, with additional puzzles for practice. Robin goes over dynamic programming, both top-down and bottom-up, and gives you problems to practice both theory and implementation. Plus, he introduces and explains hash tables and how you can use them to solve problems in Python."
   ]
  },
  {
   "cell_type": "markdown",
   "id": "d8ea01ae",
   "metadata": {},
   "source": [
    "#### Exploration of Algorithmic Thinking\n",
    "- Strong algorithmic thinking skills are what distinguish average developers from the true experts.\n",
    "- This course is a sequel to Algorithmic Thinking with Python Foundations"
   ]
  },
  {
   "cell_type": "markdown",
   "id": "8d1a191b",
   "metadata": {},
   "source": []
  },
  {
   "cell_type": "markdown",
   "id": "cad7daaa",
   "metadata": {},
   "source": []
  },
  {
   "cell_type": "markdown",
   "id": "2fdb6978",
   "metadata": {},
   "source": []
  },
  {
   "cell_type": "markdown",
   "id": "91945006",
   "metadata": {},
   "source": []
  },
  {
   "cell_type": "markdown",
   "id": "faf9ed0d",
   "metadata": {},
   "source": []
  },
  {
   "cell_type": "markdown",
   "id": "6ab9f930",
   "metadata": {},
   "source": []
  },
  {
   "cell_type": "markdown",
   "id": "b6f4e91d",
   "metadata": {},
   "source": []
  },
  {
   "cell_type": "markdown",
   "id": "0bf246cf",
   "metadata": {},
   "source": []
  },
  {
   "cell_type": "markdown",
   "id": "54a31fce",
   "metadata": {},
   "source": []
  },
  {
   "cell_type": "markdown",
   "id": "becb3a6d",
   "metadata": {},
   "source": []
  },
  {
   "cell_type": "markdown",
   "id": "26ceceef",
   "metadata": {},
   "source": []
  },
  {
   "cell_type": "markdown",
   "id": "cc48658e",
   "metadata": {},
   "source": []
  },
  {
   "cell_type": "markdown",
   "id": "db001410",
   "metadata": {},
   "source": []
  },
  {
   "cell_type": "markdown",
   "id": "2380f095",
   "metadata": {},
   "source": []
  },
  {
   "cell_type": "markdown",
   "id": "49005635",
   "metadata": {},
   "source": []
  },
  {
   "cell_type": "markdown",
   "id": "3400c52a",
   "metadata": {},
   "source": []
  },
  {
   "cell_type": "markdown",
   "id": "f4642f03",
   "metadata": {},
   "source": [
    "<img src='img/x.png' width=\"800\" height=\"400\" align=\"center\"/>"
   ]
  }
 ],
 "metadata": {
  "kernelspec": {
   "display_name": "Python 3",
   "language": "python",
   "name": "python3"
  },
  "language_info": {
   "codemirror_mode": {
    "name": "ipython",
    "version": 3
   },
   "file_extension": ".py",
   "mimetype": "text/x-python",
   "name": "python",
   "nbconvert_exporter": "python",
   "pygments_lexer": "ipython3",
   "version": "3.8.8"
  }
 },
 "nbformat": 4,
 "nbformat_minor": 5
}
