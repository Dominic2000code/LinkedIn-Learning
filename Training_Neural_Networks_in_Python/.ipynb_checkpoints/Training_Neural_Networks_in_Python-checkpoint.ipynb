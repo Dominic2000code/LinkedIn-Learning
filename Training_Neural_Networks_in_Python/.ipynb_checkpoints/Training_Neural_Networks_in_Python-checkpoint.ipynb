{
 "cells": [
  {
   "cell_type": "markdown",
   "id": "7cabfcaa",
   "metadata": {},
   "source": [
    "# Training Neural Networks in Python\n",
    "\n",
    "**Instructor:** Eduardo Cordeño\n",
    "\n",
    "Having a variety of great tools at your disposal isn’t helpful if you don’t know which one you really need, what each tool is useful for, and how they all work. In this course, take a deep dive into the inner workings of neural networks, so that you're able to work more effectively with machine learning tools. Instructor Eduardo Corpeño helps you learn by example by providing a series of exercises in Python to help you to grasp what’s going on inside. Discover how to relate parts of a biological neuron to Python elements, which allows you to make a model of the brain. Then, learn how to build and train a network, as well as create a neural network that recognizes numbers coming from a seven-segment display. Even though you'll probably work with neural networks from a software suite rather than by writing your own code, the knowledge you’ll acquire in this course can help you choose the right neural network architecture and training method for each problem you face."
   ]
  },
  {
   "cell_type": "markdown",
   "id": "e3ec15a5",
   "metadata": {},
   "source": [
    "#### Creating a Neural Network in Python"
   ]
  },
  {
   "cell_type": "code",
   "execution_count": null,
   "id": "91df65e4",
   "metadata": {},
   "outputs": [],
   "source": []
  }
 ],
 "metadata": {
  "kernelspec": {
   "display_name": "Python 3",
   "language": "python",
   "name": "python3"
  },
  "language_info": {
   "codemirror_mode": {
    "name": "ipython",
    "version": 3
   },
   "file_extension": ".py",
   "mimetype": "text/x-python",
   "name": "python",
   "nbconvert_exporter": "python",
   "pygments_lexer": "ipython3",
   "version": "3.8.8"
  }
 },
 "nbformat": 4,
 "nbformat_minor": 5
}
