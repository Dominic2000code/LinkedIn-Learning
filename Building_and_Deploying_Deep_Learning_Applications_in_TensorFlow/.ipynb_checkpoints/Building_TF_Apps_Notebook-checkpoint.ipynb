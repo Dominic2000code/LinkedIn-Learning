{
 "cells": [
  {
   "cell_type": "markdown",
   "id": "50c09e28",
   "metadata": {},
   "source": [
    "# Building and Deploying Deep Learning Applications in TensorFlow\n",
    "\n",
    "**Instructor:** Adam Geitgey\n",
    "\n",
    "TensorFlow is one of the most popular deep learning frameworks available. It's used for everything from cutting-edge machine learning research to building new features for the hottest start-ups in Silicon Valley. In this course, learn how to install TensorFlow and use it to build a simple deep learning model. After he shows how to get TensorFlow up and running, instructor Adam Geitgey demonstrates how to create and train a machine learning model, as well as how to leverage visualization tools to analyze and improve your model. Finally, he explains how to deploy models locally or in the cloud. When you wrap up this course, you'll be ready to start building and deploying your own models with TensorFlow."
   ]
  },
  {
   "cell_type": "markdown",
   "id": "995172ca",
   "metadata": {},
   "source": [
    "* **TensorFlow has different hardware and software requirements for the development phase and the runtime phase.**\n",
    "\n",
    "### Development Phase\n",
    "* When you are coding and training a neural network \n",
    "* This is usually done on your own computer \n",
    "#### Development phase requirements\n",
    "* Windows, macOS, Linux\n",
    "* For very large projects you might take advantage of multiple Linux computers (locally or in the cloud) in the cloud to speed up processing \n",
    "\n",
    "### Runtime (or inference) phase\n",
    "* When you are making predictions with a trained neural network \n",
    "* This might be done on your own computer, on a cloud server, or on a user's computer or mobile device. \n",
    "#### Runtime phase supports\n",
    "* Once you have a trained model, you can run it on a wider range of computer and hardware devices:\n",
    "    * Computers running Windows, macOS, or Linux\n",
    "    * Linux servers running TensorFlow Serving\n",
    "    * In the cloud with Google's Cloud ML service\n",
    "    * iOS or Android mobile devices/apps\n",
    "* The flexibility to run the same machine learning model on many different platforms is one of the best features of TensorFlow\n",
    "* **Note that TensorFlow only supports NVIDIA-brand GPUs.**\n",
    "* Using a GPU with TensorFlow requires installing additional software from NVIDIA (CUDA and cuDNN), which aren't open source. \n",
    "* Python is the best-supported, and easiest, language to use with TensorFlow (whose core is written in C++ for speed).\n",
    "* TensorFlow works around the issue of Python being slow by allowing your Python code to define the structure of your ML model, but TF's high performance execution engine actually pushes data through the model and performs all the mathematical operations using C++.\n",
    "\n",
    "#### Train, test, evaluation flow\n",
    "* Step 1: Build a Model (as a Graph):\n",
    "    * To code our ML algorithm, we build a computational graph of operations that TensorFlow can run. \n",
    "        * 1) Define each layer of the NN and connect them together so that data flows from the first layer through to the last layer\n",
    "        * 2) Add a placeholder node that represents the data that will be fed in as input to the NN and another placeholder node that represents the output \n",
    "        "
   ]
  },
  {
   "cell_type": "code",
   "execution_count": null,
   "id": "c21fd4b8",
   "metadata": {},
   "outputs": [],
   "source": []
  },
  {
   "cell_type": "code",
   "execution_count": null,
   "id": "78698676",
   "metadata": {},
   "outputs": [],
   "source": []
  },
  {
   "cell_type": "code",
   "execution_count": null,
   "id": "5014060e",
   "metadata": {},
   "outputs": [],
   "source": []
  }
 ],
 "metadata": {
  "kernelspec": {
   "display_name": "Python 3.8 (tensorflow)",
   "language": "python",
   "name": "tensorflow"
  },
  "language_info": {
   "codemirror_mode": {
    "name": "ipython",
    "version": 3
   },
   "file_extension": ".py",
   "mimetype": "text/x-python",
   "name": "python",
   "nbconvert_exporter": "python",
   "pygments_lexer": "ipython3",
   "version": "3.8.12"
  }
 },
 "nbformat": 4,
 "nbformat_minor": 5
}
