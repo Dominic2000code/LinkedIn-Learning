{
 "cells": [
  {
   "cell_type": "markdown",
   "id": "fc2d5d4b",
   "metadata": {},
   "source": [
    "# Building and Deploying Deep Learning Applications in TensorFlow\n",
    "\n",
    "**Instructor:** Adam Geitgey\n",
    "\n",
    "TensorFlow is one of the most popular deep learning frameworks available. It's used for everything from cutting-edge machine learning research to building new features for the hottest start-ups in Silicon Valley. In this course, learn how to install TensorFlow and use it to build a simple deep learning model. After he shows how to get TensorFlow up and running, instructor Adam Geitgey demonstrates how to create and train a machine learning model, as well as how to leverage visualization tools to analyze and improve your model. Finally, he explains how to deploy models locally or in the cloud. When you wrap up this course, you'll be ready to start building and deploying your own models with TensorFlow."
   ]
  },
  {
   "cell_type": "markdown",
   "id": "96ddd160",
   "metadata": {},
   "source": [
    "* **TensorFlow** is a software framework for building and deploying machine learning models\n",
    "* **Machine learning:** computer algorithms that have the ability to learn without explicitly being programmed.\n",
    "    * With traditional programming, we write the program that tells the computer exactly what to do to complete the task \n",
    "    * WIth ML, we don't explicitly tell the computer how to do something, but instead we show it training data and the ML algorithm uses the training data to come up with its own rules to complete the task\n",
    "    \n",
    "#### TensorFlow\n",
    "* Developed internally at Google\n",
    "* Designed to be a common platform fr=or building ML applications internally\n",
    "* Made public in late 2015\n",
    "* First stable version in 2017 and open sourced (licensed under Apache software license)\n",
    "    * This means you can use it, modify it, and even redistribute a modified version of it without having to pay any licensing fees to use TF\n",
    "* TensorFlow gives you the basic building blocks that you need to design, train, and deploy machine learning models' it's flexible enough to be used for several different types of ML types of algorithms, but is typically used to build DNNs\n",
    "* DNNs built with TF are used in many different areas like:\n",
    "    * Image recognition\n",
    "    * Speech recognition\n",
    "    * Image style transfer\n",
    "    * Language translation\n",
    "* As it was creted by Google, it works well with many Google products (like their Cloud ML platform) and for deploying ML models on Android mobile phones\n",
    "* TensorFlow is a low level toolkit and it can take quite a few lines of code to build an ML model in TF\n",
    "    * Because of this, there are wrappers for TensorFlow that simplify common operations \n",
    "    * The most popular wrapper for TensorFlow is **Keras**\n",
    "    * **Keras** is a high-level programming toolkit that makes it easy to build many different types of neural networks with only a few lines of code\n",
    "    * This is a great choice if you don't need the low level flexibility of TF\n",
    "    * It is recommendable to learn how to use TF on its own first, to make sure you understand what's going on behind the scenes and once you're familiar with TensorFlow, it's great to also learn how to use Keras (which can be a great time-saver)\n",
    " \n",
    "#### TensorFlow alternatives\n",
    "* theano : [see here](http://deeplearning.net/software/theano/)\n",
    "* torch : [see here](http://torch.ch/)\n",
    "* Pytorch : [see here](http://pytorch.org/)\n",
    "\n",
    "#### Why is it called Tensorflow?\n",
    "* The name TensorFlow comes from the design of the system\n",
    "* TensorFlow is designed to work with large data sets made of many different individual attributes\n",
    "* Any data that you want to process with TensorFlow has to be stored in the multi-dimensional array.\n",
    "* These multi-dimensional arrays are also called **tensors**.\n",
    "* To run operations on the data set, we construct a computational graph similar to a flow chart that determines how data flows from one operation to the next: for this reason it is called **TensorFlow**\n",
    "\n",
    "<img src='data/tensor1.png' width=\"600\" height=\"300\" align=\"center\"/>\n",
    "\n",
    "* It's called **TensorFlow** because you're defining how data or tensors will *flow* through the system\n",
    "\n",
    "<img src='data/tensor2.png' width=\"600\" height=\"300\" align=\"center\"/>\n",
    "\n",
    "* TensorFlow is designed to be very generic and open-ended.\n",
    "* It can be used to model almost any series of calculations\n",
    "* It typically is used to build DNNs, but can be used to build almost any model\n",
    "\n",
    "#### Pros\n",
    "* Powerful and flexible\n",
    "* Can build almost anything\n",
    "\n",
    "#### Cons\n",
    "* High-learning cuve\n",
    "* Little done for you\n",
    "\n",
    "#### Hardware, software, and language requirements\n",
    "* TensorFlow has different hardware and software requirements for the development phase and the runtime phase\n",
    "    * **Development phase:**\n",
    "        * When you are coding and training an NN\n",
    "        * This is usually done on your own computer\n",
    "    * **Runtime (or inference) phase:**\n",
    "        * When you are making predictions with a trained NN\n",
    "        * This may be done on your own computer, on a cloud server, or on a user's computer or mobile device\n",
    "        \n",
    "#### Development phase requirements\n",
    "* Windows, macOS, or Linux\n",
    "* Can use multiple Linux computers (locally or in the cloud) for very large projects\n",
    "\n",
    "#### Runtime phase supports\n",
    "* Computers running Windows, macOS, or Linux\n",
    "* Linux servers running TensorFlow Serving\n",
    "* Google's Cloud Machine Learning Engine service\n",
    "* iOS or Android mobile apps\n",
    "\n",
    "\n",
    "* **The flexibility to run the same machine learning model on many different platforms is one of the best features of TensorFlow\n",
    "\n",
    "#### GPU Acceleration\n",
    "* TensorFlow can take advantage of video cards with GPUs, like NVIDIA-brand GPUs (graphic processing units) to speed up training\n",
    "* GPUs are chips originally to speed up 3D video games but they are also good at the algebraic calculations needed to train neural networks\n",
    "* GPUs can greatly decrease NN training times for large neural networks\n",
    "* In fact, deep learning is only possible because GPUs let us train large neural networks in a reasonable amount of time \n",
    "* Keep in mind that TensorFlow **only supports NVIDIA-brand GPUs**.\n",
    "* We won't be using a GPU in this course, but keep in mind that having one is helpful when working on large projects."
   ]
  },
  {
   "cell_type": "markdown",
   "id": "b523cdae",
   "metadata": {},
   "source": []
  },
  {
   "cell_type": "markdown",
   "id": "7869fb09",
   "metadata": {},
   "source": []
  },
  {
   "cell_type": "markdown",
   "id": "77e45b9d",
   "metadata": {},
   "source": []
  },
  {
   "cell_type": "markdown",
   "id": "9e57c5cd",
   "metadata": {},
   "source": []
  },
  {
   "cell_type": "markdown",
   "id": "d4a9c4e4",
   "metadata": {},
   "source": []
  },
  {
   "cell_type": "markdown",
   "id": "20a43d3e",
   "metadata": {},
   "source": []
  },
  {
   "cell_type": "markdown",
   "id": "66b7ac6c",
   "metadata": {},
   "source": []
  },
  {
   "cell_type": "markdown",
   "id": "ebccfb28",
   "metadata": {},
   "source": []
  },
  {
   "cell_type": "markdown",
   "id": "fa3a831e",
   "metadata": {},
   "source": []
  },
  {
   "cell_type": "markdown",
   "id": "3b8c3f43",
   "metadata": {},
   "source": []
  },
  {
   "cell_type": "markdown",
   "id": "25a5b511",
   "metadata": {},
   "source": []
  },
  {
   "cell_type": "markdown",
   "id": "fbc4bf21",
   "metadata": {},
   "source": []
  },
  {
   "cell_type": "markdown",
   "id": "0431a05e",
   "metadata": {},
   "source": []
  },
  {
   "cell_type": "markdown",
   "id": "2603acaf",
   "metadata": {},
   "source": []
  },
  {
   "cell_type": "markdown",
   "id": "41fc0dc8",
   "metadata": {},
   "source": []
  },
  {
   "cell_type": "markdown",
   "id": "b5f2791e",
   "metadata": {},
   "source": []
  },
  {
   "cell_type": "markdown",
   "id": "35ae645d",
   "metadata": {},
   "source": []
  },
  {
   "cell_type": "markdown",
   "id": "30cc7423",
   "metadata": {},
   "source": []
  },
  {
   "cell_type": "markdown",
   "id": "b4887790",
   "metadata": {},
   "source": []
  },
  {
   "cell_type": "markdown",
   "id": "50e34ed9",
   "metadata": {},
   "source": [
    "<img src='data/tensor1.png' width=\"600\" height=\"300\" align=\"center\"/>"
   ]
  }
 ],
 "metadata": {
  "kernelspec": {
   "display_name": "Python 3.8 (tensorflow)",
   "language": "python",
   "name": "tensorflow"
  },
  "language_info": {
   "codemirror_mode": {
    "name": "ipython",
    "version": 3
   },
   "file_extension": ".py",
   "mimetype": "text/x-python",
   "name": "python",
   "nbconvert_exporter": "python",
   "pygments_lexer": "ipython3",
   "version": "3.8.12"
  }
 },
 "nbformat": 4,
 "nbformat_minor": 5
}
