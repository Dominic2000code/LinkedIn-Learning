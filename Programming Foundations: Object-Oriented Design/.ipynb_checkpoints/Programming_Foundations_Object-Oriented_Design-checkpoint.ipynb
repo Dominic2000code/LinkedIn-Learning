{
 "cells": [
  {
   "cell_type": "markdown",
   "id": "ff54f96b",
   "metadata": {},
   "source": [
    "# Programming Foundations: Object-Oriented Design \n",
    "**Instructors:** Barron Stone and Olivia Chiu Stone\n",
    "\n",
    "All good software starts with a great design. Object-oriented design helps developers plan applications before they write a single line of code, and break down ideas into reusable and maintainable components. This course focuses on the foundational concepts, teaching them in a fun, interactive way to help you quickly develop your skills. Tag team Olivia and Barron Stone introduce you to the concepts and terms—objects, classes, abstraction, inheritance, and more—that you need to get started. They then show how to take the requirements for an app, identify use cases, and map out classes using Universal Modeling Language (UML). The final design can then be translated into code using one of the many popular object-oriented programming languages, such as Java, C#, Ruby, or Python."
   ]
  },
  {
   "cell_type": "markdown",
   "id": "d099be95",
   "metadata": {},
   "source": [
    "#### Some types of programming language paradigms\n",
    "- Object-Oriented Design\n",
    "- Procedural Programming\n",
    "- Logic Programming Languages $\\Rightarrow$ Tend to live in very specialized environments\n",
    "    - Prolog\n",
    "- Functional Programming Languages $\\Rightarrow$ Tend to live in very specialized environments\n",
    "    - Haskell"
   ]
  },
  {
   "cell_type": "code",
   "execution_count": null,
   "id": "d8504bc1",
   "metadata": {},
   "outputs": [],
   "source": []
  }
 ],
 "metadata": {
  "kernelspec": {
   "display_name": "Python 3",
   "language": "python",
   "name": "python3"
  },
  "language_info": {
   "codemirror_mode": {
    "name": "ipython",
    "version": 3
   },
   "file_extension": ".py",
   "mimetype": "text/x-python",
   "name": "python",
   "nbconvert_exporter": "python",
   "pygments_lexer": "ipython3",
   "version": "3.8.8"
  }
 },
 "nbformat": 4,
 "nbformat_minor": 5
}
