{
 "cells": [
  {
   "cell_type": "markdown",
   "id": "5c525c7a",
   "metadata": {},
   "source": [
    "# Programming Foundations: Object-Oriented Design \n",
    "**Instructors:** Barron Stone and Olivia Chiu Stone\n",
    "\n",
    "All good software starts with a great design. Object-oriented design helps developers plan applications before they write a single line of code, and break down ideas into reusable and maintainable components. This course focuses on the foundational concepts, teaching them in a fun, interactive way to help you quickly develop your skills. Tag team Olivia and Barron Stone introduce you to the concepts and terms—objects, classes, abstraction, inheritance, and more—that you need to get started. They then show how to take the requirements for an app, identify use cases, and map out classes using Universal Modeling Language (UML). The final design can then be translated into code using one of the many popular object-oriented programming languages, such as Java, C#, Ruby, or Python."
   ]
  },
  {
   "cell_type": "markdown",
   "id": "8e813cb3",
   "metadata": {},
   "source": [
    "# 1. Object-oriented Fundamentals\n",
    "\n",
    "#### Some types of programming language paradigms\n",
    "- Object-Oriented Design\n",
    "- Procedural Programming\n",
    "- Logic Programming Languages $\\Rightarrow$ Tend to live in very specialized environments\n",
    "    - Prolog\n",
    "- Functional Programming Languages $\\Rightarrow$ Tend to live in very specialized environments\n",
    "    - Haskell\n",
    "- Object-Oriented Programming Languages (many of the examples below support multiple paradigms, meaning you can use them in an object-oriented way or in a procedural way, etc).\n",
    "    - C#\n",
    "    - C++\n",
    "    - Go\n",
    "    - Java\n",
    "    - JavaScript\n",
    "    - Python\n",
    "    - R\n",
    "    - Ruby\n",
    "    - Swift\n",
    "    - VB.NET\n",
    "    - many more\n",
    "    \n",
    "#### All objects have:\n",
    "   - **Identity:** Olivia's coffee mug\n",
    "   - **Attributes:** color, size, fullness\n",
    "   - **Behaviors:** fill(), empty(), clean()\n",
    "- Every object in a computer program is self-contained, so it has its own identity separate from other objects, its own attributes to describe its current state, and its own behaviors."
   ]
  },
  {
   "cell_type": "code",
   "execution_count": null,
   "id": "30b10998",
   "metadata": {},
   "outputs": [],
   "source": []
  },
  {
   "cell_type": "code",
   "execution_count": 73,
   "id": "94d2c99c",
   "metadata": {},
   "outputs": [],
   "source": [
    "corpus = ['food bad',  \n",
    "          'bad service bad food',  \n",
    "          'food good',  \n",
    "          'good service good food.',  \n",
    "          'service bad food good.'\n",
    "         ]"
   ]
  },
  {
   "cell_type": "code",
   "execution_count": 74,
   "id": "34831a0b",
   "metadata": {},
   "outputs": [],
   "source": [
    "from sklearn.feature_extraction.text import TfidfVectorizer"
   ]
  },
  {
   "cell_type": "code",
   "execution_count": 75,
   "id": "5c473ac0",
   "metadata": {},
   "outputs": [],
   "source": [
    "tf_idf = TfidfVectorizer()"
   ]
  },
  {
   "cell_type": "code",
   "execution_count": 76,
   "id": "d094a120",
   "metadata": {},
   "outputs": [],
   "source": [
    "vectors = tf_idf.fit_transform(corpus)"
   ]
  },
  {
   "cell_type": "code",
   "execution_count": 78,
   "id": "ee5352d0",
   "metadata": {},
   "outputs": [
    {
     "name": "stdout",
     "output_type": "stream",
     "text": [
      "  (0, 0)\t0.8148024746671689\n",
      "  (0, 1)\t0.5797386715376657\n",
      "  (1, 3)\t0.42615959880289433\n",
      "  (1, 0)\t0.8523191976057887\n",
      "  (1, 1)\t0.3032160644503863\n",
      "  (2, 2)\t0.8148024746671689\n",
      "  (2, 1)\t0.5797386715376657\n",
      "  (3, 2)\t0.8523191976057887\n",
      "  (3, 3)\t0.42615959880289433\n",
      "  (3, 1)\t0.3032160644503863\n",
      "  (4, 2)\t0.534046329052269\n",
      "  (4, 3)\t0.534046329052269\n",
      "  (4, 0)\t0.534046329052269\n",
      "  (4, 1)\t0.37997836159100784\n"
     ]
    }
   ],
   "source": [
    "print(vectors)"
   ]
  },
  {
   "cell_type": "code",
   "execution_count": 80,
   "id": "4237f5e5",
   "metadata": {},
   "outputs": [
    {
     "data": {
      "text/plain": [
       "<5x4 sparse matrix of type '<class 'numpy.float64'>'\n",
       "\twith 14 stored elements in Compressed Sparse Row format>"
      ]
     },
     "execution_count": 80,
     "metadata": {},
     "output_type": "execute_result"
    }
   ],
   "source": [
    "vectors"
   ]
  },
  {
   "cell_type": "code",
   "execution_count": null,
   "id": "1ef1807e",
   "metadata": {},
   "outputs": [],
   "source": []
  }
 ],
 "metadata": {
  "kernelspec": {
   "display_name": "Python 3",
   "language": "python",
   "name": "python3"
  },
  "language_info": {
   "codemirror_mode": {
    "name": "ipython",
    "version": 3
   },
   "file_extension": ".py",
   "mimetype": "text/x-python",
   "name": "python",
   "nbconvert_exporter": "python",
   "pygments_lexer": "ipython3",
   "version": "3.8.8"
  }
 },
 "nbformat": 4,
 "nbformat_minor": 5
}
